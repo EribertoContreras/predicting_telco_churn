{
 "cells": [
  {
   "cell_type": "code",
   "execution_count": 1,
   "id": "24efcda9",
   "metadata": {},
   "outputs": [],
   "source": [
    "import numpy as np\n",
    "import seaborn as sns\n",
    "import scipy.stats as stats\n",
    "import pandas as pd\n",
    "import matplotlib.pyplot as plt\n",
    "import env\n",
    "from pydataset import data\n",
    "import scipy\n",
    "import os\n",
    "from sklearn.model_selection import train_test_split\n",
    "# turn off pink boxes for demo\n",
    "from sklearn.tree import DecisionTreeClassifier, plot_tree\n",
    "from sklearn.metrics import classification_report\n",
    "from sklearn.metrics import confusion_matrix\n",
    "from sklearn.ensemble import RandomForestClassifier\n",
    "from sklearn.neighbors import KNeighborsClassifier\n",
    "from sklearn.linear_model import LogisticRegression\n",
    "import warnings\n",
    "warnings.filterwarnings(\"ignore\")\n",
    "\n",
    "# import our own acquire module\n",
    "from acquire import get_telco_data\n",
    "from prepare import split_telco_data\n",
    "from prepare import prep_telco"
   ]
  },
  {
   "cell_type": "markdown",
   "id": "d6989713",
   "metadata": {},
   "source": [
    "## Telco Data set is now defined as DF"
   ]
  },
  {
   "cell_type": "markdown",
   "id": "53f01e4d",
   "metadata": {},
   "source": [
    "# Plan\n",
    "\n",
    "### SUMMARY\n",
    "\n",
    "Codeup Data Science Team has requested a further exploration & understanding into Churn in the Telco Data set.\n",
    "\n",
    "They have requested that we find drivers for customer churn at Telco. Why are customers churning?\n",
    "\n",
    "1) what are the main drivers of churn?\n",
    "\n",
    "2) follow the bread crums that drive churn and make visuals?\n",
    "\n",
    "3) what services have the highest churn levels?\n",
    "\n",
    "### GOALS\n",
    "\n",
    "Project goals:\n",
    "\n",
    "1) Identify Churn drivers \n",
    "\n",
    "2) Creating a detailed Readme.md file to guide the reader into a further analysis of the data.\n",
    "\n",
    "3) a CSV file that predicts churn.\n",
    "\n",
    "4) .py files that go into detail with how the data was prepared and cut."
   ]
  },
  {
   "cell_type": "markdown",
   "id": "7e028fb0",
   "metadata": {},
   "source": [
    "### ACQUIRE"
   ]
  },
  {
   "cell_type": "code",
   "execution_count": 2,
   "id": "5073352d",
   "metadata": {},
   "outputs": [
    {
     "data": {
      "text/html": [
       "<div>\n",
       "<style scoped>\n",
       "    .dataframe tbody tr th:only-of-type {\n",
       "        vertical-align: middle;\n",
       "    }\n",
       "\n",
       "    .dataframe tbody tr th {\n",
       "        vertical-align: top;\n",
       "    }\n",
       "\n",
       "    .dataframe thead th {\n",
       "        text-align: right;\n",
       "    }\n",
       "</style>\n",
       "<table border=\"1\" class=\"dataframe\">\n",
       "  <thead>\n",
       "    <tr style=\"text-align: right;\">\n",
       "      <th></th>\n",
       "      <th>internet_service_type_id</th>\n",
       "      <th>payment_type_id</th>\n",
       "      <th>contract_type_id</th>\n",
       "      <th>customer_id</th>\n",
       "      <th>gender</th>\n",
       "      <th>senior_citizen</th>\n",
       "      <th>partner</th>\n",
       "      <th>dependents</th>\n",
       "      <th>tenure</th>\n",
       "      <th>phone_service</th>\n",
       "      <th>...</th>\n",
       "      <th>tech_support</th>\n",
       "      <th>streaming_tv</th>\n",
       "      <th>streaming_movies</th>\n",
       "      <th>paperless_billing</th>\n",
       "      <th>monthly_charges</th>\n",
       "      <th>total_charges</th>\n",
       "      <th>churn</th>\n",
       "      <th>contract_type</th>\n",
       "      <th>payment_type</th>\n",
       "      <th>internet_service_type</th>\n",
       "    </tr>\n",
       "  </thead>\n",
       "  <tbody>\n",
       "    <tr>\n",
       "      <th>0</th>\n",
       "      <td>1</td>\n",
       "      <td>2</td>\n",
       "      <td>2</td>\n",
       "      <td>0002-ORFBO</td>\n",
       "      <td>Female</td>\n",
       "      <td>0</td>\n",
       "      <td>Yes</td>\n",
       "      <td>Yes</td>\n",
       "      <td>9</td>\n",
       "      <td>Yes</td>\n",
       "      <td>...</td>\n",
       "      <td>Yes</td>\n",
       "      <td>Yes</td>\n",
       "      <td>No</td>\n",
       "      <td>Yes</td>\n",
       "      <td>65.6</td>\n",
       "      <td>593.3</td>\n",
       "      <td>No</td>\n",
       "      <td>One year</td>\n",
       "      <td>Mailed check</td>\n",
       "      <td>DSL</td>\n",
       "    </tr>\n",
       "    <tr>\n",
       "      <th>1</th>\n",
       "      <td>1</td>\n",
       "      <td>2</td>\n",
       "      <td>1</td>\n",
       "      <td>0003-MKNFE</td>\n",
       "      <td>Male</td>\n",
       "      <td>0</td>\n",
       "      <td>No</td>\n",
       "      <td>No</td>\n",
       "      <td>9</td>\n",
       "      <td>Yes</td>\n",
       "      <td>...</td>\n",
       "      <td>No</td>\n",
       "      <td>No</td>\n",
       "      <td>Yes</td>\n",
       "      <td>No</td>\n",
       "      <td>59.9</td>\n",
       "      <td>542.4</td>\n",
       "      <td>No</td>\n",
       "      <td>Month-to-month</td>\n",
       "      <td>Mailed check</td>\n",
       "      <td>DSL</td>\n",
       "    </tr>\n",
       "    <tr>\n",
       "      <th>2</th>\n",
       "      <td>2</td>\n",
       "      <td>1</td>\n",
       "      <td>1</td>\n",
       "      <td>0004-TLHLJ</td>\n",
       "      <td>Male</td>\n",
       "      <td>0</td>\n",
       "      <td>No</td>\n",
       "      <td>No</td>\n",
       "      <td>4</td>\n",
       "      <td>Yes</td>\n",
       "      <td>...</td>\n",
       "      <td>No</td>\n",
       "      <td>No</td>\n",
       "      <td>No</td>\n",
       "      <td>Yes</td>\n",
       "      <td>73.9</td>\n",
       "      <td>280.85</td>\n",
       "      <td>Yes</td>\n",
       "      <td>Month-to-month</td>\n",
       "      <td>Electronic check</td>\n",
       "      <td>Fiber optic</td>\n",
       "    </tr>\n",
       "    <tr>\n",
       "      <th>3</th>\n",
       "      <td>2</td>\n",
       "      <td>1</td>\n",
       "      <td>1</td>\n",
       "      <td>0011-IGKFF</td>\n",
       "      <td>Male</td>\n",
       "      <td>1</td>\n",
       "      <td>Yes</td>\n",
       "      <td>No</td>\n",
       "      <td>13</td>\n",
       "      <td>Yes</td>\n",
       "      <td>...</td>\n",
       "      <td>No</td>\n",
       "      <td>Yes</td>\n",
       "      <td>Yes</td>\n",
       "      <td>Yes</td>\n",
       "      <td>98.0</td>\n",
       "      <td>1237.85</td>\n",
       "      <td>Yes</td>\n",
       "      <td>Month-to-month</td>\n",
       "      <td>Electronic check</td>\n",
       "      <td>Fiber optic</td>\n",
       "    </tr>\n",
       "    <tr>\n",
       "      <th>4</th>\n",
       "      <td>2</td>\n",
       "      <td>2</td>\n",
       "      <td>1</td>\n",
       "      <td>0013-EXCHZ</td>\n",
       "      <td>Female</td>\n",
       "      <td>1</td>\n",
       "      <td>Yes</td>\n",
       "      <td>No</td>\n",
       "      <td>3</td>\n",
       "      <td>Yes</td>\n",
       "      <td>...</td>\n",
       "      <td>Yes</td>\n",
       "      <td>Yes</td>\n",
       "      <td>No</td>\n",
       "      <td>Yes</td>\n",
       "      <td>83.9</td>\n",
       "      <td>267.4</td>\n",
       "      <td>Yes</td>\n",
       "      <td>Month-to-month</td>\n",
       "      <td>Mailed check</td>\n",
       "      <td>Fiber optic</td>\n",
       "    </tr>\n",
       "  </tbody>\n",
       "</table>\n",
       "<p>5 rows × 24 columns</p>\n",
       "</div>"
      ],
      "text/plain": [
       "   internet_service_type_id  payment_type_id  contract_type_id customer_id  \\\n",
       "0                         1                2                 2  0002-ORFBO   \n",
       "1                         1                2                 1  0003-MKNFE   \n",
       "2                         2                1                 1  0004-TLHLJ   \n",
       "3                         2                1                 1  0011-IGKFF   \n",
       "4                         2                2                 1  0013-EXCHZ   \n",
       "\n",
       "   gender  senior_citizen partner dependents  tenure phone_service  ...  \\\n",
       "0  Female               0     Yes        Yes       9           Yes  ...   \n",
       "1    Male               0      No         No       9           Yes  ...   \n",
       "2    Male               0      No         No       4           Yes  ...   \n",
       "3    Male               1     Yes         No      13           Yes  ...   \n",
       "4  Female               1     Yes         No       3           Yes  ...   \n",
       "\n",
       "  tech_support streaming_tv streaming_movies paperless_billing  \\\n",
       "0          Yes          Yes               No               Yes   \n",
       "1           No           No              Yes                No   \n",
       "2           No           No               No               Yes   \n",
       "3           No          Yes              Yes               Yes   \n",
       "4          Yes          Yes               No               Yes   \n",
       "\n",
       "  monthly_charges total_charges churn   contract_type      payment_type  \\\n",
       "0            65.6         593.3    No        One year      Mailed check   \n",
       "1            59.9         542.4    No  Month-to-month      Mailed check   \n",
       "2            73.9        280.85   Yes  Month-to-month  Electronic check   \n",
       "3            98.0       1237.85   Yes  Month-to-month  Electronic check   \n",
       "4            83.9         267.4   Yes  Month-to-month      Mailed check   \n",
       "\n",
       "  internet_service_type  \n",
       "0                   DSL  \n",
       "1                   DSL  \n",
       "2           Fiber optic  \n",
       "3           Fiber optic  \n",
       "4           Fiber optic  \n",
       "\n",
       "[5 rows x 24 columns]"
      ]
     },
     "execution_count": 2,
     "metadata": {},
     "output_type": "execute_result"
    }
   ],
   "source": [
    "df = get_telco_data()\n",
    "df.head()"
   ]
  },
  {
   "cell_type": "code",
   "execution_count": 3,
   "id": "04234a9f",
   "metadata": {},
   "outputs": [
    {
     "data": {
      "text/html": [
       "<div>\n",
       "<style scoped>\n",
       "    .dataframe tbody tr th:only-of-type {\n",
       "        vertical-align: middle;\n",
       "    }\n",
       "\n",
       "    .dataframe tbody tr th {\n",
       "        vertical-align: top;\n",
       "    }\n",
       "\n",
       "    .dataframe thead th {\n",
       "        text-align: right;\n",
       "    }\n",
       "</style>\n",
       "<table border=\"1\" class=\"dataframe\">\n",
       "  <thead>\n",
       "    <tr style=\"text-align: right;\">\n",
       "      <th></th>\n",
       "      <th>internet_service_type_id</th>\n",
       "      <th>payment_type_id</th>\n",
       "      <th>contract_type_id</th>\n",
       "      <th>customer_id</th>\n",
       "      <th>gender</th>\n",
       "      <th>senior_citizen</th>\n",
       "      <th>dependents</th>\n",
       "      <th>tenure</th>\n",
       "      <th>multiple_lines</th>\n",
       "      <th>tech_support</th>\n",
       "      <th>...</th>\n",
       "      <th>total_charges</th>\n",
       "      <th>churn</th>\n",
       "      <th>gender_Male</th>\n",
       "      <th>dependents_Yes</th>\n",
       "      <th>multiple_lines_No phone service</th>\n",
       "      <th>multiple_lines_Yes</th>\n",
       "      <th>tech_support_No internet service</th>\n",
       "      <th>tech_support_Yes</th>\n",
       "      <th>paperless_billing_Yes</th>\n",
       "      <th>churn_Yes</th>\n",
       "    </tr>\n",
       "  </thead>\n",
       "  <tbody>\n",
       "    <tr>\n",
       "      <th>5919</th>\n",
       "      <td>1</td>\n",
       "      <td>4</td>\n",
       "      <td>2</td>\n",
       "      <td>8331-ZXFOE</td>\n",
       "      <td>Female</td>\n",
       "      <td>0</td>\n",
       "      <td>No</td>\n",
       "      <td>58</td>\n",
       "      <td>Yes</td>\n",
       "      <td>Yes</td>\n",
       "      <td>...</td>\n",
       "      <td>4299.20</td>\n",
       "      <td>No</td>\n",
       "      <td>0</td>\n",
       "      <td>0</td>\n",
       "      <td>0</td>\n",
       "      <td>1</td>\n",
       "      <td>0</td>\n",
       "      <td>1</td>\n",
       "      <td>1</td>\n",
       "      <td>0</td>\n",
       "    </tr>\n",
       "    <tr>\n",
       "      <th>1915</th>\n",
       "      <td>2</td>\n",
       "      <td>4</td>\n",
       "      <td>2</td>\n",
       "      <td>2790-XUYMV</td>\n",
       "      <td>Male</td>\n",
       "      <td>0</td>\n",
       "      <td>Yes</td>\n",
       "      <td>71</td>\n",
       "      <td>Yes</td>\n",
       "      <td>No</td>\n",
       "      <td>...</td>\n",
       "      <td>6028.95</td>\n",
       "      <td>No</td>\n",
       "      <td>1</td>\n",
       "      <td>1</td>\n",
       "      <td>0</td>\n",
       "      <td>1</td>\n",
       "      <td>0</td>\n",
       "      <td>0</td>\n",
       "      <td>1</td>\n",
       "      <td>0</td>\n",
       "    </tr>\n",
       "    <tr>\n",
       "      <th>5054</th>\n",
       "      <td>3</td>\n",
       "      <td>1</td>\n",
       "      <td>1</td>\n",
       "      <td>7107-UBYKY</td>\n",
       "      <td>Female</td>\n",
       "      <td>0</td>\n",
       "      <td>Yes</td>\n",
       "      <td>35</td>\n",
       "      <td>Yes</td>\n",
       "      <td>No internet service</td>\n",
       "      <td>...</td>\n",
       "      <td>882.55</td>\n",
       "      <td>No</td>\n",
       "      <td>0</td>\n",
       "      <td>1</td>\n",
       "      <td>0</td>\n",
       "      <td>1</td>\n",
       "      <td>1</td>\n",
       "      <td>0</td>\n",
       "      <td>1</td>\n",
       "      <td>0</td>\n",
       "    </tr>\n",
       "    <tr>\n",
       "      <th>2355</th>\n",
       "      <td>3</td>\n",
       "      <td>2</td>\n",
       "      <td>1</td>\n",
       "      <td>3373-YZZYM</td>\n",
       "      <td>Male</td>\n",
       "      <td>0</td>\n",
       "      <td>Yes</td>\n",
       "      <td>1</td>\n",
       "      <td>No</td>\n",
       "      <td>No internet service</td>\n",
       "      <td>...</td>\n",
       "      <td>19.20</td>\n",
       "      <td>No</td>\n",
       "      <td>1</td>\n",
       "      <td>1</td>\n",
       "      <td>0</td>\n",
       "      <td>0</td>\n",
       "      <td>1</td>\n",
       "      <td>0</td>\n",
       "      <td>0</td>\n",
       "      <td>0</td>\n",
       "    </tr>\n",
       "    <tr>\n",
       "      <th>6279</th>\n",
       "      <td>1</td>\n",
       "      <td>2</td>\n",
       "      <td>2</td>\n",
       "      <td>8883-GRDWQ</td>\n",
       "      <td>Male</td>\n",
       "      <td>1</td>\n",
       "      <td>No</td>\n",
       "      <td>20</td>\n",
       "      <td>No</td>\n",
       "      <td>Yes</td>\n",
       "      <td>...</td>\n",
       "      <td>1055.90</td>\n",
       "      <td>No</td>\n",
       "      <td>1</td>\n",
       "      <td>0</td>\n",
       "      <td>0</td>\n",
       "      <td>0</td>\n",
       "      <td>0</td>\n",
       "      <td>1</td>\n",
       "      <td>0</td>\n",
       "      <td>0</td>\n",
       "    </tr>\n",
       "    <tr>\n",
       "      <th>...</th>\n",
       "      <td>...</td>\n",
       "      <td>...</td>\n",
       "      <td>...</td>\n",
       "      <td>...</td>\n",
       "      <td>...</td>\n",
       "      <td>...</td>\n",
       "      <td>...</td>\n",
       "      <td>...</td>\n",
       "      <td>...</td>\n",
       "      <td>...</td>\n",
       "      <td>...</td>\n",
       "      <td>...</td>\n",
       "      <td>...</td>\n",
       "      <td>...</td>\n",
       "      <td>...</td>\n",
       "      <td>...</td>\n",
       "      <td>...</td>\n",
       "      <td>...</td>\n",
       "      <td>...</td>\n",
       "      <td>...</td>\n",
       "      <td>...</td>\n",
       "    </tr>\n",
       "    <tr>\n",
       "      <th>394</th>\n",
       "      <td>2</td>\n",
       "      <td>4</td>\n",
       "      <td>1</td>\n",
       "      <td>0581-MDMPW</td>\n",
       "      <td>Female</td>\n",
       "      <td>0</td>\n",
       "      <td>No</td>\n",
       "      <td>24</td>\n",
       "      <td>Yes</td>\n",
       "      <td>No</td>\n",
       "      <td>...</td>\n",
       "      <td>2072.75</td>\n",
       "      <td>No</td>\n",
       "      <td>0</td>\n",
       "      <td>0</td>\n",
       "      <td>0</td>\n",
       "      <td>1</td>\n",
       "      <td>0</td>\n",
       "      <td>0</td>\n",
       "      <td>1</td>\n",
       "      <td>0</td>\n",
       "    </tr>\n",
       "    <tr>\n",
       "      <th>3763</th>\n",
       "      <td>2</td>\n",
       "      <td>1</td>\n",
       "      <td>1</td>\n",
       "      <td>5299-RULOA</td>\n",
       "      <td>Female</td>\n",
       "      <td>0</td>\n",
       "      <td>Yes</td>\n",
       "      <td>10</td>\n",
       "      <td>Yes</td>\n",
       "      <td>No</td>\n",
       "      <td>...</td>\n",
       "      <td>1064.65</td>\n",
       "      <td>Yes</td>\n",
       "      <td>0</td>\n",
       "      <td>1</td>\n",
       "      <td>0</td>\n",
       "      <td>1</td>\n",
       "      <td>0</td>\n",
       "      <td>0</td>\n",
       "      <td>1</td>\n",
       "      <td>1</td>\n",
       "    </tr>\n",
       "    <tr>\n",
       "      <th>3444</th>\n",
       "      <td>3</td>\n",
       "      <td>4</td>\n",
       "      <td>3</td>\n",
       "      <td>4883-KCPZJ</td>\n",
       "      <td>Female</td>\n",
       "      <td>0</td>\n",
       "      <td>Yes</td>\n",
       "      <td>22</td>\n",
       "      <td>Yes</td>\n",
       "      <td>No internet service</td>\n",
       "      <td>...</td>\n",
       "      <td>555.40</td>\n",
       "      <td>No</td>\n",
       "      <td>0</td>\n",
       "      <td>1</td>\n",
       "      <td>0</td>\n",
       "      <td>1</td>\n",
       "      <td>1</td>\n",
       "      <td>0</td>\n",
       "      <td>0</td>\n",
       "      <td>0</td>\n",
       "    </tr>\n",
       "    <tr>\n",
       "      <th>1002</th>\n",
       "      <td>2</td>\n",
       "      <td>4</td>\n",
       "      <td>1</td>\n",
       "      <td>1452-KIOVK</td>\n",
       "      <td>Male</td>\n",
       "      <td>0</td>\n",
       "      <td>Yes</td>\n",
       "      <td>22</td>\n",
       "      <td>Yes</td>\n",
       "      <td>No</td>\n",
       "      <td>...</td>\n",
       "      <td>1949.40</td>\n",
       "      <td>No</td>\n",
       "      <td>1</td>\n",
       "      <td>1</td>\n",
       "      <td>0</td>\n",
       "      <td>1</td>\n",
       "      <td>0</td>\n",
       "      <td>0</td>\n",
       "      <td>1</td>\n",
       "      <td>0</td>\n",
       "    </tr>\n",
       "    <tr>\n",
       "      <th>4192</th>\n",
       "      <td>3</td>\n",
       "      <td>2</td>\n",
       "      <td>1</td>\n",
       "      <td>5919-VCZYM</td>\n",
       "      <td>Male</td>\n",
       "      <td>0</td>\n",
       "      <td>No</td>\n",
       "      <td>2</td>\n",
       "      <td>No</td>\n",
       "      <td>No internet service</td>\n",
       "      <td>...</td>\n",
       "      <td>42.70</td>\n",
       "      <td>No</td>\n",
       "      <td>1</td>\n",
       "      <td>0</td>\n",
       "      <td>0</td>\n",
       "      <td>0</td>\n",
       "      <td>1</td>\n",
       "      <td>0</td>\n",
       "      <td>0</td>\n",
       "      <td>0</td>\n",
       "    </tr>\n",
       "  </tbody>\n",
       "</table>\n",
       "<p>3937 rows × 22 columns</p>\n",
       "</div>"
      ],
      "text/plain": [
       "      internet_service_type_id  payment_type_id  contract_type_id customer_id  \\\n",
       "5919                         1                4                 2  8331-ZXFOE   \n",
       "1915                         2                4                 2  2790-XUYMV   \n",
       "5054                         3                1                 1  7107-UBYKY   \n",
       "2355                         3                2                 1  3373-YZZYM   \n",
       "6279                         1                2                 2  8883-GRDWQ   \n",
       "...                        ...              ...               ...         ...   \n",
       "394                          2                4                 1  0581-MDMPW   \n",
       "3763                         2                1                 1  5299-RULOA   \n",
       "3444                         3                4                 3  4883-KCPZJ   \n",
       "1002                         2                4                 1  1452-KIOVK   \n",
       "4192                         3                2                 1  5919-VCZYM   \n",
       "\n",
       "      gender  senior_citizen dependents  tenure multiple_lines  \\\n",
       "5919  Female               0         No      58            Yes   \n",
       "1915    Male               0        Yes      71            Yes   \n",
       "5054  Female               0        Yes      35            Yes   \n",
       "2355    Male               0        Yes       1             No   \n",
       "6279    Male               1         No      20             No   \n",
       "...      ...             ...        ...     ...            ...   \n",
       "394   Female               0         No      24            Yes   \n",
       "3763  Female               0        Yes      10            Yes   \n",
       "3444  Female               0        Yes      22            Yes   \n",
       "1002    Male               0        Yes      22            Yes   \n",
       "4192    Male               0         No       2             No   \n",
       "\n",
       "             tech_support  ... total_charges  churn  gender_Male  \\\n",
       "5919                  Yes  ...       4299.20     No            0   \n",
       "1915                   No  ...       6028.95     No            1   \n",
       "5054  No internet service  ...        882.55     No            0   \n",
       "2355  No internet service  ...         19.20     No            1   \n",
       "6279                  Yes  ...       1055.90     No            1   \n",
       "...                   ...  ...           ...    ...          ...   \n",
       "394                    No  ...       2072.75     No            0   \n",
       "3763                   No  ...       1064.65    Yes            0   \n",
       "3444  No internet service  ...        555.40     No            0   \n",
       "1002                   No  ...       1949.40     No            1   \n",
       "4192  No internet service  ...         42.70     No            1   \n",
       "\n",
       "     dependents_Yes  multiple_lines_No phone service  multiple_lines_Yes  \\\n",
       "5919              0                                0                   1   \n",
       "1915              1                                0                   1   \n",
       "5054              1                                0                   1   \n",
       "2355              1                                0                   0   \n",
       "6279              0                                0                   0   \n",
       "...             ...                              ...                 ...   \n",
       "394               0                                0                   1   \n",
       "3763              1                                0                   1   \n",
       "3444              1                                0                   1   \n",
       "1002              1                                0                   1   \n",
       "4192              0                                0                   0   \n",
       "\n",
       "      tech_support_No internet service  tech_support_Yes  \\\n",
       "5919                                 0                 1   \n",
       "1915                                 0                 0   \n",
       "5054                                 1                 0   \n",
       "2355                                 1                 0   \n",
       "6279                                 0                 1   \n",
       "...                                ...               ...   \n",
       "394                                  0                 0   \n",
       "3763                                 0                 0   \n",
       "3444                                 1                 0   \n",
       "1002                                 0                 0   \n",
       "4192                                 1                 0   \n",
       "\n",
       "      paperless_billing_Yes  churn_Yes  \n",
       "5919                      1          0  \n",
       "1915                      1          0  \n",
       "5054                      1          0  \n",
       "2355                      0          0  \n",
       "6279                      0          0  \n",
       "...                     ...        ...  \n",
       "394                       1          0  \n",
       "3763                      1          1  \n",
       "3444                      0          0  \n",
       "1002                      1          0  \n",
       "4192                      0          0  \n",
       "\n",
       "[3937 rows x 22 columns]"
      ]
     },
     "execution_count": 3,
     "metadata": {},
     "output_type": "execute_result"
    }
   ],
   "source": [
    "train, validate, test = prep_telco(df)\n",
    "train"
   ]
  },
  {
   "cell_type": "markdown",
   "id": "97e0106e",
   "metadata": {},
   "source": [
    "# Prepare\n",
    "\n",
    "## Preparing data\n",
    "\n",
    "#### Using functions from prepare.py\n",
    "\n",
    "- we have removed the null values \n",
    "- replaced yes and no values with 1 and 0 for the data to be processed and analized correctly \n",
    "- data from internet, service and payment type have been transformed and defined below\n",
    "- data has also been split for testing and statistical predcitions "
   ]
  },
  {
   "cell_type": "markdown",
   "id": "2eaef7db",
   "metadata": {},
   "source": [
    "### Gender to gender_Male: 1 = Male, 0 = Female"
   ]
  },
  {
   "cell_type": "code",
   "execution_count": 4,
   "id": "95bff9b9",
   "metadata": {},
   "outputs": [
    {
     "data": {
      "text/html": [
       "<div>\n",
       "<style scoped>\n",
       "    .dataframe tbody tr th:only-of-type {\n",
       "        vertical-align: middle;\n",
       "    }\n",
       "\n",
       "    .dataframe tbody tr th {\n",
       "        vertical-align: top;\n",
       "    }\n",
       "\n",
       "    .dataframe thead th {\n",
       "        text-align: right;\n",
       "    }\n",
       "</style>\n",
       "<table border=\"1\" class=\"dataframe\">\n",
       "  <thead>\n",
       "    <tr style=\"text-align: right;\">\n",
       "      <th>gender_Male</th>\n",
       "      <th>0</th>\n",
       "      <th>1</th>\n",
       "    </tr>\n",
       "    <tr>\n",
       "      <th>gender</th>\n",
       "      <th></th>\n",
       "      <th></th>\n",
       "    </tr>\n",
       "  </thead>\n",
       "  <tbody>\n",
       "    <tr>\n",
       "      <th>Female</th>\n",
       "      <td>1961</td>\n",
       "      <td>0</td>\n",
       "    </tr>\n",
       "    <tr>\n",
       "      <th>Male</th>\n",
       "      <td>0</td>\n",
       "      <td>1976</td>\n",
       "    </tr>\n",
       "  </tbody>\n",
       "</table>\n",
       "</div>"
      ],
      "text/plain": [
       "gender_Male     0     1\n",
       "gender                 \n",
       "Female       1961     0\n",
       "Male            0  1976"
      ]
     },
     "execution_count": 4,
     "metadata": {},
     "output_type": "execute_result"
    }
   ],
   "source": [
    "pd.crosstab(df.gender, train.gender_Male)"
   ]
  },
  {
   "cell_type": "markdown",
   "id": "109b5355",
   "metadata": {},
   "source": [
    "### Churn to churn_Yes:  1 = has churn, 0 = no churn"
   ]
  },
  {
   "cell_type": "code",
   "execution_count": 5,
   "id": "3c0d00a9",
   "metadata": {},
   "outputs": [
    {
     "data": {
      "text/html": [
       "<div>\n",
       "<style scoped>\n",
       "    .dataframe tbody tr th:only-of-type {\n",
       "        vertical-align: middle;\n",
       "    }\n",
       "\n",
       "    .dataframe tbody tr th {\n",
       "        vertical-align: top;\n",
       "    }\n",
       "\n",
       "    .dataframe thead th {\n",
       "        text-align: right;\n",
       "    }\n",
       "</style>\n",
       "<table border=\"1\" class=\"dataframe\">\n",
       "  <thead>\n",
       "    <tr style=\"text-align: right;\">\n",
       "      <th>churn</th>\n",
       "      <th>No</th>\n",
       "      <th>Yes</th>\n",
       "    </tr>\n",
       "    <tr>\n",
       "      <th>churn_Yes</th>\n",
       "      <th></th>\n",
       "      <th></th>\n",
       "    </tr>\n",
       "  </thead>\n",
       "  <tbody>\n",
       "    <tr>\n",
       "      <th>0</th>\n",
       "      <td>2891</td>\n",
       "      <td>0</td>\n",
       "    </tr>\n",
       "    <tr>\n",
       "      <th>1</th>\n",
       "      <td>0</td>\n",
       "      <td>1046</td>\n",
       "    </tr>\n",
       "  </tbody>\n",
       "</table>\n",
       "</div>"
      ],
      "text/plain": [
       "churn        No   Yes\n",
       "churn_Yes            \n",
       "0          2891     0\n",
       "1             0  1046"
      ]
     },
     "execution_count": 5,
     "metadata": {},
     "output_type": "execute_result"
    }
   ],
   "source": [
    "pd.crosstab(train.churn_Yes, df.churn)"
   ]
  },
  {
   "cell_type": "markdown",
   "id": "84c6acc6",
   "metadata": {},
   "source": [
    "### Internet Service type: 1 = DSL, 2 = Fiber optic, 3 = None "
   ]
  },
  {
   "cell_type": "code",
   "execution_count": 6,
   "id": "fc71ec87",
   "metadata": {},
   "outputs": [
    {
     "data": {
      "text/html": [
       "<div>\n",
       "<style scoped>\n",
       "    .dataframe tbody tr th:only-of-type {\n",
       "        vertical-align: middle;\n",
       "    }\n",
       "\n",
       "    .dataframe tbody tr th {\n",
       "        vertical-align: top;\n",
       "    }\n",
       "\n",
       "    .dataframe thead th {\n",
       "        text-align: right;\n",
       "    }\n",
       "</style>\n",
       "<table border=\"1\" class=\"dataframe\">\n",
       "  <thead>\n",
       "    <tr style=\"text-align: right;\">\n",
       "      <th>internet_service_type_id</th>\n",
       "      <th>1</th>\n",
       "      <th>2</th>\n",
       "      <th>3</th>\n",
       "    </tr>\n",
       "    <tr>\n",
       "      <th>internet_service_type</th>\n",
       "      <th></th>\n",
       "      <th></th>\n",
       "      <th></th>\n",
       "    </tr>\n",
       "  </thead>\n",
       "  <tbody>\n",
       "    <tr>\n",
       "      <th>DSL</th>\n",
       "      <td>2421</td>\n",
       "      <td>0</td>\n",
       "      <td>0</td>\n",
       "    </tr>\n",
       "    <tr>\n",
       "      <th>Fiber optic</th>\n",
       "      <td>0</td>\n",
       "      <td>3096</td>\n",
       "      <td>0</td>\n",
       "    </tr>\n",
       "    <tr>\n",
       "      <th>None</th>\n",
       "      <td>0</td>\n",
       "      <td>0</td>\n",
       "      <td>1526</td>\n",
       "    </tr>\n",
       "  </tbody>\n",
       "</table>\n",
       "</div>"
      ],
      "text/plain": [
       "internet_service_type_id     1     2     3\n",
       "internet_service_type                     \n",
       "DSL                       2421     0     0\n",
       "Fiber optic                  0  3096     0\n",
       "None                         0     0  1526"
      ]
     },
     "execution_count": 6,
     "metadata": {},
     "output_type": "execute_result"
    }
   ],
   "source": [
    "pd.crosstab(df.internet_service_type,df.internet_service_type_id)"
   ]
  },
  {
   "cell_type": "markdown",
   "id": "a8ebebbb",
   "metadata": {},
   "source": [
    "### Contract type: 1 = Month-to-month, 2 = One year, 3 = Two year"
   ]
  },
  {
   "cell_type": "code",
   "execution_count": 7,
   "id": "0fb21952",
   "metadata": {},
   "outputs": [
    {
     "data": {
      "text/html": [
       "<div>\n",
       "<style scoped>\n",
       "    .dataframe tbody tr th:only-of-type {\n",
       "        vertical-align: middle;\n",
       "    }\n",
       "\n",
       "    .dataframe tbody tr th {\n",
       "        vertical-align: top;\n",
       "    }\n",
       "\n",
       "    .dataframe thead th {\n",
       "        text-align: right;\n",
       "    }\n",
       "</style>\n",
       "<table border=\"1\" class=\"dataframe\">\n",
       "  <thead>\n",
       "    <tr style=\"text-align: right;\">\n",
       "      <th>contract_type_id</th>\n",
       "      <th>1</th>\n",
       "      <th>2</th>\n",
       "      <th>3</th>\n",
       "    </tr>\n",
       "    <tr>\n",
       "      <th>contract_type</th>\n",
       "      <th></th>\n",
       "      <th></th>\n",
       "      <th></th>\n",
       "    </tr>\n",
       "  </thead>\n",
       "  <tbody>\n",
       "    <tr>\n",
       "      <th>Month-to-month</th>\n",
       "      <td>3875</td>\n",
       "      <td>0</td>\n",
       "      <td>0</td>\n",
       "    </tr>\n",
       "    <tr>\n",
       "      <th>One year</th>\n",
       "      <td>0</td>\n",
       "      <td>1473</td>\n",
       "      <td>0</td>\n",
       "    </tr>\n",
       "    <tr>\n",
       "      <th>Two year</th>\n",
       "      <td>0</td>\n",
       "      <td>0</td>\n",
       "      <td>1695</td>\n",
       "    </tr>\n",
       "  </tbody>\n",
       "</table>\n",
       "</div>"
      ],
      "text/plain": [
       "contract_type_id     1     2     3\n",
       "contract_type                     \n",
       "Month-to-month    3875     0     0\n",
       "One year             0  1473     0\n",
       "Two year             0     0  1695"
      ]
     },
     "execution_count": 7,
     "metadata": {},
     "output_type": "execute_result"
    }
   ],
   "source": [
    "pd.crosstab(df.contract_type,df.contract_type_id)"
   ]
  },
  {
   "cell_type": "markdown",
   "id": "d22ec534",
   "metadata": {},
   "source": [
    "### Payment Type: 1 = Electronic check, 2 = Mailed check, 3 = Bank transfer (automatic), 4 = Credit card (automatic)"
   ]
  },
  {
   "cell_type": "code",
   "execution_count": 8,
   "id": "b1d572eb",
   "metadata": {},
   "outputs": [
    {
     "data": {
      "text/html": [
       "<div>\n",
       "<style scoped>\n",
       "    .dataframe tbody tr th:only-of-type {\n",
       "        vertical-align: middle;\n",
       "    }\n",
       "\n",
       "    .dataframe tbody tr th {\n",
       "        vertical-align: top;\n",
       "    }\n",
       "\n",
       "    .dataframe thead th {\n",
       "        text-align: right;\n",
       "    }\n",
       "</style>\n",
       "<table border=\"1\" class=\"dataframe\">\n",
       "  <thead>\n",
       "    <tr style=\"text-align: right;\">\n",
       "      <th>payment_type_id</th>\n",
       "      <th>1</th>\n",
       "      <th>2</th>\n",
       "      <th>3</th>\n",
       "      <th>4</th>\n",
       "    </tr>\n",
       "    <tr>\n",
       "      <th>payment_type</th>\n",
       "      <th></th>\n",
       "      <th></th>\n",
       "      <th></th>\n",
       "      <th></th>\n",
       "    </tr>\n",
       "  </thead>\n",
       "  <tbody>\n",
       "    <tr>\n",
       "      <th>Bank transfer (automatic)</th>\n",
       "      <td>0</td>\n",
       "      <td>0</td>\n",
       "      <td>1544</td>\n",
       "      <td>0</td>\n",
       "    </tr>\n",
       "    <tr>\n",
       "      <th>Credit card (automatic)</th>\n",
       "      <td>0</td>\n",
       "      <td>0</td>\n",
       "      <td>0</td>\n",
       "      <td>1522</td>\n",
       "    </tr>\n",
       "    <tr>\n",
       "      <th>Electronic check</th>\n",
       "      <td>2365</td>\n",
       "      <td>0</td>\n",
       "      <td>0</td>\n",
       "      <td>0</td>\n",
       "    </tr>\n",
       "    <tr>\n",
       "      <th>Mailed check</th>\n",
       "      <td>0</td>\n",
       "      <td>1612</td>\n",
       "      <td>0</td>\n",
       "      <td>0</td>\n",
       "    </tr>\n",
       "  </tbody>\n",
       "</table>\n",
       "</div>"
      ],
      "text/plain": [
       "payment_type_id               1     2     3     4\n",
       "payment_type                                     \n",
       "Bank transfer (automatic)     0     0  1544     0\n",
       "Credit card (automatic)       0     0     0  1522\n",
       "Electronic check           2365     0     0     0\n",
       "Mailed check                  0  1612     0     0"
      ]
     },
     "execution_count": 8,
     "metadata": {},
     "output_type": "execute_result"
    }
   ],
   "source": [
    "pd.crosstab(df.payment_type,df.payment_type_id)"
   ]
  },
  {
   "cell_type": "markdown",
   "id": "6b25a8b9",
   "metadata": {},
   "source": [
    "### Senior citizen: 0 = Not a senior citizen 1 = is a senior citizen"
   ]
  },
  {
   "cell_type": "code",
   "execution_count": 9,
   "id": "a06b13db",
   "metadata": {},
   "outputs": [
    {
     "data": {
      "text/html": [
       "<div>\n",
       "<style scoped>\n",
       "    .dataframe tbody tr th:only-of-type {\n",
       "        vertical-align: middle;\n",
       "    }\n",
       "\n",
       "    .dataframe tbody tr th {\n",
       "        vertical-align: top;\n",
       "    }\n",
       "\n",
       "    .dataframe thead th {\n",
       "        text-align: right;\n",
       "    }\n",
       "</style>\n",
       "<table border=\"1\" class=\"dataframe\">\n",
       "  <thead>\n",
       "    <tr style=\"text-align: right;\">\n",
       "      <th>senior_citizen</th>\n",
       "      <th>0</th>\n",
       "      <th>1</th>\n",
       "    </tr>\n",
       "    <tr>\n",
       "      <th>senior_citizen</th>\n",
       "      <th></th>\n",
       "      <th></th>\n",
       "    </tr>\n",
       "  </thead>\n",
       "  <tbody>\n",
       "    <tr>\n",
       "      <th>0</th>\n",
       "      <td>3302</td>\n",
       "      <td>0</td>\n",
       "    </tr>\n",
       "    <tr>\n",
       "      <th>1</th>\n",
       "      <td>0</td>\n",
       "      <td>635</td>\n",
       "    </tr>\n",
       "  </tbody>\n",
       "</table>\n",
       "</div>"
      ],
      "text/plain": [
       "senior_citizen     0    1\n",
       "senior_citizen           \n",
       "0               3302    0\n",
       "1                  0  635"
      ]
     },
     "execution_count": 9,
     "metadata": {},
     "output_type": "execute_result"
    }
   ],
   "source": [
    "pd.crosstab(df.senior_citizen,train.senior_citizen)"
   ]
  },
  {
   "cell_type": "code",
   "execution_count": 10,
   "id": "7341e6b1",
   "metadata": {},
   "outputs": [],
   "source": [
    "train = train.drop(columns= ['customer_id','dependents','gender','multiple_lines','tech_support','paperless_billing'])\n",
    "\n",
    "train = train.replace({'Yes':1, 'No':0})\n",
    "\n",
    "validate = validate.drop(columns= ['customer_id','dependents','gender','multiple_lines','tech_support','paperless_billing',])\n",
    "\n",
    "validate = validate.replace({'Yes':1, 'No':0})\n"
   ]
  },
  {
   "cell_type": "code",
   "execution_count": 11,
   "id": "e60526a2",
   "metadata": {},
   "outputs": [],
   "source": [
    "\n",
    "# create X & y version of train, where y is a series with just the target variable and X are all the features. \n",
    "\n",
    "X_train = train.drop(columns=['churn','churn_Yes'])\n",
    "y_train = train.churn_Yes\n",
    "\n",
    "X_validate = validate.drop(columns=['churn','churn_Yes'])\n",
    "y_validate = validate.churn_Yes\n",
    "\n",
    "X_test = test.drop(columns=['churn','churn_Yes'])\n",
    "y_test = test.churn_Yes"
   ]
  },
  {
   "cell_type": "markdown",
   "id": "7048e3a5",
   "metadata": {},
   "source": [
    "# Data Exploration"
   ]
  },
  {
   "cell_type": "code",
   "execution_count": 12,
   "id": "29f1914e",
   "metadata": {},
   "outputs": [
    {
     "data": {
      "text/html": [
       "<div>\n",
       "<style scoped>\n",
       "    .dataframe tbody tr th:only-of-type {\n",
       "        vertical-align: middle;\n",
       "    }\n",
       "\n",
       "    .dataframe tbody tr th {\n",
       "        vertical-align: top;\n",
       "    }\n",
       "\n",
       "    .dataframe thead th {\n",
       "        text-align: right;\n",
       "    }\n",
       "</style>\n",
       "<table border=\"1\" class=\"dataframe\">\n",
       "  <thead>\n",
       "    <tr style=\"text-align: right;\">\n",
       "      <th></th>\n",
       "      <th>internet_service_type_id</th>\n",
       "      <th>payment_type_id</th>\n",
       "      <th>contract_type_id</th>\n",
       "      <th>senior_citizen</th>\n",
       "      <th>tenure</th>\n",
       "      <th>monthly_charges</th>\n",
       "      <th>total_charges</th>\n",
       "      <th>churn</th>\n",
       "      <th>gender_Male</th>\n",
       "      <th>dependents_Yes</th>\n",
       "      <th>multiple_lines_No phone service</th>\n",
       "      <th>multiple_lines_Yes</th>\n",
       "      <th>tech_support_No internet service</th>\n",
       "      <th>tech_support_Yes</th>\n",
       "      <th>paperless_billing_Yes</th>\n",
       "      <th>churn_Yes</th>\n",
       "    </tr>\n",
       "  </thead>\n",
       "  <tbody>\n",
       "    <tr>\n",
       "      <th>5919</th>\n",
       "      <td>1</td>\n",
       "      <td>4</td>\n",
       "      <td>2</td>\n",
       "      <td>0</td>\n",
       "      <td>58</td>\n",
       "      <td>71.10</td>\n",
       "      <td>4299.20</td>\n",
       "      <td>0</td>\n",
       "      <td>0</td>\n",
       "      <td>0</td>\n",
       "      <td>0</td>\n",
       "      <td>1</td>\n",
       "      <td>0</td>\n",
       "      <td>1</td>\n",
       "      <td>1</td>\n",
       "      <td>0</td>\n",
       "    </tr>\n",
       "    <tr>\n",
       "      <th>1915</th>\n",
       "      <td>2</td>\n",
       "      <td>4</td>\n",
       "      <td>2</td>\n",
       "      <td>0</td>\n",
       "      <td>71</td>\n",
       "      <td>85.45</td>\n",
       "      <td>6028.95</td>\n",
       "      <td>0</td>\n",
       "      <td>1</td>\n",
       "      <td>1</td>\n",
       "      <td>0</td>\n",
       "      <td>1</td>\n",
       "      <td>0</td>\n",
       "      <td>0</td>\n",
       "      <td>1</td>\n",
       "      <td>0</td>\n",
       "    </tr>\n",
       "    <tr>\n",
       "      <th>5054</th>\n",
       "      <td>3</td>\n",
       "      <td>1</td>\n",
       "      <td>1</td>\n",
       "      <td>0</td>\n",
       "      <td>35</td>\n",
       "      <td>25.75</td>\n",
       "      <td>882.55</td>\n",
       "      <td>0</td>\n",
       "      <td>0</td>\n",
       "      <td>1</td>\n",
       "      <td>0</td>\n",
       "      <td>1</td>\n",
       "      <td>1</td>\n",
       "      <td>0</td>\n",
       "      <td>1</td>\n",
       "      <td>0</td>\n",
       "    </tr>\n",
       "    <tr>\n",
       "      <th>2355</th>\n",
       "      <td>3</td>\n",
       "      <td>2</td>\n",
       "      <td>1</td>\n",
       "      <td>0</td>\n",
       "      <td>1</td>\n",
       "      <td>19.20</td>\n",
       "      <td>19.20</td>\n",
       "      <td>0</td>\n",
       "      <td>1</td>\n",
       "      <td>1</td>\n",
       "      <td>0</td>\n",
       "      <td>0</td>\n",
       "      <td>1</td>\n",
       "      <td>0</td>\n",
       "      <td>0</td>\n",
       "      <td>0</td>\n",
       "    </tr>\n",
       "    <tr>\n",
       "      <th>6279</th>\n",
       "      <td>1</td>\n",
       "      <td>2</td>\n",
       "      <td>2</td>\n",
       "      <td>1</td>\n",
       "      <td>20</td>\n",
       "      <td>54.00</td>\n",
       "      <td>1055.90</td>\n",
       "      <td>0</td>\n",
       "      <td>1</td>\n",
       "      <td>0</td>\n",
       "      <td>0</td>\n",
       "      <td>0</td>\n",
       "      <td>0</td>\n",
       "      <td>1</td>\n",
       "      <td>0</td>\n",
       "      <td>0</td>\n",
       "    </tr>\n",
       "    <tr>\n",
       "      <th>...</th>\n",
       "      <td>...</td>\n",
       "      <td>...</td>\n",
       "      <td>...</td>\n",
       "      <td>...</td>\n",
       "      <td>...</td>\n",
       "      <td>...</td>\n",
       "      <td>...</td>\n",
       "      <td>...</td>\n",
       "      <td>...</td>\n",
       "      <td>...</td>\n",
       "      <td>...</td>\n",
       "      <td>...</td>\n",
       "      <td>...</td>\n",
       "      <td>...</td>\n",
       "      <td>...</td>\n",
       "      <td>...</td>\n",
       "    </tr>\n",
       "    <tr>\n",
       "      <th>394</th>\n",
       "      <td>2</td>\n",
       "      <td>4</td>\n",
       "      <td>1</td>\n",
       "      <td>0</td>\n",
       "      <td>24</td>\n",
       "      <td>88.95</td>\n",
       "      <td>2072.75</td>\n",
       "      <td>0</td>\n",
       "      <td>0</td>\n",
       "      <td>0</td>\n",
       "      <td>0</td>\n",
       "      <td>1</td>\n",
       "      <td>0</td>\n",
       "      <td>0</td>\n",
       "      <td>1</td>\n",
       "      <td>0</td>\n",
       "    </tr>\n",
       "    <tr>\n",
       "      <th>3763</th>\n",
       "      <td>2</td>\n",
       "      <td>1</td>\n",
       "      <td>1</td>\n",
       "      <td>0</td>\n",
       "      <td>10</td>\n",
       "      <td>100.25</td>\n",
       "      <td>1064.65</td>\n",
       "      <td>1</td>\n",
       "      <td>0</td>\n",
       "      <td>1</td>\n",
       "      <td>0</td>\n",
       "      <td>1</td>\n",
       "      <td>0</td>\n",
       "      <td>0</td>\n",
       "      <td>1</td>\n",
       "      <td>1</td>\n",
       "    </tr>\n",
       "    <tr>\n",
       "      <th>3444</th>\n",
       "      <td>3</td>\n",
       "      <td>4</td>\n",
       "      <td>3</td>\n",
       "      <td>0</td>\n",
       "      <td>22</td>\n",
       "      <td>25.25</td>\n",
       "      <td>555.40</td>\n",
       "      <td>0</td>\n",
       "      <td>0</td>\n",
       "      <td>1</td>\n",
       "      <td>0</td>\n",
       "      <td>1</td>\n",
       "      <td>1</td>\n",
       "      <td>0</td>\n",
       "      <td>0</td>\n",
       "      <td>0</td>\n",
       "    </tr>\n",
       "    <tr>\n",
       "      <th>1002</th>\n",
       "      <td>2</td>\n",
       "      <td>4</td>\n",
       "      <td>1</td>\n",
       "      <td>0</td>\n",
       "      <td>22</td>\n",
       "      <td>89.10</td>\n",
       "      <td>1949.40</td>\n",
       "      <td>0</td>\n",
       "      <td>1</td>\n",
       "      <td>1</td>\n",
       "      <td>0</td>\n",
       "      <td>1</td>\n",
       "      <td>0</td>\n",
       "      <td>0</td>\n",
       "      <td>1</td>\n",
       "      <td>0</td>\n",
       "    </tr>\n",
       "    <tr>\n",
       "      <th>4192</th>\n",
       "      <td>3</td>\n",
       "      <td>2</td>\n",
       "      <td>1</td>\n",
       "      <td>0</td>\n",
       "      <td>2</td>\n",
       "      <td>20.05</td>\n",
       "      <td>42.70</td>\n",
       "      <td>0</td>\n",
       "      <td>1</td>\n",
       "      <td>0</td>\n",
       "      <td>0</td>\n",
       "      <td>0</td>\n",
       "      <td>1</td>\n",
       "      <td>0</td>\n",
       "      <td>0</td>\n",
       "      <td>0</td>\n",
       "    </tr>\n",
       "  </tbody>\n",
       "</table>\n",
       "<p>3937 rows × 16 columns</p>\n",
       "</div>"
      ],
      "text/plain": [
       "      internet_service_type_id  payment_type_id  contract_type_id  \\\n",
       "5919                         1                4                 2   \n",
       "1915                         2                4                 2   \n",
       "5054                         3                1                 1   \n",
       "2355                         3                2                 1   \n",
       "6279                         1                2                 2   \n",
       "...                        ...              ...               ...   \n",
       "394                          2                4                 1   \n",
       "3763                         2                1                 1   \n",
       "3444                         3                4                 3   \n",
       "1002                         2                4                 1   \n",
       "4192                         3                2                 1   \n",
       "\n",
       "      senior_citizen  tenure  monthly_charges  total_charges  churn  \\\n",
       "5919               0      58            71.10        4299.20      0   \n",
       "1915               0      71            85.45        6028.95      0   \n",
       "5054               0      35            25.75         882.55      0   \n",
       "2355               0       1            19.20          19.20      0   \n",
       "6279               1      20            54.00        1055.90      0   \n",
       "...              ...     ...              ...            ...    ...   \n",
       "394                0      24            88.95        2072.75      0   \n",
       "3763               0      10           100.25        1064.65      1   \n",
       "3444               0      22            25.25         555.40      0   \n",
       "1002               0      22            89.10        1949.40      0   \n",
       "4192               0       2            20.05          42.70      0   \n",
       "\n",
       "      gender_Male  dependents_Yes  multiple_lines_No phone service  \\\n",
       "5919            0               0                                0   \n",
       "1915            1               1                                0   \n",
       "5054            0               1                                0   \n",
       "2355            1               1                                0   \n",
       "6279            1               0                                0   \n",
       "...           ...             ...                              ...   \n",
       "394             0               0                                0   \n",
       "3763            0               1                                0   \n",
       "3444            0               1                                0   \n",
       "1002            1               1                                0   \n",
       "4192            1               0                                0   \n",
       "\n",
       "      multiple_lines_Yes  tech_support_No internet service  tech_support_Yes  \\\n",
       "5919                   1                                 0                 1   \n",
       "1915                   1                                 0                 0   \n",
       "5054                   1                                 1                 0   \n",
       "2355                   0                                 1                 0   \n",
       "6279                   0                                 0                 1   \n",
       "...                  ...                               ...               ...   \n",
       "394                    1                                 0                 0   \n",
       "3763                   1                                 0                 0   \n",
       "3444                   1                                 1                 0   \n",
       "1002                   1                                 0                 0   \n",
       "4192                   0                                 1                 0   \n",
       "\n",
       "      paperless_billing_Yes  churn_Yes  \n",
       "5919                      1          0  \n",
       "1915                      1          0  \n",
       "5054                      1          0  \n",
       "2355                      0          0  \n",
       "6279                      0          0  \n",
       "...                     ...        ...  \n",
       "394                       1          0  \n",
       "3763                      1          1  \n",
       "3444                      0          0  \n",
       "1002                      1          0  \n",
       "4192                      0          0  \n",
       "\n",
       "[3937 rows x 16 columns]"
      ]
     },
     "execution_count": 12,
     "metadata": {},
     "output_type": "execute_result"
    }
   ],
   "source": [
    "train"
   ]
  },
  {
   "cell_type": "code",
   "execution_count": 13,
   "id": "32c89ef7",
   "metadata": {},
   "outputs": [
    {
     "data": {
      "image/png": "[encoded data removed]",
      "text/plain": [
       "<Figure size 432x288 with 1 Axes>"
      ]
     },
     "metadata": {
      "needs_background": "light"
     },
     "output_type": "display_data"
    },
    {
     "name": "stdout",
     "output_type": "stream",
     "text": [
      "number of customers churning per month: 1046 \n"
     ]
    }
   ],
   "source": [
    "plt.title(\"Customer churning\")\n",
    "train.churn_Yes.hist()\n",
    "plt.show()\n",
    "print(\"number of customers churning per month: 1046 \")"
   ]
  },
  {
   "cell_type": "code",
   "execution_count": 14,
   "id": "9d8c14c4",
   "metadata": {},
   "outputs": [
    {
     "name": "stdout",
     "output_type": "stream",
     "text": [
      "<class 'pandas.core.frame.DataFrame'>\n",
      "Int64Index: 3937 entries, 5919 to 4192\n",
      "Data columns (total 16 columns):\n",
      " #   Column                            Non-Null Count  Dtype  \n",
      "---  ------                            --------------  -----  \n",
      " 0   internet_service_type_id          3937 non-null   int64  \n",
      " 1   payment_type_id                   3937 non-null   int64  \n",
      " 2   contract_type_id                  3937 non-null   int64  \n",
      " 3   senior_citizen                    3937 non-null   int64  \n",
      " 4   tenure                            3937 non-null   int64  \n",
      " 5   monthly_charges                   3937 non-null   float64\n",
      " 6   total_charges                     3937 non-null   float64\n",
      " 7   churn                             3937 non-null   int64  \n",
      " 8   gender_Male                       3937 non-null   uint8  \n",
      " 9   dependents_Yes                    3937 non-null   uint8  \n",
      " 10  multiple_lines_No phone service   3937 non-null   uint8  \n",
      " 11  multiple_lines_Yes                3937 non-null   uint8  \n",
      " 12  tech_support_No internet service  3937 non-null   uint8  \n",
      " 13  tech_support_Yes                  3937 non-null   uint8  \n",
      " 14  paperless_billing_Yes             3937 non-null   uint8  \n",
      " 15  churn_Yes                         3937 non-null   uint8  \n",
      "dtypes: float64(2), int64(6), uint8(8)\n",
      "memory usage: 436.6 KB\n"
     ]
    }
   ],
   "source": [
    "train.info()"
   ]
  },
  {
   "cell_type": "code",
   "execution_count": 15,
   "id": "72661fc0",
   "metadata": {},
   "outputs": [
    {
     "data": {
      "image/png": "[encoded data removed]",
      "text/plain": [
       "<Figure size 432x288 with 1 Axes>"
      ]
     },
     "metadata": {
      "needs_background": "light"
     },
     "output_type": "display_data"
    },
    {
     "name": "stdout",
     "output_type": "stream",
     "text": [
      "Contract type: 1 = Month-to-month, 2 = One year, 3 = Two year\n"
     ]
    },
    {
     "data": {
      "text/html": [
       "<div>\n",
       "<style scoped>\n",
       "    .dataframe tbody tr th:only-of-type {\n",
       "        vertical-align: middle;\n",
       "    }\n",
       "\n",
       "    .dataframe tbody tr th {\n",
       "        vertical-align: top;\n",
       "    }\n",
       "\n",
       "    .dataframe thead th {\n",
       "        text-align: right;\n",
       "    }\n",
       "</style>\n",
       "<table border=\"1\" class=\"dataframe\">\n",
       "  <thead>\n",
       "    <tr style=\"text-align: right;\">\n",
       "      <th>churn_Yes</th>\n",
       "      <th>0</th>\n",
       "      <th>1</th>\n",
       "    </tr>\n",
       "    <tr>\n",
       "      <th>contract_type_id</th>\n",
       "      <th></th>\n",
       "      <th></th>\n",
       "    </tr>\n",
       "  </thead>\n",
       "  <tbody>\n",
       "    <tr>\n",
       "      <th>1</th>\n",
       "      <td>1238</td>\n",
       "      <td>927</td>\n",
       "    </tr>\n",
       "    <tr>\n",
       "      <th>2</th>\n",
       "      <td>726</td>\n",
       "      <td>89</td>\n",
       "    </tr>\n",
       "    <tr>\n",
       "      <th>3</th>\n",
       "      <td>927</td>\n",
       "      <td>30</td>\n",
       "    </tr>\n",
       "  </tbody>\n",
       "</table>\n",
       "</div>"
      ],
      "text/plain": [
       "churn_Yes            0    1\n",
       "contract_type_id           \n",
       "1                 1238  927\n",
       "2                  726   89\n",
       "3                  927   30"
      ]
     },
     "execution_count": 15,
     "metadata": {},
     "output_type": "execute_result"
    }
   ],
   "source": [
    "plt.title(\"Churn by Contract types\")\n",
    "sns.barplot(x=\"contract_type_id\", y=\"churn_Yes\", data=train)\n",
    "churn_rate = train.churn.mean()\n",
    "plt.axhline(churn_rate, label=\"median\")\n",
    "plt.legend()\n",
    "plt.show()\n",
    "print(\"Contract type: 1 = Month-to-month, 2 = One year, 3 = Two year\")\n",
    "pd.crosstab(train.contract_type_id, train.churn_Yes)"
   ]
  },
  {
   "cell_type": "markdown",
   "id": "e2449f26",
   "metadata": {},
   "source": [
    "- Take away: Month to month seems to have large churn rates"
   ]
  },
  {
   "cell_type": "code",
   "execution_count": 16,
   "id": "e688d9f8",
   "metadata": {},
   "outputs": [
    {
     "data": {
      "image/png": "[encoded data removed]",
      "text/plain": [
       "<Figure size 432x288 with 1 Axes>"
      ]
     },
     "metadata": {
      "needs_background": "light"
     },
     "output_type": "display_data"
    },
    {
     "name": "stdout",
     "output_type": "stream",
     "text": [
      "Payment Type: 1 = Electronic check, 2 = Mailed check, 3 = Bank transfer (automatic), 4 = Credit card (automatic)\n"
     ]
    },
    {
     "data": {
      "text/html": [
       "<div>\n",
       "<style scoped>\n",
       "    .dataframe tbody tr th:only-of-type {\n",
       "        vertical-align: middle;\n",
       "    }\n",
       "\n",
       "    .dataframe tbody tr th {\n",
       "        vertical-align: top;\n",
       "    }\n",
       "\n",
       "    .dataframe thead th {\n",
       "        text-align: right;\n",
       "    }\n",
       "</style>\n",
       "<table border=\"1\" class=\"dataframe\">\n",
       "  <thead>\n",
       "    <tr style=\"text-align: right;\">\n",
       "      <th>churn_Yes</th>\n",
       "      <th>0</th>\n",
       "      <th>1</th>\n",
       "    </tr>\n",
       "    <tr>\n",
       "      <th>payment_type_id</th>\n",
       "      <th></th>\n",
       "      <th></th>\n",
       "    </tr>\n",
       "  </thead>\n",
       "  <tbody>\n",
       "    <tr>\n",
       "      <th>1</th>\n",
       "      <td>708</td>\n",
       "      <td>581</td>\n",
       "    </tr>\n",
       "    <tr>\n",
       "      <th>2</th>\n",
       "      <td>720</td>\n",
       "      <td>171</td>\n",
       "    </tr>\n",
       "    <tr>\n",
       "      <th>3</th>\n",
       "      <td>713</td>\n",
       "      <td>149</td>\n",
       "    </tr>\n",
       "    <tr>\n",
       "      <th>4</th>\n",
       "      <td>750</td>\n",
       "      <td>145</td>\n",
       "    </tr>\n",
       "  </tbody>\n",
       "</table>\n",
       "</div>"
      ],
      "text/plain": [
       "churn_Yes          0    1\n",
       "payment_type_id          \n",
       "1                708  581\n",
       "2                720  171\n",
       "3                713  149\n",
       "4                750  145"
      ]
     },
     "execution_count": 16,
     "metadata": {},
     "output_type": "execute_result"
    }
   ],
   "source": [
    "plt.title(\"Churn by Contract types\")\n",
    "sns.barplot(x=\"payment_type_id\", y=\"churn_Yes\", data=train)\n",
    "churn_rate = train.churn.mean()\n",
    "plt.axhline(churn_rate, label=\"median\")\n",
    "plt.legend()\n",
    "plt.show(),\n",
    "\n",
    "print(\"Payment Type: 1 = Electronic check, 2 = Mailed check, 3 = Bank transfer (automatic), 4 = Credit card (automatic)\")\n",
    "pd.crosstab(train.payment_type_id, train.churn_Yes)"
   ]
  },
  {
   "cell_type": "markdown",
   "id": "c7a9218e",
   "metadata": {},
   "source": [
    "- Take away: Electronic check has the highest churn rates out of the 4 contract types"
   ]
  },
  {
   "cell_type": "code",
   "execution_count": 17,
   "id": "dfa3dbcf",
   "metadata": {},
   "outputs": [
    {
     "data": {
      "image/png": "[encoded data removed]",
      "text/plain": [
       "<Figure size 432x288 with 1 Axes>"
      ]
     },
     "metadata": {
      "needs_background": "light"
     },
     "output_type": "display_data"
    },
    {
     "name": "stdout",
     "output_type": "stream",
     "text": [
      "Internet Service type: 1 = DSL, 2 = Fiber optic, 3 = None\n"
     ]
    },
    {
     "data": {
      "text/html": [
       "<div>\n",
       "<style scoped>\n",
       "    .dataframe tbody tr th:only-of-type {\n",
       "        vertical-align: middle;\n",
       "    }\n",
       "\n",
       "    .dataframe tbody tr th {\n",
       "        vertical-align: top;\n",
       "    }\n",
       "\n",
       "    .dataframe thead th {\n",
       "        text-align: right;\n",
       "    }\n",
       "</style>\n",
       "<table border=\"1\" class=\"dataframe\">\n",
       "  <thead>\n",
       "    <tr style=\"text-align: right;\">\n",
       "      <th>churn_Yes</th>\n",
       "      <th>0</th>\n",
       "      <th>1</th>\n",
       "    </tr>\n",
       "    <tr>\n",
       "      <th>internet_service_type_id</th>\n",
       "      <th></th>\n",
       "      <th></th>\n",
       "    </tr>\n",
       "  </thead>\n",
       "  <tbody>\n",
       "    <tr>\n",
       "      <th>1</th>\n",
       "      <td>1101</td>\n",
       "      <td>247</td>\n",
       "    </tr>\n",
       "    <tr>\n",
       "      <th>2</th>\n",
       "      <td>987</td>\n",
       "      <td>735</td>\n",
       "    </tr>\n",
       "    <tr>\n",
       "      <th>3</th>\n",
       "      <td>803</td>\n",
       "      <td>64</td>\n",
       "    </tr>\n",
       "  </tbody>\n",
       "</table>\n",
       "</div>"
      ],
      "text/plain": [
       "churn_Yes                    0    1\n",
       "internet_service_type_id           \n",
       "1                         1101  247\n",
       "2                          987  735\n",
       "3                          803   64"
      ]
     },
     "execution_count": 17,
     "metadata": {},
     "output_type": "execute_result"
    }
   ],
   "source": [
    "plt.title(\"Churn by Contract types\")\n",
    "sns.barplot(x=\"internet_service_type_id\", y=\"churn_Yes\", data=train)\n",
    "churn_rate = train.churn.mean()\n",
    "plt.axhline(churn_rate, label=\"median\")\n",
    "plt.legend()\n",
    "plt.show(),\n",
    "\n",
    "print(\"Internet Service type: 1 = DSL, 2 = Fiber optic, 3 = None\")\n",
    "pd.crosstab(train.internet_service_type_id, train.churn_Yes)"
   ]
  },
  {
   "cell_type": "markdown",
   "id": "dc3d89a4",
   "metadata": {},
   "source": [
    "- Take away: Fiber optic has a high churn rate."
   ]
  },
  {
   "cell_type": "markdown",
   "id": "e3ba5bd2",
   "metadata": {},
   "source": [
    "## Summary of Take aways \n",
    "\n",
    "#### Average number of customers churning is 1046\n",
    "#### Month to month seems to have large churn rates\n",
    "#### Electronic check has the highest churn rates out of the 4 contract types\n",
    "#### Electronic check has the highest churn rates out of the 4 contract types\n",
    "#### Fiber optic has a high churn rate"
   ]
  },
  {
   "cell_type": "code",
   "execution_count": null,
   "id": "febd6901",
   "metadata": {},
   "outputs": [],
   "source": []
  },
  {
   "cell_type": "code",
   "execution_count": null,
   "id": "f504b3f1",
   "metadata": {},
   "outputs": [],
   "source": []
  },
  {
   "cell_type": "code",
   "execution_count": 18,
   "id": "5a5588c4",
   "metadata": {},
   "outputs": [
    {
     "data": {
      "text/plain": [
       "0    2891\n",
       "1    1046\n",
       "Name: churn_Yes, dtype: int64"
      ]
     },
     "execution_count": 18,
     "metadata": {},
     "output_type": "execute_result"
    }
   ],
   "source": [
    "train.churn_Yes.value_counts()"
   ]
  },
  {
   "cell_type": "code",
   "execution_count": 19,
   "id": "57955980",
   "metadata": {},
   "outputs": [
    {
     "name": "stdout",
     "output_type": "stream",
     "text": [
      "Baseline accuracy: 0.73\n"
     ]
    }
   ],
   "source": [
    "clf = DecisionTreeClassifier(max_depth=3, random_state=123)\n",
    "baseline_accuracy = (train.churn_Yes == 0).mean()\n",
    "print(f\"Baseline accuracy: {round(baseline_accuracy, 2)}\")"
   ]
  },
  {
   "cell_type": "code",
   "execution_count": 20,
   "id": "76d6ff60",
   "metadata": {},
   "outputs": [],
   "source": [
    "clf = clf.fit(X_train, y_train)"
   ]
  },
  {
   "cell_type": "code",
   "execution_count": 21,
   "id": "563b6d63",
   "metadata": {},
   "outputs": [],
   "source": [
    "# Make the model\n",
    "tree1 = DecisionTreeClassifier(max_depth=10, random_state=123)\n",
    "\n",
    "# Fit the model (on train and only train)\n",
    "tree1 = tree1.fit(X_train, y_train)\n",
    "\n",
    "# Use the model\n",
    "# We'll evaluate the model's performance on train, first\n",
    "y_predictions = tree1.predict(X_train)\n"
   ]
  },
  {
   "cell_type": "code",
   "execution_count": 22,
   "id": "9cfd5fbc",
   "metadata": {},
   "outputs": [
    {
     "data": {
      "text/html": [
       "<div>\n",
       "<style scoped>\n",
       "    .dataframe tbody tr th:only-of-type {\n",
       "        vertical-align: middle;\n",
       "    }\n",
       "\n",
       "    .dataframe tbody tr th {\n",
       "        vertical-align: top;\n",
       "    }\n",
       "\n",
       "    .dataframe thead th {\n",
       "        text-align: right;\n",
       "    }\n",
       "</style>\n",
       "<table border=\"1\" class=\"dataframe\">\n",
       "  <thead>\n",
       "    <tr style=\"text-align: right;\">\n",
       "      <th></th>\n",
       "      <th>internet_service_type_id</th>\n",
       "      <th>payment_type_id</th>\n",
       "      <th>contract_type_id</th>\n",
       "      <th>senior_citizen</th>\n",
       "      <th>tenure</th>\n",
       "      <th>monthly_charges</th>\n",
       "      <th>total_charges</th>\n",
       "      <th>churn</th>\n",
       "      <th>gender_Male</th>\n",
       "      <th>dependents_Yes</th>\n",
       "      <th>multiple_lines_No phone service</th>\n",
       "      <th>multiple_lines_Yes</th>\n",
       "      <th>tech_support_No internet service</th>\n",
       "      <th>tech_support_Yes</th>\n",
       "      <th>paperless_billing_Yes</th>\n",
       "      <th>churn_Yes</th>\n",
       "    </tr>\n",
       "  </thead>\n",
       "  <tbody>\n",
       "    <tr>\n",
       "      <th>5919</th>\n",
       "      <td>1</td>\n",
       "      <td>4</td>\n",
       "      <td>2</td>\n",
       "      <td>0</td>\n",
       "      <td>58</td>\n",
       "      <td>71.10</td>\n",
       "      <td>4299.20</td>\n",
       "      <td>0</td>\n",
       "      <td>0</td>\n",
       "      <td>0</td>\n",
       "      <td>0</td>\n",
       "      <td>1</td>\n",
       "      <td>0</td>\n",
       "      <td>1</td>\n",
       "      <td>1</td>\n",
       "      <td>0</td>\n",
       "    </tr>\n",
       "    <tr>\n",
       "      <th>1915</th>\n",
       "      <td>2</td>\n",
       "      <td>4</td>\n",
       "      <td>2</td>\n",
       "      <td>0</td>\n",
       "      <td>71</td>\n",
       "      <td>85.45</td>\n",
       "      <td>6028.95</td>\n",
       "      <td>0</td>\n",
       "      <td>1</td>\n",
       "      <td>1</td>\n",
       "      <td>0</td>\n",
       "      <td>1</td>\n",
       "      <td>0</td>\n",
       "      <td>0</td>\n",
       "      <td>1</td>\n",
       "      <td>0</td>\n",
       "    </tr>\n",
       "    <tr>\n",
       "      <th>5054</th>\n",
       "      <td>3</td>\n",
       "      <td>1</td>\n",
       "      <td>1</td>\n",
       "      <td>0</td>\n",
       "      <td>35</td>\n",
       "      <td>25.75</td>\n",
       "      <td>882.55</td>\n",
       "      <td>0</td>\n",
       "      <td>0</td>\n",
       "      <td>1</td>\n",
       "      <td>0</td>\n",
       "      <td>1</td>\n",
       "      <td>1</td>\n",
       "      <td>0</td>\n",
       "      <td>1</td>\n",
       "      <td>0</td>\n",
       "    </tr>\n",
       "    <tr>\n",
       "      <th>2355</th>\n",
       "      <td>3</td>\n",
       "      <td>2</td>\n",
       "      <td>1</td>\n",
       "      <td>0</td>\n",
       "      <td>1</td>\n",
       "      <td>19.20</td>\n",
       "      <td>19.20</td>\n",
       "      <td>0</td>\n",
       "      <td>1</td>\n",
       "      <td>1</td>\n",
       "      <td>0</td>\n",
       "      <td>0</td>\n",
       "      <td>1</td>\n",
       "      <td>0</td>\n",
       "      <td>0</td>\n",
       "      <td>0</td>\n",
       "    </tr>\n",
       "    <tr>\n",
       "      <th>6279</th>\n",
       "      <td>1</td>\n",
       "      <td>2</td>\n",
       "      <td>2</td>\n",
       "      <td>1</td>\n",
       "      <td>20</td>\n",
       "      <td>54.00</td>\n",
       "      <td>1055.90</td>\n",
       "      <td>0</td>\n",
       "      <td>1</td>\n",
       "      <td>0</td>\n",
       "      <td>0</td>\n",
       "      <td>0</td>\n",
       "      <td>0</td>\n",
       "      <td>1</td>\n",
       "      <td>0</td>\n",
       "      <td>0</td>\n",
       "    </tr>\n",
       "    <tr>\n",
       "      <th>...</th>\n",
       "      <td>...</td>\n",
       "      <td>...</td>\n",
       "      <td>...</td>\n",
       "      <td>...</td>\n",
       "      <td>...</td>\n",
       "      <td>...</td>\n",
       "      <td>...</td>\n",
       "      <td>...</td>\n",
       "      <td>...</td>\n",
       "      <td>...</td>\n",
       "      <td>...</td>\n",
       "      <td>...</td>\n",
       "      <td>...</td>\n",
       "      <td>...</td>\n",
       "      <td>...</td>\n",
       "      <td>...</td>\n",
       "    </tr>\n",
       "    <tr>\n",
       "      <th>394</th>\n",
       "      <td>2</td>\n",
       "      <td>4</td>\n",
       "      <td>1</td>\n",
       "      <td>0</td>\n",
       "      <td>24</td>\n",
       "      <td>88.95</td>\n",
       "      <td>2072.75</td>\n",
       "      <td>0</td>\n",
       "      <td>0</td>\n",
       "      <td>0</td>\n",
       "      <td>0</td>\n",
       "      <td>1</td>\n",
       "      <td>0</td>\n",
       "      <td>0</td>\n",
       "      <td>1</td>\n",
       "      <td>0</td>\n",
       "    </tr>\n",
       "    <tr>\n",
       "      <th>3763</th>\n",
       "      <td>2</td>\n",
       "      <td>1</td>\n",
       "      <td>1</td>\n",
       "      <td>0</td>\n",
       "      <td>10</td>\n",
       "      <td>100.25</td>\n",
       "      <td>1064.65</td>\n",
       "      <td>1</td>\n",
       "      <td>0</td>\n",
       "      <td>1</td>\n",
       "      <td>0</td>\n",
       "      <td>1</td>\n",
       "      <td>0</td>\n",
       "      <td>0</td>\n",
       "      <td>1</td>\n",
       "      <td>1</td>\n",
       "    </tr>\n",
       "    <tr>\n",
       "      <th>3444</th>\n",
       "      <td>3</td>\n",
       "      <td>4</td>\n",
       "      <td>3</td>\n",
       "      <td>0</td>\n",
       "      <td>22</td>\n",
       "      <td>25.25</td>\n",
       "      <td>555.40</td>\n",
       "      <td>0</td>\n",
       "      <td>0</td>\n",
       "      <td>1</td>\n",
       "      <td>0</td>\n",
       "      <td>1</td>\n",
       "      <td>1</td>\n",
       "      <td>0</td>\n",
       "      <td>0</td>\n",
       "      <td>0</td>\n",
       "    </tr>\n",
       "    <tr>\n",
       "      <th>1002</th>\n",
       "      <td>2</td>\n",
       "      <td>4</td>\n",
       "      <td>1</td>\n",
       "      <td>0</td>\n",
       "      <td>22</td>\n",
       "      <td>89.10</td>\n",
       "      <td>1949.40</td>\n",
       "      <td>0</td>\n",
       "      <td>1</td>\n",
       "      <td>1</td>\n",
       "      <td>0</td>\n",
       "      <td>1</td>\n",
       "      <td>0</td>\n",
       "      <td>0</td>\n",
       "      <td>1</td>\n",
       "      <td>0</td>\n",
       "    </tr>\n",
       "    <tr>\n",
       "      <th>4192</th>\n",
       "      <td>3</td>\n",
       "      <td>2</td>\n",
       "      <td>1</td>\n",
       "      <td>0</td>\n",
       "      <td>2</td>\n",
       "      <td>20.05</td>\n",
       "      <td>42.70</td>\n",
       "      <td>0</td>\n",
       "      <td>1</td>\n",
       "      <td>0</td>\n",
       "      <td>0</td>\n",
       "      <td>0</td>\n",
       "      <td>1</td>\n",
       "      <td>0</td>\n",
       "      <td>0</td>\n",
       "      <td>0</td>\n",
       "    </tr>\n",
       "  </tbody>\n",
       "</table>\n",
       "<p>3937 rows × 16 columns</p>\n",
       "</div>"
      ],
      "text/plain": [
       "      internet_service_type_id  payment_type_id  contract_type_id  \\\n",
       "5919                         1                4                 2   \n",
       "1915                         2                4                 2   \n",
       "5054                         3                1                 1   \n",
       "2355                         3                2                 1   \n",
       "6279                         1                2                 2   \n",
       "...                        ...              ...               ...   \n",
       "394                          2                4                 1   \n",
       "3763                         2                1                 1   \n",
       "3444                         3                4                 3   \n",
       "1002                         2                4                 1   \n",
       "4192                         3                2                 1   \n",
       "\n",
       "      senior_citizen  tenure  monthly_charges  total_charges  churn  \\\n",
       "5919               0      58            71.10        4299.20      0   \n",
       "1915               0      71            85.45        6028.95      0   \n",
       "5054               0      35            25.75         882.55      0   \n",
       "2355               0       1            19.20          19.20      0   \n",
       "6279               1      20            54.00        1055.90      0   \n",
       "...              ...     ...              ...            ...    ...   \n",
       "394                0      24            88.95        2072.75      0   \n",
       "3763               0      10           100.25        1064.65      1   \n",
       "3444               0      22            25.25         555.40      0   \n",
       "1002               0      22            89.10        1949.40      0   \n",
       "4192               0       2            20.05          42.70      0   \n",
       "\n",
       "      gender_Male  dependents_Yes  multiple_lines_No phone service  \\\n",
       "5919            0               0                                0   \n",
       "1915            1               1                                0   \n",
       "5054            0               1                                0   \n",
       "2355            1               1                                0   \n",
       "6279            1               0                                0   \n",
       "...           ...             ...                              ...   \n",
       "394             0               0                                0   \n",
       "3763            0               1                                0   \n",
       "3444            0               1                                0   \n",
       "1002            1               1                                0   \n",
       "4192            1               0                                0   \n",
       "\n",
       "      multiple_lines_Yes  tech_support_No internet service  tech_support_Yes  \\\n",
       "5919                   1                                 0                 1   \n",
       "1915                   1                                 0                 0   \n",
       "5054                   1                                 1                 0   \n",
       "2355                   0                                 1                 0   \n",
       "6279                   0                                 0                 1   \n",
       "...                  ...                               ...               ...   \n",
       "394                    1                                 0                 0   \n",
       "3763                   1                                 0                 0   \n",
       "3444                   1                                 1                 0   \n",
       "1002                   1                                 0                 0   \n",
       "4192                   0                                 1                 0   \n",
       "\n",
       "      paperless_billing_Yes  churn_Yes  \n",
       "5919                      1          0  \n",
       "1915                      1          0  \n",
       "5054                      1          0  \n",
       "2355                      0          0  \n",
       "6279                      0          0  \n",
       "...                     ...        ...  \n",
       "394                       1          0  \n",
       "3763                      1          1  \n",
       "3444                      0          0  \n",
       "1002                      1          0  \n",
       "4192                      0          0  \n",
       "\n",
       "[3937 rows x 16 columns]"
      ]
     },
     "execution_count": 22,
     "metadata": {},
     "output_type": "execute_result"
    }
   ],
   "source": [
    "train"
   ]
  },
  {
   "cell_type": "code",
   "execution_count": 23,
   "id": "c661f59c",
   "metadata": {},
   "outputs": [
    {
     "data": {
      "text/plain": [
       "[Text(362.7, 332.955, 'contract_type_id <= 1.5\\ngini = 0.39\\nsamples = 3937\\nvalue = [2891, 1046]\\nclass = 0'),\n",
       " Text(181.35, 237.825, 'monthly_charges <= 69.225\\ngini = 0.49\\nsamples = 2165\\nvalue = [1238, 927]\\nclass = 0'),\n",
       " Text(90.675, 142.695, 'tenure <= 5.5\\ngini = 0.408\\nsamples = 954\\nvalue = [682, 272]\\nclass = 0'),\n",
       " Text(45.3375, 47.565, 'gini = 0.489\\nsamples = 440\\nvalue = [253, 187]\\nclass = 0'),\n",
       " Text(136.0125, 47.565, 'gini = 0.276\\nsamples = 514\\nvalue = [429, 85]\\nclass = 0'),\n",
       " Text(272.025, 142.695, 'total_charges <= 1486.825\\ngini = 0.497\\nsamples = 1211\\nvalue = [556, 655]\\nclass = 1'),\n",
       " Text(226.6875, 47.565, 'gini = 0.433\\nsamples = 607\\nvalue = [192, 415]\\nclass = 1'),\n",
       " Text(317.3625, 47.565, 'gini = 0.479\\nsamples = 604\\nvalue = [364, 240]\\nclass = 0'),\n",
       " Text(544.05, 237.825, 'monthly_charges <= 93.775\\ngini = 0.125\\nsamples = 1772\\nvalue = [1653, 119]\\nclass = 0'),\n",
       " Text(453.375, 142.695, 'contract_type_id <= 2.5\\ngini = 0.072\\nsamples = 1328\\nvalue = [1278, 50]\\nclass = 0'),\n",
       " Text(408.03749999999997, 47.565, 'gini = 0.121\\nsamples = 587\\nvalue = [549, 38]\\nclass = 0'),\n",
       " Text(498.7125, 47.565, 'gini = 0.032\\nsamples = 741\\nvalue = [729, 12]\\nclass = 0'),\n",
       " Text(634.725, 142.695, 'total_charges <= 6586.2\\ngini = 0.263\\nsamples = 444\\nvalue = [375, 69]\\nclass = 0'),\n",
       " Text(589.3874999999999, 47.565, 'gini = 0.353\\nsamples = 214\\nvalue = [165, 49]\\nclass = 0'),\n",
       " Text(680.0625, 47.565, 'gini = 0.159\\nsamples = 230\\nvalue = [210, 20]\\nclass = 0')]"
      ]
     },
     "execution_count": 23,
     "metadata": {},
     "output_type": "execute_result"
    },
    {
     "data": {
      "image/png": "[encoded data removed]",
      "text/plain": [
       "<Figure size 936x504 with 1 Axes>"
      ]
     },
     "metadata": {
      "needs_background": "light"
     },
     "output_type": "display_data"
    }
   ],
   "source": [
    "plt.figure(figsize=(13, 7))\n",
    "plot_tree(clf, feature_names=X_train.columns, class_names=clf.classes_.astype(str), rounded=True)"
   ]
  },
  {
   "cell_type": "code",
   "execution_count": 24,
   "id": "6cc49222",
   "metadata": {},
   "outputs": [
    {
     "data": {
      "text/plain": [
       "array([[0.93526405, 0.06473595],\n",
       "       [0.93526405, 0.06473595],\n",
       "       [0.83463035, 0.16536965],\n",
       "       [0.575     , 0.425     ],\n",
       "       [0.93526405, 0.06473595]])"
      ]
     },
     "execution_count": 24,
     "metadata": {},
     "output_type": "execute_result"
    }
   ],
   "source": [
    "baseline_prediction = y_pred_proba = clf.predict_proba(X_train)\n",
    "y_pred_proba[0:5]"
   ]
  },
  {
   "cell_type": "code",
   "execution_count": 25,
   "id": "0786ba50",
   "metadata": {},
   "outputs": [
    {
     "name": "stdout",
     "output_type": "stream",
     "text": [
      "Accuracy of Decision Tree classifier on training set: 0.79\n"
     ]
    }
   ],
   "source": [
    "print('Accuracy of Decision Tree classifier on training set: {:.2f}'\n",
    "      .format(clf.score(X_train, y_train)))"
   ]
  },
  {
   "cell_type": "code",
   "execution_count": 26,
   "id": "e1983284",
   "metadata": {},
   "outputs": [
    {
     "name": "stdout",
     "output_type": "stream",
     "text": [
      "              precision    recall  f1-score   support\n",
      "\n",
      "           0       0.81      0.93      0.87      2891\n",
      "           1       0.68      0.40      0.50      1046\n",
      "\n",
      "    accuracy                           0.79      3937\n",
      "   macro avg       0.75      0.67      0.68      3937\n",
      "weighted avg       0.78      0.79      0.77      3937\n",
      "\n"
     ]
    }
   ],
   "source": [
    "y_pred = clf.predict(X_train)\n",
    "print(classification_report(y_train, y_pred))"
   ]
  },
  {
   "cell_type": "code",
   "execution_count": 27,
   "id": "796511eb",
   "metadata": {},
   "outputs": [
    {
     "data": {
      "text/plain": [
       "array([[2699,  192],\n",
       "       [ 631,  415]])"
      ]
     },
     "execution_count": 27,
     "metadata": {},
     "output_type": "execute_result"
    }
   ],
   "source": [
    "confusion_matrix(y_train, y_pred)"
   ]
  },
  {
   "cell_type": "code",
   "execution_count": 28,
   "id": "9ae7af05",
   "metadata": {},
   "outputs": [
    {
     "data": {
      "text/html": [
       "<div>\n",
       "<style scoped>\n",
       "    .dataframe tbody tr th:only-of-type {\n",
       "        vertical-align: middle;\n",
       "    }\n",
       "\n",
       "    .dataframe tbody tr th {\n",
       "        vertical-align: top;\n",
       "    }\n",
       "\n",
       "    .dataframe thead th {\n",
       "        text-align: right;\n",
       "    }\n",
       "</style>\n",
       "<table border=\"1\" class=\"dataframe\">\n",
       "  <thead>\n",
       "    <tr style=\"text-align: right;\">\n",
       "      <th>col_0</th>\n",
       "      <th>0</th>\n",
       "      <th>1</th>\n",
       "    </tr>\n",
       "    <tr>\n",
       "      <th>churn_Yes</th>\n",
       "      <th></th>\n",
       "      <th></th>\n",
       "    </tr>\n",
       "  </thead>\n",
       "  <tbody>\n",
       "    <tr>\n",
       "      <th>0</th>\n",
       "      <td>2699</td>\n",
       "      <td>192</td>\n",
       "    </tr>\n",
       "    <tr>\n",
       "      <th>1</th>\n",
       "      <td>631</td>\n",
       "      <td>415</td>\n",
       "    </tr>\n",
       "  </tbody>\n",
       "</table>\n",
       "</div>"
      ],
      "text/plain": [
       "col_0         0    1\n",
       "churn_Yes           \n",
       "0          2699  192\n",
       "1           631  415"
      ]
     },
     "execution_count": 28,
     "metadata": {},
     "output_type": "execute_result"
    }
   ],
   "source": [
    "pd.crosstab(y_train, y_pred)"
   ]
  },
  {
   "cell_type": "code",
   "execution_count": 29,
   "id": "e1cee0ed",
   "metadata": {},
   "outputs": [
    {
     "name": "stdout",
     "output_type": "stream",
     "text": [
      "              precision    recall  f1-score   support\n",
      "\n",
      "           0       0.81      0.93      0.87      2891\n",
      "           1       0.68      0.40      0.50      1046\n",
      "\n",
      "    accuracy                           0.79      3937\n",
      "   macro avg       0.75      0.67      0.68      3937\n",
      "weighted avg       0.78      0.79      0.77      3937\n",
      "\n"
     ]
    }
   ],
   "source": [
    "y_pred = clf.predict(X_train)\n",
    "print(classification_report(y_train,y_pred))"
   ]
  },
  {
   "cell_type": "code",
   "execution_count": 30,
   "id": "21c73613",
   "metadata": {},
   "outputs": [
    {
     "data": {
      "text/html": [
       "<div>\n",
       "<style scoped>\n",
       "    .dataframe tbody tr th:only-of-type {\n",
       "        vertical-align: middle;\n",
       "    }\n",
       "\n",
       "    .dataframe tbody tr th {\n",
       "        vertical-align: top;\n",
       "    }\n",
       "\n",
       "    .dataframe thead th {\n",
       "        text-align: right;\n",
       "    }\n",
       "</style>\n",
       "<table border=\"1\" class=\"dataframe\">\n",
       "  <thead>\n",
       "    <tr style=\"text-align: right;\">\n",
       "      <th></th>\n",
       "      <th>0</th>\n",
       "      <th>1</th>\n",
       "    </tr>\n",
       "  </thead>\n",
       "  <tbody>\n",
       "    <tr>\n",
       "      <th>0</th>\n",
       "      <td>0.935264</td>\n",
       "      <td>0.064736</td>\n",
       "    </tr>\n",
       "    <tr>\n",
       "      <th>1</th>\n",
       "      <td>0.935264</td>\n",
       "      <td>0.064736</td>\n",
       "    </tr>\n",
       "    <tr>\n",
       "      <th>2</th>\n",
       "      <td>0.834630</td>\n",
       "      <td>0.165370</td>\n",
       "    </tr>\n",
       "    <tr>\n",
       "      <th>3</th>\n",
       "      <td>0.575000</td>\n",
       "      <td>0.425000</td>\n",
       "    </tr>\n",
       "    <tr>\n",
       "      <th>4</th>\n",
       "      <td>0.935264</td>\n",
       "      <td>0.064736</td>\n",
       "    </tr>\n",
       "    <tr>\n",
       "      <th>...</th>\n",
       "      <td>...</td>\n",
       "      <td>...</td>\n",
       "    </tr>\n",
       "    <tr>\n",
       "      <th>3932</th>\n",
       "      <td>0.602649</td>\n",
       "      <td>0.397351</td>\n",
       "    </tr>\n",
       "    <tr>\n",
       "      <th>3933</th>\n",
       "      <td>0.316310</td>\n",
       "      <td>0.683690</td>\n",
       "    </tr>\n",
       "    <tr>\n",
       "      <th>3934</th>\n",
       "      <td>0.983806</td>\n",
       "      <td>0.016194</td>\n",
       "    </tr>\n",
       "    <tr>\n",
       "      <th>3935</th>\n",
       "      <td>0.602649</td>\n",
       "      <td>0.397351</td>\n",
       "    </tr>\n",
       "    <tr>\n",
       "      <th>3936</th>\n",
       "      <td>0.575000</td>\n",
       "      <td>0.425000</td>\n",
       "    </tr>\n",
       "  </tbody>\n",
       "</table>\n",
       "<p>3937 rows × 2 columns</p>\n",
       "</div>"
      ],
      "text/plain": [
       "             0         1\n",
       "0     0.935264  0.064736\n",
       "1     0.935264  0.064736\n",
       "2     0.834630  0.165370\n",
       "3     0.575000  0.425000\n",
       "4     0.935264  0.064736\n",
       "...        ...       ...\n",
       "3932  0.602649  0.397351\n",
       "3933  0.316310  0.683690\n",
       "3934  0.983806  0.016194\n",
       "3935  0.602649  0.397351\n",
       "3936  0.575000  0.425000\n",
       "\n",
       "[3937 rows x 2 columns]"
      ]
     },
     "execution_count": 30,
     "metadata": {},
     "output_type": "execute_result"
    }
   ],
   "source": [
    "churn_pred_prob = pd.DataFrame(clf.predict_proba(X_train))\n",
    "churn_pred_prob"
   ]
  },
  {
   "cell_type": "code",
   "execution_count": 31,
   "id": "5c50f539",
   "metadata": {},
   "outputs": [
    {
     "name": "stdout",
     "output_type": "stream",
     "text": [
      "Accuracy: 0.7909575819151639\n",
      "True Positive Rate: 0.8105105105105105\n",
      "False Positive Rate: 0.3163097199341021\n",
      "True Negative Rate: 0.6836902800658978\n",
      "False Negative Rate: 0.1894894894894895\n",
      "Precision: 0.9335869941196818\n",
      "Recall: 0.8105105105105105\n",
      "Fl_Score: 0.8677061565664684\n",
      "Support (0): {support_pos}\n",
      "Support (1): 607\n"
     ]
    }
   ],
   "source": [
    "\n",
    "TP = 2699\n",
    "FP = 192\n",
    "FN = 631\n",
    "TN = 415\n",
    "ALL = TP + FP + FN + TN\n",
    "accuracy = (TP + TN)/ALL\n",
    "print(f\"Accuracy: {accuracy}\")\n",
    "\n",
    "true_positive_rate = TP/(TP+FN)\n",
    "print(f\"True Positive Rate: {true_positive_rate}\")\n",
    "false_positive_rate = FP/(FP+TN)\n",
    "print(f\"False Positive Rate: {false_positive_rate}\")\n",
    "true_negative_rate = TN/(TN+FP)\n",
    "print(f\"True Negative Rate: {true_negative_rate}\")\n",
    "false_negative_rate = FN/(FN+TP)\n",
    "print(f\"False Negative Rate: {false_negative_rate}\")\n",
    "precision = TP/(TP+FP)\n",
    "print(f\"Precision: {precision}\")\n",
    "recall = TP/(TP+FN)\n",
    "print(f\"Recall: {recall}\")\n",
    "f1_score = 2* (precision*recall)/ (precision+recall)\n",
    "print (f\"Fl_Score: {f1_score}\")\n",
    "support_pos = TP + FN\n",
    "print (\"Support (0): {support_pos}\")\n",
    "support_neg = FP + TN\n",
    "print (f\"Support (1): {support_neg}\")"
   ]
  },
  {
   "cell_type": "code",
   "execution_count": 32,
   "id": "6ff836a5",
   "metadata": {},
   "outputs": [
    {
     "data": {
      "text/html": [
       "<div>\n",
       "<style scoped>\n",
       "    .dataframe tbody tr th:only-of-type {\n",
       "        vertical-align: middle;\n",
       "    }\n",
       "\n",
       "    .dataframe tbody tr th {\n",
       "        vertical-align: top;\n",
       "    }\n",
       "\n",
       "    .dataframe thead th {\n",
       "        text-align: right;\n",
       "    }\n",
       "</style>\n",
       "<table border=\"1\" class=\"dataframe\">\n",
       "  <thead>\n",
       "    <tr style=\"text-align: right;\">\n",
       "      <th></th>\n",
       "      <th>0</th>\n",
       "      <th>1</th>\n",
       "    </tr>\n",
       "  </thead>\n",
       "  <tbody>\n",
       "    <tr>\n",
       "      <th>0</th>\n",
       "      <td>2699</td>\n",
       "      <td>192</td>\n",
       "    </tr>\n",
       "    <tr>\n",
       "      <th>1</th>\n",
       "      <td>631</td>\n",
       "      <td>415</td>\n",
       "    </tr>\n",
       "  </tbody>\n",
       "</table>\n",
       "</div>"
      ],
      "text/plain": [
       "      0    1\n",
       "0  2699  192\n",
       "1   631  415"
      ]
     },
     "execution_count": 32,
     "metadata": {},
     "output_type": "execute_result"
    }
   ],
   "source": [
    "labels = sorted(y_train.unique())\n",
    "\n",
    "pd.DataFrame(confusion_matrix(y_train, y_pred), index=labels, columns=labels)"
   ]
  },
  {
   "cell_type": "code",
   "execution_count": 33,
   "id": "20611b78",
   "metadata": {},
   "outputs": [
    {
     "name": "stdout",
     "output_type": "stream",
     "text": [
      "Accuracy of Decision Tree classifier on training set: 0.84\n"
     ]
    },
    {
     "data": {
      "text/plain": [
       "array([[2699,  192],\n",
       "       [ 631,  415]])"
      ]
     },
     "execution_count": 33,
     "metadata": {},
     "output_type": "execute_result"
    }
   ],
   "source": [
    "clf = DecisionTreeClassifier(max_depth=8, random_state=123)\n",
    "clf = clf.fit(X_train, y_train)\n",
    "print('Accuracy of Decision Tree classifier on training set: {:.2f}'\n",
    "      .format(clf.score(X_train, y_train)))\n",
    "# confusion matrix\n",
    "\n",
    "confusion_matrix(y_train, y_pred)"
   ]
  },
  {
   "cell_type": "code",
   "execution_count": 34,
   "id": "15a9ae6c",
   "metadata": {},
   "outputs": [
    {
     "data": {
      "text/plain": [
       "0.7541469194312796"
      ]
     },
     "execution_count": 34,
     "metadata": {},
     "output_type": "execute_result"
    }
   ],
   "source": [
    "x = clf.score(X_validate,y_validate)\n",
    "x"
   ]
  },
  {
   "cell_type": "code",
   "execution_count": 35,
   "id": "8269be45",
   "metadata": {},
   "outputs": [
    {
     "data": {
      "text/plain": [
       "0.7541469194312796"
      ]
     },
     "execution_count": 35,
     "metadata": {},
     "output_type": "execute_result"
    }
   ],
   "source": [
    "y = clf.score(X_validate,y_validate)\n",
    "y"
   ]
  },
  {
   "cell_type": "code",
   "execution_count": 36,
   "id": "ea44adb7",
   "metadata": {},
   "outputs": [],
   "source": [
    "rf = RandomForestClassifier(bootstrap=True, \n",
    "                            class_weight=None, \n",
    "                            criterion='gini',\n",
    "                            min_samples_leaf=1,\n",
    "                            n_estimators=100,\n",
    "                            max_depth=10, \n",
    "                            random_state=123)"
   ]
  },
  {
   "cell_type": "code",
   "execution_count": 37,
   "id": "ed249e92",
   "metadata": {},
   "outputs": [
    {
     "name": "stdout",
     "output_type": "stream",
     "text": [
      "Accuracy of random forest classifier on training set: 0.89\n"
     ]
    }
   ],
   "source": [
    "rf.fit(X_train, y_train)\n",
    "y_pred = rf.predict(X_train)\n",
    "y_pred_proba = rf.predict_proba(X_train)\n",
    "print('Accuracy of random forest classifier on training set: {:.2f}'\n",
    "     .format(rf.score(X_train, y_train)))"
   ]
  },
  {
   "cell_type": "code",
   "execution_count": 38,
   "id": "f873de35",
   "metadata": {},
   "outputs": [
    {
     "name": "stdout",
     "output_type": "stream",
     "text": [
      "              precision    recall  f1-score   support\n",
      "\n",
      "           0       0.89      0.89      0.89      2891\n",
      "           1       0.71      0.70      0.70      1046\n",
      "\n",
      "    accuracy                           0.84      3937\n",
      "   macro avg       0.80      0.80      0.80      3937\n",
      "weighted avg       0.84      0.84      0.84      3937\n",
      "\n"
     ]
    }
   ],
   "source": [
    "y_pred = clf.predict(X_train)\n",
    "print(classification_report(y_train, y_pred))"
   ]
  },
  {
   "cell_type": "code",
   "execution_count": 39,
   "id": "ad628fc1",
   "metadata": {},
   "outputs": [
    {
     "name": "stdout",
     "output_type": "stream",
     "text": [
      "              precision    recall  f1-score   support\n",
      "\n",
      "           0       0.91      0.95      0.93      2891\n",
      "           1       0.84      0.73      0.78      1046\n",
      "\n",
      "    accuracy                           0.89      3937\n",
      "   macro avg       0.87      0.84      0.85      3937\n",
      "weighted avg       0.89      0.89      0.89      3937\n",
      "\n"
     ]
    }
   ],
   "source": [
    "y_pred = rf.predict(X_train)\n",
    "print(classification_report(y_train, y_pred))"
   ]
  },
  {
   "cell_type": "code",
   "execution_count": 40,
   "id": "a8031f4a",
   "metadata": {},
   "outputs": [
    {
     "data": {
      "text/plain": [
       "array([[2743,  148],\n",
       "       [ 280,  766]])"
      ]
     },
     "execution_count": 40,
     "metadata": {},
     "output_type": "execute_result"
    }
   ],
   "source": [
    "confusion_matrix(y_train, y_pred)"
   ]
  },
  {
   "cell_type": "code",
   "execution_count": 41,
   "id": "88b45800",
   "metadata": {},
   "outputs": [
    {
     "name": "stdout",
     "output_type": "stream",
     "text": [
      "Accuracy: 0.8912877825755652\n",
      "True Positive Rate: 0.9073767780350646\n",
      "False Positive Rate: 0.16192560175054704\n",
      "True Negative Rate: 0.838074398249453\n",
      "False Negative Rate: 0.0926232219649355\n",
      "Precision: 0.948806641300588\n",
      "Recall: 0.9073767780350646\n",
      "Fl_Score: 0.9276293540750762\n",
      "Support (0): {support_pos}\n",
      "Support (1): 914\n"
     ]
    }
   ],
   "source": [
    "TP = 2743\n",
    "FP = 148\n",
    "FN = 280\n",
    "TN = 766\n",
    "ALL = TP + FP + FN + TN\n",
    "accuracy = (TP + TN)/ALL\n",
    "print(f\"Accuracy: {accuracy}\")\n",
    "\n",
    "true_positive_rate = TP/(TP+FN)\n",
    "print(f\"True Positive Rate: {true_positive_rate}\")\n",
    "false_positive_rate = FP/(FP+TN)\n",
    "print(f\"False Positive Rate: {false_positive_rate}\")\n",
    "true_negative_rate = TN/(TN+FP)\n",
    "print(f\"True Negative Rate: {true_negative_rate}\")\n",
    "false_negative_rate = FN/(FN+TP)\n",
    "print(f\"False Negative Rate: {false_negative_rate}\")\n",
    "precision = TP/(TP+FP)\n",
    "print(f\"Precision: {precision}\")\n",
    "recall = TP/(TP+FN)\n",
    "print(f\"Recall: {recall}\")\n",
    "f1_score = 2* (precision*recall)/ (precision+recall)\n",
    "print (f\"Fl_Score: {f1_score}\")\n",
    "support_pos = TP + FN\n",
    "print (\"Support (0): {support_pos}\")\n",
    "support_neg = FP + TN\n",
    "print (f\"Support (1): {support_neg}\")"
   ]
  },
  {
   "cell_type": "markdown",
   "id": "acbe12d8",
   "metadata": {},
   "source": [
    "----------------------------------------------------------------------------------------------------------------------"
   ]
  },
  {
   "cell_type": "code",
   "execution_count": 42,
   "id": "36ce9d73",
   "metadata": {},
   "outputs": [],
   "source": [
    "knn = KNeighborsClassifier(n_neighbors=5, weights='uniform')"
   ]
  },
  {
   "cell_type": "code",
   "execution_count": 43,
   "id": "7be766ee",
   "metadata": {},
   "outputs": [
    {
     "name": "stdout",
     "output_type": "stream",
     "text": [
      "Accuracy of KNN classifier on training set: 0.83\n"
     ]
    }
   ],
   "source": [
    "knn.fit(X_train, y_train)\n",
    "y_pred = knn.predict(X_train)\n",
    "y_pred_proba = knn.predict_proba(X_train)\n",
    "print('Accuracy of KNN classifier on training set: {:.2f}'\n",
    "     .format(knn.score(X_train, y_train)))"
   ]
  },
  {
   "cell_type": "code",
   "execution_count": 44,
   "id": "17bdb3ee",
   "metadata": {},
   "outputs": [
    {
     "name": "stdout",
     "output_type": "stream",
     "text": [
      "[[2669  222]\n",
      " [ 445  601]]\n"
     ]
    }
   ],
   "source": [
    "print(confusion_matrix(y_train, y_pred))"
   ]
  },
  {
   "cell_type": "code",
   "execution_count": 45,
   "id": "b096d8f3",
   "metadata": {},
   "outputs": [
    {
     "name": "stdout",
     "output_type": "stream",
     "text": [
      "              precision    recall  f1-score   support\n",
      "\n",
      "           0       0.86      0.92      0.89      2891\n",
      "           1       0.73      0.57      0.64      1046\n",
      "\n",
      "    accuracy                           0.83      3937\n",
      "   macro avg       0.79      0.75      0.77      3937\n",
      "weighted avg       0.82      0.83      0.82      3937\n",
      "\n"
     ]
    }
   ],
   "source": [
    "print(classification_report(y_train, y_pred))"
   ]
  },
  {
   "cell_type": "code",
   "execution_count": 46,
   "id": "1dd2c2f3",
   "metadata": {},
   "outputs": [
    {
     "name": "stdout",
     "output_type": "stream",
     "text": [
      "Accuracy of KNN classifier on test set: 0.76\n"
     ]
    }
   ],
   "source": [
    "print('Accuracy of KNN classifier on test set: {:.2f}'\n",
    "     .format(knn.score(X_validate, y_validate)))"
   ]
  },
  {
   "cell_type": "code",
   "execution_count": 47,
   "id": "0f63182d",
   "metadata": {},
   "outputs": [],
   "source": [
    "# weights = ['uniform', 'density']\n",
    "knn = KNeighborsClassifier(n_neighbors=10, weights='uniform')\n",
    "knn.fit(X_train, y_train)\n",
    "y_pred = knn.predict(X_train)\n",
    "y_pred_proba = knn.predict_proba(X_train)"
   ]
  },
  {
   "cell_type": "code",
   "execution_count": 48,
   "id": "b53ff167",
   "metadata": {},
   "outputs": [
    {
     "name": "stdout",
     "output_type": "stream",
     "text": [
      "Accuracy of KNN classifier on training set: 0.81\n"
     ]
    }
   ],
   "source": [
    "print('Accuracy of KNN classifier on training set: {:.2f}'\n",
    "     .format(knn.score(X_train, y_train)))"
   ]
  },
  {
   "cell_type": "code",
   "execution_count": 49,
   "id": "48e1e751",
   "metadata": {},
   "outputs": [
    {
     "name": "stdout",
     "output_type": "stream",
     "text": [
      "[[2759  132]\n",
      " [ 620  426]]\n"
     ]
    }
   ],
   "source": [
    "print(confusion_matrix(y_train, y_pred))"
   ]
  },
  {
   "cell_type": "code",
   "execution_count": 50,
   "id": "2ba4b31c",
   "metadata": {},
   "outputs": [
    {
     "name": "stdout",
     "output_type": "stream",
     "text": [
      "Accuracy of KNN classifier on training set: 0.80\n"
     ]
    }
   ],
   "source": [
    "# weights = ['uniform', 'density']\n",
    "knn = KNeighborsClassifier(n_neighbors=10, weights='uniform')\n",
    "knn.fit(X_validate, y_validate)\n",
    "y_pred = knn.predict(X_validate)\n",
    "y_pred_proba = knn.predict_proba(X_validate)\n",
    "print('Accuracy of KNN classifier on training set: {:.2f}'\n",
    "     .format(knn.score(X_validate, y_validate)))"
   ]
  },
  {
   "cell_type": "code",
   "execution_count": 51,
   "id": "a6b86e6a",
   "metadata": {},
   "outputs": [
    {
     "name": "stdout",
     "output_type": "stream",
     "text": [
      "Accuracy of KNN classifier on training set: 0.78\n"
     ]
    }
   ],
   "source": [
    "# weights = ['uniform', 'density']\n",
    "knn = KNeighborsClassifier(n_neighbors=20, weights='uniform')\n",
    "knn.fit(X_validate, y_validate)\n",
    "y_pred = knn.predict(X_validate)\n",
    "y_pred_proba = knn.predict_proba(X_validate)\n",
    "print('Accuracy of KNN classifier on training set: {:.2f}'\n",
    "     .format(knn.score(X_validate, y_validate)))"
   ]
  },
  {
   "cell_type": "code",
   "execution_count": 52,
   "id": "e4b9744b",
   "metadata": {},
   "outputs": [
    {
     "name": "stdout",
     "output_type": "stream",
     "text": [
      "Accuracy of KNN classifier on training set: 0.78\n"
     ]
    }
   ],
   "source": [
    "knn.fit(X_validate, y_validate)\n",
    "y_pred = knn.predict(X_validate)\n",
    "y_pred_proba = knn.predict_proba(X_validate)\n",
    "print('Accuracy of KNN classifier on training set: {:.2f}'\n",
    "     .format(knn.score(X_validate, y_validate)))"
   ]
  },
  {
   "cell_type": "code",
   "execution_count": 53,
   "id": "52aab2dc",
   "metadata": {},
   "outputs": [
    {
     "name": "stdout",
     "output_type": "stream",
     "text": [
      "<class 'pandas.core.frame.DataFrame'>\n",
      "Int64Index: 3937 entries, 5919 to 4192\n",
      "Data columns (total 16 columns):\n",
      " #   Column                            Non-Null Count  Dtype  \n",
      "---  ------                            --------------  -----  \n",
      " 0   internet_service_type_id          3937 non-null   int64  \n",
      " 1   payment_type_id                   3937 non-null   int64  \n",
      " 2   contract_type_id                  3937 non-null   int64  \n",
      " 3   senior_citizen                    3937 non-null   int64  \n",
      " 4   tenure                            3937 non-null   int64  \n",
      " 5   monthly_charges                   3937 non-null   float64\n",
      " 6   total_charges                     3937 non-null   float64\n",
      " 7   churn                             3937 non-null   int64  \n",
      " 8   gender_Male                       3937 non-null   uint8  \n",
      " 9   dependents_Yes                    3937 non-null   uint8  \n",
      " 10  multiple_lines_No phone service   3937 non-null   uint8  \n",
      " 11  multiple_lines_Yes                3937 non-null   uint8  \n",
      " 12  tech_support_No internet service  3937 non-null   uint8  \n",
      " 13  tech_support_Yes                  3937 non-null   uint8  \n",
      " 14  paperless_billing_Yes             3937 non-null   uint8  \n",
      " 15  churn_Yes                         3937 non-null   uint8  \n",
      "dtypes: float64(2), int64(6), uint8(8)\n",
      "memory usage: 436.6 KB\n"
     ]
    }
   ],
   "source": [
    "train.info()"
   ]
  },
  {
   "cell_type": "code",
   "execution_count": 54,
   "id": "c121e6f9",
   "metadata": {},
   "outputs": [],
   "source": [
    "features = ['internet_service_type_id', 'contract_type_id','monthly_charges','gender_Male']"
   ]
  },
  {
   "cell_type": "code",
   "execution_count": 55,
   "id": "eb946593",
   "metadata": {},
   "outputs": [],
   "source": [
    "logit = LogisticRegression(random_state=123)"
   ]
  },
  {
   "cell_type": "code",
   "execution_count": 56,
   "id": "f42b079c",
   "metadata": {},
   "outputs": [],
   "source": [
    "logit = logit.fit(X_train[features], y_train)"
   ]
  },
  {
   "cell_type": "code",
   "execution_count": 57,
   "id": "5ca32fe2",
   "metadata": {},
   "outputs": [
    {
     "data": {
      "text/plain": [
       "0.7343154686309372"
      ]
     },
     "execution_count": 57,
     "metadata": {},
     "output_type": "execute_result"
    }
   ],
   "source": [
    "baseline = (train.churn == 0).mean()\n",
    "baseline"
   ]
  },
  {
   "cell_type": "code",
   "execution_count": 58,
   "id": "d460b319",
   "metadata": {},
   "outputs": [
    {
     "data": {
      "text/plain": [
       "0.7447294894589789"
      ]
     },
     "execution_count": 58,
     "metadata": {},
     "output_type": "execute_result"
    }
   ],
   "source": [
    "X_train = X_train[features]\n",
    "logit.score(X_train,y_train)"
   ]
  },
  {
   "cell_type": "code",
   "execution_count": null,
   "id": "cd39b8d4",
   "metadata": {},
   "outputs": [],
   "source": []
  }
 ],
 "metadata": {
  "kernelspec": {
   "display_name": "Python 3 (ipykernel)",
   "language": "python",
   "name": "python3"
  },
  "language_info": {
   "codemirror_mode": {
    "name": "ipython",
    "version": 3
   },
   "file_extension": ".py",
   "mimetype": "text/x-python",
   "name": "python",
   "nbconvert_exporter": "python",
   "pygments_lexer": "ipython3",
   "version": "3.9.7"
  }
 },
 "nbformat": 4,
 "nbformat_minor": 5
}

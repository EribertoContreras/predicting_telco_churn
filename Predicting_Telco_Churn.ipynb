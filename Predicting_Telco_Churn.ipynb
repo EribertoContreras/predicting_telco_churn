{
 "cells": [
  {
   "cell_type": "code",
   "execution_count": 1,
   "id": "24efcda9",
   "metadata": {},
   "outputs": [],
   "source": [
    "import numpy as np\n",
    "import seaborn as sns\n",
    "import scipy.stats as stats\n",
    "import pandas as pd\n",
    "import matplotlib.pyplot as plt\n",
    "import env\n",
    "from pydataset import data\n",
    "import scipy\n",
    "import os\n",
    "from sklearn.model_selection import train_test_split\n",
    "# turn off pink boxes for demo\n",
    "from sklearn.tree import DecisionTreeClassifier, plot_tree\n",
    "from sklearn.metrics import classification_report\n",
    "from sklearn.metrics import confusion_matrix\n",
    "from sklearn.ensemble import RandomForestClassifier\n",
    "from sklearn.neighbors import KNeighborsClassifier\n",
    "from sklearn.linear_model import LogisticRegression\n",
    "import warnings\n",
    "warnings.filterwarnings(\"ignore\")\n",
    "\n",
    "# import our own acquire module\n",
    "from acquire import get_telco_data\n",
    "from prepare import split_telco_data\n",
    "from prepare import prep_telco"
   ]
  },
  {
   "cell_type": "markdown",
   "id": "d169e166",
   "metadata": {},
   "source": [
    "## Telco Data set is now defined as DF"
   ]
  },
  {
   "cell_type": "markdown",
   "id": "a577ee17",
   "metadata": {},
   "source": [
    "# Plan\n",
    "\n",
    "### SUMMARY\n",
    "\n",
    "Codeup Data Science Team has requested a further exploration & understanding into Churn in the Telco Data set.\n",
    "\n",
    "They have requested that we find drivers for customer churn at Telco. Why are customers churning?\n",
    "\n",
    "1) what are the main drivers of churn?\n",
    "\n",
    "2) follow the bread crums that drive churn and make visuals?\n",
    "\n",
    "3) what services have the highest churn levels?\n",
    "\n",
    "### GOALS\n",
    "\n",
    "Project goals:\n",
    "\n",
    "1) Identify Churn drivers \n",
    "\n",
    "2) Creating a detailed Readme.md file to guide the reader into a further analysis of the data.\n",
    "\n",
    "3) a CSV file that predicts churn.\n",
    "\n",
    "4) .py files that go into detail with how the data was prepared and cut."
   ]
  },
  {
   "cell_type": "markdown",
   "id": "ac95c760",
   "metadata": {},
   "source": [
    "# ---------------------------------------------------------------------------------------------"
   ]
  },
  {
   "cell_type": "markdown",
   "id": "ac766439",
   "metadata": {},
   "source": [
    "### ACQUIRE"
   ]
  },
  {
   "cell_type": "code",
   "execution_count": 2,
   "id": "5073352d",
   "metadata": {},
   "outputs": [
    {
     "data": {
      "text/html": [
       "<div>\n",
       "<style scoped>\n",
       "    .dataframe tbody tr th:only-of-type {\n",
       "        vertical-align: middle;\n",
       "    }\n",
       "\n",
       "    .dataframe tbody tr th {\n",
       "        vertical-align: top;\n",
       "    }\n",
       "\n",
       "    .dataframe thead th {\n",
       "        text-align: right;\n",
       "    }\n",
       "</style>\n",
       "<table border=\"1\" class=\"dataframe\">\n",
       "  <thead>\n",
       "    <tr style=\"text-align: right;\">\n",
       "      <th></th>\n",
       "      <th>internet_service_type_id</th>\n",
       "      <th>payment_type_id</th>\n",
       "      <th>contract_type_id</th>\n",
       "      <th>customer_id</th>\n",
       "      <th>gender</th>\n",
       "      <th>senior_citizen</th>\n",
       "      <th>partner</th>\n",
       "      <th>dependents</th>\n",
       "      <th>tenure</th>\n",
       "      <th>phone_service</th>\n",
       "      <th>...</th>\n",
       "      <th>tech_support</th>\n",
       "      <th>streaming_tv</th>\n",
       "      <th>streaming_movies</th>\n",
       "      <th>paperless_billing</th>\n",
       "      <th>monthly_charges</th>\n",
       "      <th>total_charges</th>\n",
       "      <th>churn</th>\n",
       "      <th>contract_type</th>\n",
       "      <th>payment_type</th>\n",
       "      <th>internet_service_type</th>\n",
       "    </tr>\n",
       "  </thead>\n",
       "  <tbody>\n",
       "    <tr>\n",
       "      <th>0</th>\n",
       "      <td>1</td>\n",
       "      <td>2</td>\n",
       "      <td>2</td>\n",
       "      <td>0002-ORFBO</td>\n",
       "      <td>Female</td>\n",
       "      <td>0</td>\n",
       "      <td>Yes</td>\n",
       "      <td>Yes</td>\n",
       "      <td>9</td>\n",
       "      <td>Yes</td>\n",
       "      <td>...</td>\n",
       "      <td>Yes</td>\n",
       "      <td>Yes</td>\n",
       "      <td>No</td>\n",
       "      <td>Yes</td>\n",
       "      <td>65.6</td>\n",
       "      <td>593.3</td>\n",
       "      <td>No</td>\n",
       "      <td>One year</td>\n",
       "      <td>Mailed check</td>\n",
       "      <td>DSL</td>\n",
       "    </tr>\n",
       "    <tr>\n",
       "      <th>1</th>\n",
       "      <td>1</td>\n",
       "      <td>2</td>\n",
       "      <td>1</td>\n",
       "      <td>0003-MKNFE</td>\n",
       "      <td>Male</td>\n",
       "      <td>0</td>\n",
       "      <td>No</td>\n",
       "      <td>No</td>\n",
       "      <td>9</td>\n",
       "      <td>Yes</td>\n",
       "      <td>...</td>\n",
       "      <td>No</td>\n",
       "      <td>No</td>\n",
       "      <td>Yes</td>\n",
       "      <td>No</td>\n",
       "      <td>59.9</td>\n",
       "      <td>542.4</td>\n",
       "      <td>No</td>\n",
       "      <td>Month-to-month</td>\n",
       "      <td>Mailed check</td>\n",
       "      <td>DSL</td>\n",
       "    </tr>\n",
       "    <tr>\n",
       "      <th>2</th>\n",
       "      <td>2</td>\n",
       "      <td>1</td>\n",
       "      <td>1</td>\n",
       "      <td>0004-TLHLJ</td>\n",
       "      <td>Male</td>\n",
       "      <td>0</td>\n",
       "      <td>No</td>\n",
       "      <td>No</td>\n",
       "      <td>4</td>\n",
       "      <td>Yes</td>\n",
       "      <td>...</td>\n",
       "      <td>No</td>\n",
       "      <td>No</td>\n",
       "      <td>No</td>\n",
       "      <td>Yes</td>\n",
       "      <td>73.9</td>\n",
       "      <td>280.85</td>\n",
       "      <td>Yes</td>\n",
       "      <td>Month-to-month</td>\n",
       "      <td>Electronic check</td>\n",
       "      <td>Fiber optic</td>\n",
       "    </tr>\n",
       "    <tr>\n",
       "      <th>3</th>\n",
       "      <td>2</td>\n",
       "      <td>1</td>\n",
       "      <td>1</td>\n",
       "      <td>0011-IGKFF</td>\n",
       "      <td>Male</td>\n",
       "      <td>1</td>\n",
       "      <td>Yes</td>\n",
       "      <td>No</td>\n",
       "      <td>13</td>\n",
       "      <td>Yes</td>\n",
       "      <td>...</td>\n",
       "      <td>No</td>\n",
       "      <td>Yes</td>\n",
       "      <td>Yes</td>\n",
       "      <td>Yes</td>\n",
       "      <td>98.0</td>\n",
       "      <td>1237.85</td>\n",
       "      <td>Yes</td>\n",
       "      <td>Month-to-month</td>\n",
       "      <td>Electronic check</td>\n",
       "      <td>Fiber optic</td>\n",
       "    </tr>\n",
       "    <tr>\n",
       "      <th>4</th>\n",
       "      <td>2</td>\n",
       "      <td>2</td>\n",
       "      <td>1</td>\n",
       "      <td>0013-EXCHZ</td>\n",
       "      <td>Female</td>\n",
       "      <td>1</td>\n",
       "      <td>Yes</td>\n",
       "      <td>No</td>\n",
       "      <td>3</td>\n",
       "      <td>Yes</td>\n",
       "      <td>...</td>\n",
       "      <td>Yes</td>\n",
       "      <td>Yes</td>\n",
       "      <td>No</td>\n",
       "      <td>Yes</td>\n",
       "      <td>83.9</td>\n",
       "      <td>267.4</td>\n",
       "      <td>Yes</td>\n",
       "      <td>Month-to-month</td>\n",
       "      <td>Mailed check</td>\n",
       "      <td>Fiber optic</td>\n",
       "    </tr>\n",
       "  </tbody>\n",
       "</table>\n",
       "<p>5 rows × 24 columns</p>\n",
       "</div>"
      ],
      "text/plain": [
       "   internet_service_type_id  payment_type_id  contract_type_id customer_id  \\\n",
       "0                         1                2                 2  0002-ORFBO   \n",
       "1                         1                2                 1  0003-MKNFE   \n",
       "2                         2                1                 1  0004-TLHLJ   \n",
       "3                         2                1                 1  0011-IGKFF   \n",
       "4                         2                2                 1  0013-EXCHZ   \n",
       "\n",
       "   gender  senior_citizen partner dependents  tenure phone_service  ...  \\\n",
       "0  Female               0     Yes        Yes       9           Yes  ...   \n",
       "1    Male               0      No         No       9           Yes  ...   \n",
       "2    Male               0      No         No       4           Yes  ...   \n",
       "3    Male               1     Yes         No      13           Yes  ...   \n",
       "4  Female               1     Yes         No       3           Yes  ...   \n",
       "\n",
       "  tech_support streaming_tv streaming_movies paperless_billing  \\\n",
       "0          Yes          Yes               No               Yes   \n",
       "1           No           No              Yes                No   \n",
       "2           No           No               No               Yes   \n",
       "3           No          Yes              Yes               Yes   \n",
       "4          Yes          Yes               No               Yes   \n",
       "\n",
       "  monthly_charges total_charges churn   contract_type      payment_type  \\\n",
       "0            65.6         593.3    No        One year      Mailed check   \n",
       "1            59.9         542.4    No  Month-to-month      Mailed check   \n",
       "2            73.9        280.85   Yes  Month-to-month  Electronic check   \n",
       "3            98.0       1237.85   Yes  Month-to-month  Electronic check   \n",
       "4            83.9         267.4   Yes  Month-to-month      Mailed check   \n",
       "\n",
       "  internet_service_type  \n",
       "0                   DSL  \n",
       "1                   DSL  \n",
       "2           Fiber optic  \n",
       "3           Fiber optic  \n",
       "4           Fiber optic  \n",
       "\n",
       "[5 rows x 24 columns]"
      ]
     },
     "execution_count": 2,
     "metadata": {},
     "output_type": "execute_result"
    }
   ],
   "source": [
    "df = get_telco_data()\n",
    "df.head()"
   ]
  },
  {
   "cell_type": "code",
   "execution_count": 3,
   "id": "aea2435e",
   "metadata": {},
   "outputs": [
    {
     "data": {
      "text/html": [
       "<div>\n",
       "<style scoped>\n",
       "    .dataframe tbody tr th:only-of-type {\n",
       "        vertical-align: middle;\n",
       "    }\n",
       "\n",
       "    .dataframe tbody tr th {\n",
       "        vertical-align: top;\n",
       "    }\n",
       "\n",
       "    .dataframe thead th {\n",
       "        text-align: right;\n",
       "    }\n",
       "</style>\n",
       "<table border=\"1\" class=\"dataframe\">\n",
       "  <thead>\n",
       "    <tr style=\"text-align: right;\">\n",
       "      <th></th>\n",
       "      <th>internet_service_type_id</th>\n",
       "      <th>payment_type_id</th>\n",
       "      <th>contract_type_id</th>\n",
       "      <th>customer_id</th>\n",
       "      <th>gender</th>\n",
       "      <th>senior_citizen</th>\n",
       "      <th>dependents</th>\n",
       "      <th>tenure</th>\n",
       "      <th>multiple_lines</th>\n",
       "      <th>tech_support</th>\n",
       "      <th>...</th>\n",
       "      <th>total_charges</th>\n",
       "      <th>churn</th>\n",
       "      <th>gender_Male</th>\n",
       "      <th>dependents_Yes</th>\n",
       "      <th>multiple_lines_No phone service</th>\n",
       "      <th>multiple_lines_Yes</th>\n",
       "      <th>tech_support_No internet service</th>\n",
       "      <th>tech_support_Yes</th>\n",
       "      <th>paperless_billing_Yes</th>\n",
       "      <th>churn_Yes</th>\n",
       "    </tr>\n",
       "  </thead>\n",
       "  <tbody>\n",
       "    <tr>\n",
       "      <th>5919</th>\n",
       "      <td>1</td>\n",
       "      <td>4</td>\n",
       "      <td>2</td>\n",
       "      <td>8331-ZXFOE</td>\n",
       "      <td>Female</td>\n",
       "      <td>0</td>\n",
       "      <td>No</td>\n",
       "      <td>58</td>\n",
       "      <td>Yes</td>\n",
       "      <td>Yes</td>\n",
       "      <td>...</td>\n",
       "      <td>4299.20</td>\n",
       "      <td>No</td>\n",
       "      <td>0</td>\n",
       "      <td>0</td>\n",
       "      <td>0</td>\n",
       "      <td>1</td>\n",
       "      <td>0</td>\n",
       "      <td>1</td>\n",
       "      <td>1</td>\n",
       "      <td>0</td>\n",
       "    </tr>\n",
       "    <tr>\n",
       "      <th>1915</th>\n",
       "      <td>2</td>\n",
       "      <td>4</td>\n",
       "      <td>2</td>\n",
       "      <td>2790-XUYMV</td>\n",
       "      <td>Male</td>\n",
       "      <td>0</td>\n",
       "      <td>Yes</td>\n",
       "      <td>71</td>\n",
       "      <td>Yes</td>\n",
       "      <td>No</td>\n",
       "      <td>...</td>\n",
       "      <td>6028.95</td>\n",
       "      <td>No</td>\n",
       "      <td>1</td>\n",
       "      <td>1</td>\n",
       "      <td>0</td>\n",
       "      <td>1</td>\n",
       "      <td>0</td>\n",
       "      <td>0</td>\n",
       "      <td>1</td>\n",
       "      <td>0</td>\n",
       "    </tr>\n",
       "    <tr>\n",
       "      <th>5054</th>\n",
       "      <td>3</td>\n",
       "      <td>1</td>\n",
       "      <td>1</td>\n",
       "      <td>7107-UBYKY</td>\n",
       "      <td>Female</td>\n",
       "      <td>0</td>\n",
       "      <td>Yes</td>\n",
       "      <td>35</td>\n",
       "      <td>Yes</td>\n",
       "      <td>No internet service</td>\n",
       "      <td>...</td>\n",
       "      <td>882.55</td>\n",
       "      <td>No</td>\n",
       "      <td>0</td>\n",
       "      <td>1</td>\n",
       "      <td>0</td>\n",
       "      <td>1</td>\n",
       "      <td>1</td>\n",
       "      <td>0</td>\n",
       "      <td>1</td>\n",
       "      <td>0</td>\n",
       "    </tr>\n",
       "    <tr>\n",
       "      <th>2355</th>\n",
       "      <td>3</td>\n",
       "      <td>2</td>\n",
       "      <td>1</td>\n",
       "      <td>3373-YZZYM</td>\n",
       "      <td>Male</td>\n",
       "      <td>0</td>\n",
       "      <td>Yes</td>\n",
       "      <td>1</td>\n",
       "      <td>No</td>\n",
       "      <td>No internet service</td>\n",
       "      <td>...</td>\n",
       "      <td>19.20</td>\n",
       "      <td>No</td>\n",
       "      <td>1</td>\n",
       "      <td>1</td>\n",
       "      <td>0</td>\n",
       "      <td>0</td>\n",
       "      <td>1</td>\n",
       "      <td>0</td>\n",
       "      <td>0</td>\n",
       "      <td>0</td>\n",
       "    </tr>\n",
       "    <tr>\n",
       "      <th>6279</th>\n",
       "      <td>1</td>\n",
       "      <td>2</td>\n",
       "      <td>2</td>\n",
       "      <td>8883-GRDWQ</td>\n",
       "      <td>Male</td>\n",
       "      <td>1</td>\n",
       "      <td>No</td>\n",
       "      <td>20</td>\n",
       "      <td>No</td>\n",
       "      <td>Yes</td>\n",
       "      <td>...</td>\n",
       "      <td>1055.90</td>\n",
       "      <td>No</td>\n",
       "      <td>1</td>\n",
       "      <td>0</td>\n",
       "      <td>0</td>\n",
       "      <td>0</td>\n",
       "      <td>0</td>\n",
       "      <td>1</td>\n",
       "      <td>0</td>\n",
       "      <td>0</td>\n",
       "    </tr>\n",
       "    <tr>\n",
       "      <th>...</th>\n",
       "      <td>...</td>\n",
       "      <td>...</td>\n",
       "      <td>...</td>\n",
       "      <td>...</td>\n",
       "      <td>...</td>\n",
       "      <td>...</td>\n",
       "      <td>...</td>\n",
       "      <td>...</td>\n",
       "      <td>...</td>\n",
       "      <td>...</td>\n",
       "      <td>...</td>\n",
       "      <td>...</td>\n",
       "      <td>...</td>\n",
       "      <td>...</td>\n",
       "      <td>...</td>\n",
       "      <td>...</td>\n",
       "      <td>...</td>\n",
       "      <td>...</td>\n",
       "      <td>...</td>\n",
       "      <td>...</td>\n",
       "      <td>...</td>\n",
       "    </tr>\n",
       "    <tr>\n",
       "      <th>394</th>\n",
       "      <td>2</td>\n",
       "      <td>4</td>\n",
       "      <td>1</td>\n",
       "      <td>0581-MDMPW</td>\n",
       "      <td>Female</td>\n",
       "      <td>0</td>\n",
       "      <td>No</td>\n",
       "      <td>24</td>\n",
       "      <td>Yes</td>\n",
       "      <td>No</td>\n",
       "      <td>...</td>\n",
       "      <td>2072.75</td>\n",
       "      <td>No</td>\n",
       "      <td>0</td>\n",
       "      <td>0</td>\n",
       "      <td>0</td>\n",
       "      <td>1</td>\n",
       "      <td>0</td>\n",
       "      <td>0</td>\n",
       "      <td>1</td>\n",
       "      <td>0</td>\n",
       "    </tr>\n",
       "    <tr>\n",
       "      <th>3763</th>\n",
       "      <td>2</td>\n",
       "      <td>1</td>\n",
       "      <td>1</td>\n",
       "      <td>5299-RULOA</td>\n",
       "      <td>Female</td>\n",
       "      <td>0</td>\n",
       "      <td>Yes</td>\n",
       "      <td>10</td>\n",
       "      <td>Yes</td>\n",
       "      <td>No</td>\n",
       "      <td>...</td>\n",
       "      <td>1064.65</td>\n",
       "      <td>Yes</td>\n",
       "      <td>0</td>\n",
       "      <td>1</td>\n",
       "      <td>0</td>\n",
       "      <td>1</td>\n",
       "      <td>0</td>\n",
       "      <td>0</td>\n",
       "      <td>1</td>\n",
       "      <td>1</td>\n",
       "    </tr>\n",
       "    <tr>\n",
       "      <th>3444</th>\n",
       "      <td>3</td>\n",
       "      <td>4</td>\n",
       "      <td>3</td>\n",
       "      <td>4883-KCPZJ</td>\n",
       "      <td>Female</td>\n",
       "      <td>0</td>\n",
       "      <td>Yes</td>\n",
       "      <td>22</td>\n",
       "      <td>Yes</td>\n",
       "      <td>No internet service</td>\n",
       "      <td>...</td>\n",
       "      <td>555.40</td>\n",
       "      <td>No</td>\n",
       "      <td>0</td>\n",
       "      <td>1</td>\n",
       "      <td>0</td>\n",
       "      <td>1</td>\n",
       "      <td>1</td>\n",
       "      <td>0</td>\n",
       "      <td>0</td>\n",
       "      <td>0</td>\n",
       "    </tr>\n",
       "    <tr>\n",
       "      <th>1002</th>\n",
       "      <td>2</td>\n",
       "      <td>4</td>\n",
       "      <td>1</td>\n",
       "      <td>1452-KIOVK</td>\n",
       "      <td>Male</td>\n",
       "      <td>0</td>\n",
       "      <td>Yes</td>\n",
       "      <td>22</td>\n",
       "      <td>Yes</td>\n",
       "      <td>No</td>\n",
       "      <td>...</td>\n",
       "      <td>1949.40</td>\n",
       "      <td>No</td>\n",
       "      <td>1</td>\n",
       "      <td>1</td>\n",
       "      <td>0</td>\n",
       "      <td>1</td>\n",
       "      <td>0</td>\n",
       "      <td>0</td>\n",
       "      <td>1</td>\n",
       "      <td>0</td>\n",
       "    </tr>\n",
       "    <tr>\n",
       "      <th>4192</th>\n",
       "      <td>3</td>\n",
       "      <td>2</td>\n",
       "      <td>1</td>\n",
       "      <td>5919-VCZYM</td>\n",
       "      <td>Male</td>\n",
       "      <td>0</td>\n",
       "      <td>No</td>\n",
       "      <td>2</td>\n",
       "      <td>No</td>\n",
       "      <td>No internet service</td>\n",
       "      <td>...</td>\n",
       "      <td>42.70</td>\n",
       "      <td>No</td>\n",
       "      <td>1</td>\n",
       "      <td>0</td>\n",
       "      <td>0</td>\n",
       "      <td>0</td>\n",
       "      <td>1</td>\n",
       "      <td>0</td>\n",
       "      <td>0</td>\n",
       "      <td>0</td>\n",
       "    </tr>\n",
       "  </tbody>\n",
       "</table>\n",
       "<p>3937 rows × 22 columns</p>\n",
       "</div>"
      ],
      "text/plain": [
       "      internet_service_type_id  payment_type_id  contract_type_id customer_id  \\\n",
       "5919                         1                4                 2  8331-ZXFOE   \n",
       "1915                         2                4                 2  2790-XUYMV   \n",
       "5054                         3                1                 1  7107-UBYKY   \n",
       "2355                         3                2                 1  3373-YZZYM   \n",
       "6279                         1                2                 2  8883-GRDWQ   \n",
       "...                        ...              ...               ...         ...   \n",
       "394                          2                4                 1  0581-MDMPW   \n",
       "3763                         2                1                 1  5299-RULOA   \n",
       "3444                         3                4                 3  4883-KCPZJ   \n",
       "1002                         2                4                 1  1452-KIOVK   \n",
       "4192                         3                2                 1  5919-VCZYM   \n",
       "\n",
       "      gender  senior_citizen dependents  tenure multiple_lines  \\\n",
       "5919  Female               0         No      58            Yes   \n",
       "1915    Male               0        Yes      71            Yes   \n",
       "5054  Female               0        Yes      35            Yes   \n",
       "2355    Male               0        Yes       1             No   \n",
       "6279    Male               1         No      20             No   \n",
       "...      ...             ...        ...     ...            ...   \n",
       "394   Female               0         No      24            Yes   \n",
       "3763  Female               0        Yes      10            Yes   \n",
       "3444  Female               0        Yes      22            Yes   \n",
       "1002    Male               0        Yes      22            Yes   \n",
       "4192    Male               0         No       2             No   \n",
       "\n",
       "             tech_support  ... total_charges  churn  gender_Male  \\\n",
       "5919                  Yes  ...       4299.20     No            0   \n",
       "1915                   No  ...       6028.95     No            1   \n",
       "5054  No internet service  ...        882.55     No            0   \n",
       "2355  No internet service  ...         19.20     No            1   \n",
       "6279                  Yes  ...       1055.90     No            1   \n",
       "...                   ...  ...           ...    ...          ...   \n",
       "394                    No  ...       2072.75     No            0   \n",
       "3763                   No  ...       1064.65    Yes            0   \n",
       "3444  No internet service  ...        555.40     No            0   \n",
       "1002                   No  ...       1949.40     No            1   \n",
       "4192  No internet service  ...         42.70     No            1   \n",
       "\n",
       "     dependents_Yes  multiple_lines_No phone service  multiple_lines_Yes  \\\n",
       "5919              0                                0                   1   \n",
       "1915              1                                0                   1   \n",
       "5054              1                                0                   1   \n",
       "2355              1                                0                   0   \n",
       "6279              0                                0                   0   \n",
       "...             ...                              ...                 ...   \n",
       "394               0                                0                   1   \n",
       "3763              1                                0                   1   \n",
       "3444              1                                0                   1   \n",
       "1002              1                                0                   1   \n",
       "4192              0                                0                   0   \n",
       "\n",
       "      tech_support_No internet service  tech_support_Yes  \\\n",
       "5919                                 0                 1   \n",
       "1915                                 0                 0   \n",
       "5054                                 1                 0   \n",
       "2355                                 1                 0   \n",
       "6279                                 0                 1   \n",
       "...                                ...               ...   \n",
       "394                                  0                 0   \n",
       "3763                                 0                 0   \n",
       "3444                                 1                 0   \n",
       "1002                                 0                 0   \n",
       "4192                                 1                 0   \n",
       "\n",
       "      paperless_billing_Yes  churn_Yes  \n",
       "5919                      1          0  \n",
       "1915                      1          0  \n",
       "5054                      1          0  \n",
       "2355                      0          0  \n",
       "6279                      0          0  \n",
       "...                     ...        ...  \n",
       "394                       1          0  \n",
       "3763                      1          1  \n",
       "3444                      0          0  \n",
       "1002                      1          0  \n",
       "4192                      0          0  \n",
       "\n",
       "[3937 rows x 22 columns]"
      ]
     },
     "execution_count": 3,
     "metadata": {},
     "output_type": "execute_result"
    }
   ],
   "source": [
    "train, validate, test = prep_telco(df)\n",
    "train"
   ]
  },
  {
   "cell_type": "markdown",
   "id": "e0c67d7c",
   "metadata": {},
   "source": [
    "# ---------------------------------------------------------------------------------------------"
   ]
  },
  {
   "cell_type": "markdown",
   "id": "d99392e1",
   "metadata": {},
   "source": [
    "# Prepare\n",
    "\n",
    "## Preparing data\n",
    "\n",
    "#### Using functions from prepare.py\n",
    "\n",
    "- we have removed the null values \n",
    "- replaced yes and no values with 1 and 0 for the data to be processed and analized correctly \n",
    "- data from internet, service and payment type have been transformed and defined below\n",
    "- data has also been split for testing and statistical predcitions "
   ]
  },
  {
   "cell_type": "markdown",
   "id": "49b5bf28",
   "metadata": {},
   "source": [
    "### Gender to gender_Male: 1 = Male, 0 = Female"
   ]
  },
  {
   "cell_type": "code",
   "execution_count": 4,
   "id": "1b098aa1",
   "metadata": {},
   "outputs": [
    {
     "data": {
      "text/html": [
       "<div>\n",
       "<style scoped>\n",
       "    .dataframe tbody tr th:only-of-type {\n",
       "        vertical-align: middle;\n",
       "    }\n",
       "\n",
       "    .dataframe tbody tr th {\n",
       "        vertical-align: top;\n",
       "    }\n",
       "\n",
       "    .dataframe thead th {\n",
       "        text-align: right;\n",
       "    }\n",
       "</style>\n",
       "<table border=\"1\" class=\"dataframe\">\n",
       "  <thead>\n",
       "    <tr style=\"text-align: right;\">\n",
       "      <th>gender_Male</th>\n",
       "      <th>0</th>\n",
       "      <th>1</th>\n",
       "    </tr>\n",
       "    <tr>\n",
       "      <th>gender</th>\n",
       "      <th></th>\n",
       "      <th></th>\n",
       "    </tr>\n",
       "  </thead>\n",
       "  <tbody>\n",
       "    <tr>\n",
       "      <th>Female</th>\n",
       "      <td>1961</td>\n",
       "      <td>0</td>\n",
       "    </tr>\n",
       "    <tr>\n",
       "      <th>Male</th>\n",
       "      <td>0</td>\n",
       "      <td>1976</td>\n",
       "    </tr>\n",
       "  </tbody>\n",
       "</table>\n",
       "</div>"
      ],
      "text/plain": [
       "gender_Male     0     1\n",
       "gender                 \n",
       "Female       1961     0\n",
       "Male            0  1976"
      ]
     },
     "execution_count": 4,
     "metadata": {},
     "output_type": "execute_result"
    }
   ],
   "source": [
    "pd.crosstab(df.gender, train.gender_Male)"
   ]
  },
  {
   "cell_type": "markdown",
   "id": "f81d211c",
   "metadata": {},
   "source": [
    "### Churn to churn_Yes:  1 = has churn, 0 = no churn"
   ]
  },
  {
   "cell_type": "code",
   "execution_count": 5,
   "id": "2175596e",
   "metadata": {},
   "outputs": [
    {
     "data": {
      "text/html": [
       "<div>\n",
       "<style scoped>\n",
       "    .dataframe tbody tr th:only-of-type {\n",
       "        vertical-align: middle;\n",
       "    }\n",
       "\n",
       "    .dataframe tbody tr th {\n",
       "        vertical-align: top;\n",
       "    }\n",
       "\n",
       "    .dataframe thead th {\n",
       "        text-align: right;\n",
       "    }\n",
       "</style>\n",
       "<table border=\"1\" class=\"dataframe\">\n",
       "  <thead>\n",
       "    <tr style=\"text-align: right;\">\n",
       "      <th>churn</th>\n",
       "      <th>No</th>\n",
       "      <th>Yes</th>\n",
       "    </tr>\n",
       "    <tr>\n",
       "      <th>churn_Yes</th>\n",
       "      <th></th>\n",
       "      <th></th>\n",
       "    </tr>\n",
       "  </thead>\n",
       "  <tbody>\n",
       "    <tr>\n",
       "      <th>0</th>\n",
       "      <td>2891</td>\n",
       "      <td>0</td>\n",
       "    </tr>\n",
       "    <tr>\n",
       "      <th>1</th>\n",
       "      <td>0</td>\n",
       "      <td>1046</td>\n",
       "    </tr>\n",
       "  </tbody>\n",
       "</table>\n",
       "</div>"
      ],
      "text/plain": [
       "churn        No   Yes\n",
       "churn_Yes            \n",
       "0          2891     0\n",
       "1             0  1046"
      ]
     },
     "execution_count": 5,
     "metadata": {},
     "output_type": "execute_result"
    }
   ],
   "source": [
    "pd.crosstab(train.churn_Yes, df.churn)"
   ]
  },
  {
   "cell_type": "markdown",
   "id": "a4d82048",
   "metadata": {},
   "source": [
    "### Internet Service type: 1 = DSL, 2 = Fiber optic, 3 = None "
   ]
  },
  {
   "cell_type": "code",
   "execution_count": 6,
   "id": "85031c9d",
   "metadata": {},
   "outputs": [
    {
     "data": {
      "text/html": [
       "<div>\n",
       "<style scoped>\n",
       "    .dataframe tbody tr th:only-of-type {\n",
       "        vertical-align: middle;\n",
       "    }\n",
       "\n",
       "    .dataframe tbody tr th {\n",
       "        vertical-align: top;\n",
       "    }\n",
       "\n",
       "    .dataframe thead th {\n",
       "        text-align: right;\n",
       "    }\n",
       "</style>\n",
       "<table border=\"1\" class=\"dataframe\">\n",
       "  <thead>\n",
       "    <tr style=\"text-align: right;\">\n",
       "      <th>internet_service_type_id</th>\n",
       "      <th>1</th>\n",
       "      <th>2</th>\n",
       "      <th>3</th>\n",
       "    </tr>\n",
       "    <tr>\n",
       "      <th>internet_service_type</th>\n",
       "      <th></th>\n",
       "      <th></th>\n",
       "      <th></th>\n",
       "    </tr>\n",
       "  </thead>\n",
       "  <tbody>\n",
       "    <tr>\n",
       "      <th>DSL</th>\n",
       "      <td>2421</td>\n",
       "      <td>0</td>\n",
       "      <td>0</td>\n",
       "    </tr>\n",
       "    <tr>\n",
       "      <th>Fiber optic</th>\n",
       "      <td>0</td>\n",
       "      <td>3096</td>\n",
       "      <td>0</td>\n",
       "    </tr>\n",
       "    <tr>\n",
       "      <th>None</th>\n",
       "      <td>0</td>\n",
       "      <td>0</td>\n",
       "      <td>1526</td>\n",
       "    </tr>\n",
       "  </tbody>\n",
       "</table>\n",
       "</div>"
      ],
      "text/plain": [
       "internet_service_type_id     1     2     3\n",
       "internet_service_type                     \n",
       "DSL                       2421     0     0\n",
       "Fiber optic                  0  3096     0\n",
       "None                         0     0  1526"
      ]
     },
     "execution_count": 6,
     "metadata": {},
     "output_type": "execute_result"
    }
   ],
   "source": [
    "pd.crosstab(df.internet_service_type,df.internet_service_type_id)"
   ]
  },
  {
   "cell_type": "markdown",
   "id": "3a97887d",
   "metadata": {},
   "source": [
    "### Contract type: 1 = Month-to-month, 2 = One year, 3 = Two year"
   ]
  },
  {
   "cell_type": "code",
   "execution_count": 7,
   "id": "e285eedc",
   "metadata": {},
   "outputs": [
    {
     "data": {
      "text/html": [
       "<div>\n",
       "<style scoped>\n",
       "    .dataframe tbody tr th:only-of-type {\n",
       "        vertical-align: middle;\n",
       "    }\n",
       "\n",
       "    .dataframe tbody tr th {\n",
       "        vertical-align: top;\n",
       "    }\n",
       "\n",
       "    .dataframe thead th {\n",
       "        text-align: right;\n",
       "    }\n",
       "</style>\n",
       "<table border=\"1\" class=\"dataframe\">\n",
       "  <thead>\n",
       "    <tr style=\"text-align: right;\">\n",
       "      <th>contract_type_id</th>\n",
       "      <th>1</th>\n",
       "      <th>2</th>\n",
       "      <th>3</th>\n",
       "    </tr>\n",
       "    <tr>\n",
       "      <th>contract_type</th>\n",
       "      <th></th>\n",
       "      <th></th>\n",
       "      <th></th>\n",
       "    </tr>\n",
       "  </thead>\n",
       "  <tbody>\n",
       "    <tr>\n",
       "      <th>Month-to-month</th>\n",
       "      <td>3875</td>\n",
       "      <td>0</td>\n",
       "      <td>0</td>\n",
       "    </tr>\n",
       "    <tr>\n",
       "      <th>One year</th>\n",
       "      <td>0</td>\n",
       "      <td>1473</td>\n",
       "      <td>0</td>\n",
       "    </tr>\n",
       "    <tr>\n",
       "      <th>Two year</th>\n",
       "      <td>0</td>\n",
       "      <td>0</td>\n",
       "      <td>1695</td>\n",
       "    </tr>\n",
       "  </tbody>\n",
       "</table>\n",
       "</div>"
      ],
      "text/plain": [
       "contract_type_id     1     2     3\n",
       "contract_type                     \n",
       "Month-to-month    3875     0     0\n",
       "One year             0  1473     0\n",
       "Two year             0     0  1695"
      ]
     },
     "execution_count": 7,
     "metadata": {},
     "output_type": "execute_result"
    }
   ],
   "source": [
    "pd.crosstab(df.contract_type,df.contract_type_id)"
   ]
  },
  {
   "cell_type": "markdown",
   "id": "6c7335db",
   "metadata": {},
   "source": [
    "### Payment Type: 1 = Electronic check, 2 = Mailed check, 3 = Bank transfer (automatic), 4 = Credit card (automatic)"
   ]
  },
  {
   "cell_type": "code",
   "execution_count": 8,
   "id": "98237059",
   "metadata": {},
   "outputs": [
    {
     "data": {
      "text/html": [
       "<div>\n",
       "<style scoped>\n",
       "    .dataframe tbody tr th:only-of-type {\n",
       "        vertical-align: middle;\n",
       "    }\n",
       "\n",
       "    .dataframe tbody tr th {\n",
       "        vertical-align: top;\n",
       "    }\n",
       "\n",
       "    .dataframe thead th {\n",
       "        text-align: right;\n",
       "    }\n",
       "</style>\n",
       "<table border=\"1\" class=\"dataframe\">\n",
       "  <thead>\n",
       "    <tr style=\"text-align: right;\">\n",
       "      <th>payment_type_id</th>\n",
       "      <th>1</th>\n",
       "      <th>2</th>\n",
       "      <th>3</th>\n",
       "      <th>4</th>\n",
       "    </tr>\n",
       "    <tr>\n",
       "      <th>payment_type</th>\n",
       "      <th></th>\n",
       "      <th></th>\n",
       "      <th></th>\n",
       "      <th></th>\n",
       "    </tr>\n",
       "  </thead>\n",
       "  <tbody>\n",
       "    <tr>\n",
       "      <th>Bank transfer (automatic)</th>\n",
       "      <td>0</td>\n",
       "      <td>0</td>\n",
       "      <td>1544</td>\n",
       "      <td>0</td>\n",
       "    </tr>\n",
       "    <tr>\n",
       "      <th>Credit card (automatic)</th>\n",
       "      <td>0</td>\n",
       "      <td>0</td>\n",
       "      <td>0</td>\n",
       "      <td>1522</td>\n",
       "    </tr>\n",
       "    <tr>\n",
       "      <th>Electronic check</th>\n",
       "      <td>2365</td>\n",
       "      <td>0</td>\n",
       "      <td>0</td>\n",
       "      <td>0</td>\n",
       "    </tr>\n",
       "    <tr>\n",
       "      <th>Mailed check</th>\n",
       "      <td>0</td>\n",
       "      <td>1612</td>\n",
       "      <td>0</td>\n",
       "      <td>0</td>\n",
       "    </tr>\n",
       "  </tbody>\n",
       "</table>\n",
       "</div>"
      ],
      "text/plain": [
       "payment_type_id               1     2     3     4\n",
       "payment_type                                     \n",
       "Bank transfer (automatic)     0     0  1544     0\n",
       "Credit card (automatic)       0     0     0  1522\n",
       "Electronic check           2365     0     0     0\n",
       "Mailed check                  0  1612     0     0"
      ]
     },
     "execution_count": 8,
     "metadata": {},
     "output_type": "execute_result"
    }
   ],
   "source": [
    "pd.crosstab(df.payment_type,df.payment_type_id)"
   ]
  },
  {
   "cell_type": "markdown",
   "id": "c22609cb",
   "metadata": {},
   "source": [
    "### Senior citizen: 0 = Not a senior citizen 1 = is a senior citizen"
   ]
  },
  {
   "cell_type": "code",
   "execution_count": 9,
   "id": "7610fc16",
   "metadata": {},
   "outputs": [
    {
     "data": {
      "text/html": [
       "<div>\n",
       "<style scoped>\n",
       "    .dataframe tbody tr th:only-of-type {\n",
       "        vertical-align: middle;\n",
       "    }\n",
       "\n",
       "    .dataframe tbody tr th {\n",
       "        vertical-align: top;\n",
       "    }\n",
       "\n",
       "    .dataframe thead th {\n",
       "        text-align: right;\n",
       "    }\n",
       "</style>\n",
       "<table border=\"1\" class=\"dataframe\">\n",
       "  <thead>\n",
       "    <tr style=\"text-align: right;\">\n",
       "      <th>senior_citizen</th>\n",
       "      <th>0</th>\n",
       "      <th>1</th>\n",
       "    </tr>\n",
       "    <tr>\n",
       "      <th>senior_citizen</th>\n",
       "      <th></th>\n",
       "      <th></th>\n",
       "    </tr>\n",
       "  </thead>\n",
       "  <tbody>\n",
       "    <tr>\n",
       "      <th>0</th>\n",
       "      <td>3302</td>\n",
       "      <td>0</td>\n",
       "    </tr>\n",
       "    <tr>\n",
       "      <th>1</th>\n",
       "      <td>0</td>\n",
       "      <td>635</td>\n",
       "    </tr>\n",
       "  </tbody>\n",
       "</table>\n",
       "</div>"
      ],
      "text/plain": [
       "senior_citizen     0    1\n",
       "senior_citizen           \n",
       "0               3302    0\n",
       "1                  0  635"
      ]
     },
     "execution_count": 9,
     "metadata": {},
     "output_type": "execute_result"
    }
   ],
   "source": [
    "pd.crosstab(df.senior_citizen,train.senior_citizen)"
   ]
  },
  {
   "cell_type": "code",
   "execution_count": 10,
   "id": "7341e6b1",
   "metadata": {},
   "outputs": [],
   "source": [
    "train = train.drop(columns= ['customer_id','dependents','gender','multiple_lines','tech_support','paperless_billing'])\n",
    "\n",
    "train = train.replace({'Yes':1, 'No':0})\n",
    "\n",
    "validate = validate.drop(columns= ['customer_id','dependents','gender','multiple_lines','tech_support','paperless_billing',])\n",
    "\n",
    "validate = validate.replace({'Yes':1, 'No':0})\n",
    "\n",
    "test = test.drop(columns= ['customer_id','dependents','gender','multiple_lines','tech_support','paperless_billing',])\n",
    "\n",
    "test = test.replace({'Yes':1, 'No':0})"
   ]
  },
  {
   "cell_type": "code",
   "execution_count": 11,
   "id": "a45b787e",
   "metadata": {},
   "outputs": [],
   "source": [
    "\n",
    "# create X & y version of train, where y is a series with just the target variable and X are all the features. \n",
    "\n",
    "X_train = train.drop(columns=['churn','churn_Yes'])\n",
    "y_train = train.churn_Yes\n",
    "\n",
    "X_validate = validate.drop(columns=['churn','churn_Yes'])\n",
    "y_validate = validate.churn_Yes\n",
    "\n",
    "X_test = test.drop(columns=['churn','churn_Yes'])\n",
    "y_test = test.churn_Yes"
   ]
  },
  {
   "cell_type": "markdown",
   "id": "901ff4dc",
   "metadata": {},
   "source": [
    "# ---------------------------------------------------------------------------------------------"
   ]
  },
  {
   "cell_type": "markdown",
   "id": "0e8d8599",
   "metadata": {},
   "source": [
    "# Data Exploration"
   ]
  },
  {
   "cell_type": "code",
   "execution_count": 12,
   "id": "234f7653",
   "metadata": {},
   "outputs": [
    {
     "data": {
      "text/plain": [
       "0    2891\n",
       "1    1046\n",
       "Name: churn_Yes, dtype: int64"
      ]
     },
     "execution_count": 12,
     "metadata": {},
     "output_type": "execute_result"
    }
   ],
   "source": [
    "train.churn_Yes.value_counts()"
   ]
  },
  {
   "cell_type": "code",
   "execution_count": 13,
   "id": "32d0553c",
   "metadata": {},
   "outputs": [
    {
     "data": {
      "image/png": "[encoded data removed]",
      "text/plain": [
       "<Figure size 432x288 with 1 Axes>"
      ]
     },
     "metadata": {
      "needs_background": "light"
     },
     "output_type": "display_data"
    },
    {
     "name": "stdout",
     "output_type": "stream",
     "text": [
      "number of customers churning per month: 1046 \n"
     ]
    }
   ],
   "source": [
    "plt.title(\"Customer churning\")\n",
    "train.churn_Yes.hist()\n",
    "plt.show()\n",
    "print(\"number of customers churning per month: 1046 \")"
   ]
  },
  {
   "cell_type": "markdown",
   "id": "525f096c",
   "metadata": {},
   "source": [
    "# ---------------------------------------------------------------------------------------------"
   ]
  },
  {
   "cell_type": "code",
   "execution_count": 14,
   "id": "537c7da6",
   "metadata": {},
   "outputs": [
    {
     "name": "stdout",
     "output_type": "stream",
     "text": [
      "<class 'pandas.core.frame.DataFrame'>\n",
      "Int64Index: 3937 entries, 5919 to 4192\n",
      "Data columns (total 16 columns):\n",
      " #   Column                            Non-Null Count  Dtype  \n",
      "---  ------                            --------------  -----  \n",
      " 0   internet_service_type_id          3937 non-null   int64  \n",
      " 1   payment_type_id                   3937 non-null   int64  \n",
      " 2   contract_type_id                  3937 non-null   int64  \n",
      " 3   senior_citizen                    3937 non-null   int64  \n",
      " 4   tenure                            3937 non-null   int64  \n",
      " 5   monthly_charges                   3937 non-null   float64\n",
      " 6   total_charges                     3937 non-null   float64\n",
      " 7   churn                             3937 non-null   int64  \n",
      " 8   gender_Male                       3937 non-null   uint8  \n",
      " 9   dependents_Yes                    3937 non-null   uint8  \n",
      " 10  multiple_lines_No phone service   3937 non-null   uint8  \n",
      " 11  multiple_lines_Yes                3937 non-null   uint8  \n",
      " 12  tech_support_No internet service  3937 non-null   uint8  \n",
      " 13  tech_support_Yes                  3937 non-null   uint8  \n",
      " 14  paperless_billing_Yes             3937 non-null   uint8  \n",
      " 15  churn_Yes                         3937 non-null   uint8  \n",
      "dtypes: float64(2), int64(6), uint8(8)\n",
      "memory usage: 436.6 KB\n"
     ]
    }
   ],
   "source": [
    "train.info()"
   ]
  },
  {
   "cell_type": "code",
   "execution_count": 78,
   "id": "36e6bbf4",
   "metadata": {},
   "outputs": [
    {
     "data": {
      "image/png": "[encoded data removed]",
      "text/plain": [
       "<Figure size 432x288 with 1 Axes>"
      ]
     },
     "metadata": {
      "needs_background": "light"
     },
     "output_type": "display_data"
    }
   ],
   "source": [
    "plt.title(\"Churn by Contract types\")\n",
    "sns.barplot(x=\"contract_type_id\", y=\"churn_Yes\", data=train)\n",
    "churn_rate = train.churn.mean()\n",
    "plt.legend([\"1 = Month-to-month\",\"2 = One year\",\"3 = Two year\"])\n",
    "plt.annotate\n",
    "plt.show()"
   ]
  },
  {
   "cell_type": "markdown",
   "id": "dcd4a01d",
   "metadata": {},
   "source": [
    "- **Take away: Month to month seems to have large churn rates**"
   ]
  },
  {
   "cell_type": "code",
   "execution_count": 75,
   "id": "79b5ce29",
   "metadata": {},
   "outputs": [
    {
     "data": {
      "image/png": "[encoded data removed]",
      "text/plain": [
       "<Figure size 432x288 with 1 Axes>"
      ]
     },
     "metadata": {
      "needs_background": "light"
     },
     "output_type": "display_data"
    }
   ],
   "source": [
    "plt.title(\"Churn by Contract types\")\n",
    "sns.barplot(x=\"payment_type_id\", y=\"churn_Yes\", data=train)\n",
    "churn_rate = train.churn.mean()\n",
    "plt.legend([\"1 = Electronic check\", \"2 = Mailed check\", \"3 = Bank transfer\", \"4 = Credit card\"])\n",
    "plt.show()"
   ]
  },
  {
   "cell_type": "markdown",
   "id": "890f4e1b",
   "metadata": {},
   "source": [
    "- **Take away: Electronic check has the highest churn rates out of the 4 contract types**"
   ]
  },
  {
   "cell_type": "code",
   "execution_count": 80,
   "id": "a963828b",
   "metadata": {},
   "outputs": [
    {
     "data": {
      "image/png": "[encoded data removed]",
      "text/plain": [
       "<Figure size 432x288 with 1 Axes>"
      ]
     },
     "metadata": {
      "needs_background": "light"
     },
     "output_type": "display_data"
    }
   ],
   "source": [
    "plt.title(\"Churn & Contract types\")\n",
    "sns.barplot(x=\"internet_service_type_id\", y=\"churn_Yes\", data=train)\n",
    "churn_rate = train.churn.mean()\n",
    "plt.legend([\"1 = DSL\", \"2 = Fiber optic\", \"3 = None\"])\n",
    "plt.show()"
   ]
  },
  {
   "cell_type": "markdown",
   "id": "ce0d88c5",
   "metadata": {},
   "source": [
    "- **Take away: Fiber optic has a high churn rate.**"
   ]
  },
  {
   "cell_type": "code",
   "execution_count": 84,
   "id": "dcb5eb60",
   "metadata": {},
   "outputs": [
    {
     "data": {
      "image/png": "[encoded data removed]",
      "text/plain": [
       "<Figure size 432x288 with 1 Axes>"
      ]
     },
     "metadata": {
      "needs_background": "light"
     },
     "output_type": "display_data"
    }
   ],
   "source": [
    "plt.title(\"Churn & senior citizens\")\n",
    "sns.barplot(x=\"senior_citizen\", y=\"churn_Yes\", data=train)\n",
    "churn_rate = train.churn.mean()\n",
    "plt.legend([\"0 = senior citizen\", \"1 = nit a senior citizen\"])\n",
    "plt.show()"
   ]
  },
  {
   "cell_type": "markdown",
   "id": "3b8f89f1",
   "metadata": {},
   "source": [
    "- **senior citizens have a high churn rate**"
   ]
  },
  {
   "cell_type": "code",
   "execution_count": 86,
   "id": "c140493d",
   "metadata": {},
   "outputs": [
    {
     "data": {
      "image/png": "[encoded data removed]",
      "text/plain": [
       "<Figure size 432x288 with 1 Axes>"
      ]
     },
     "metadata": {
      "needs_background": "light"
     },
     "output_type": "display_data"
    }
   ],
   "source": [
    "plt.title(\"Churn & gender\")\n",
    "sns.barplot(x=\"gender_Male\", y=\"churn_Yes\", data=train)\n",
    "churn_rate = train.churn.mean()\n",
    "plt.legend([\"0 = female\", \"1 = Male\"])\n",
    "plt.show()"
   ]
  },
  {
   "cell_type": "markdown",
   "id": "cb060767",
   "metadata": {},
   "source": [
    "- **there is no correlation between gender and churn**"
   ]
  },
  {
   "cell_type": "code",
   "execution_count": 88,
   "id": "f55807cc",
   "metadata": {},
   "outputs": [
    {
     "data": {
      "image/png": "[encoded data removed]",
      "text/plain": [
       "<Figure size 432x288 with 1 Axes>"
      ]
     },
     "metadata": {
      "needs_background": "light"
     },
     "output_type": "display_data"
    }
   ],
   "source": [
    "plt.title(\"Churn & paperless billing\")\n",
    "sns.barplot(x=\"paperless_billing_Yes\", y=\"churn_Yes\", data=train)\n",
    "churn_rate = train.churn.mean()\n",
    "plt.legend([\"0 = No\", \"1 = Yes\"])\n",
    "plt.show()"
   ]
  },
  {
   "cell_type": "markdown",
   "id": "80042f13",
   "metadata": {},
   "source": [
    "- **paperless billing has a correlation with churn**"
   ]
  },
  {
   "cell_type": "markdown",
   "id": "54c58ff8",
   "metadata": {},
   "source": [
    "## Data exploration summary of Take aways \n",
    "\n",
    "#### Customers churning is 1046/3937 = % 26.5 of customers\n",
    "#### Month to month seems to have large churn rates\n",
    "#### Electronic check has the highest churn rates out of the 4 contract types\n",
    "#### Fiber optic has a high churn rate\n",
    "\n",
    "\n",
    "\n",
    "\n"
   ]
  },
  {
   "cell_type": "markdown",
   "id": "c13cf3b4",
   "metadata": {},
   "source": [
    "# ---------------------------------------------------------------------------------------------"
   ]
  },
  {
   "cell_type": "markdown",
   "id": "f3e757f1",
   "metadata": {},
   "source": [
    "## Hypothesis Testing and Analysis"
   ]
  },
  {
   "cell_type": "code",
   "execution_count": null,
   "id": "f44e51fb",
   "metadata": {},
   "outputs": [],
   "source": [
    "alpha = 0.05"
   ]
  },
  {
   "cell_type": "markdown",
   "id": "8792a237",
   "metadata": {},
   "source": [
    "### Contract Types\n",
    "- ${h_o}$ = Contract types and churn are independent of eachother\n",
    "- ${h_a}$ = There is a relationship between Contract types and churn"
   ]
  },
  {
   "cell_type": "code",
   "execution_count": null,
   "id": "4ae0e60b",
   "metadata": {},
   "outputs": [],
   "source": [
    "null_hypothesis = \"Contract types and churn are independent of eachother\"\n",
    "alternative_hypothesis = \"There is a relationship between Contract types and churn\"\n",
    "observed = pd.crosstab(train.churn_Yes, train.contract_type_id)\n",
    "\n",
    "chi2, p, degf, expected = stats.chi2_contingency(observed)\n",
    "\n",
    "if p < alpha:\n",
    "    print(\"Reject the null hypothesis that\", null_hypothesis)\n",
    "    print(\"Sufficient evidence to move forward understanding that\", alternative_hypothesis)\n",
    "else:\n",
    "    print(\"Fail to reject the null\")\n",
    "    print(\"Insufficient evidence to reject the null\")\n",
    "p"
   ]
  },
  {
   "cell_type": "markdown",
   "id": "3faef1b3",
   "metadata": {},
   "source": [
    "----------------------------------------------------------------------------------------------------------------------"
   ]
  },
  {
   "cell_type": "markdown",
   "id": "23194310",
   "metadata": {},
   "source": [
    "### Payment types\n",
    "- ${h_o}$ = Payment types and churn are independent of eachother\n",
    "- ${h_a}$ = There is a relationship between Payment types and churn"
   ]
  },
  {
   "cell_type": "code",
   "execution_count": null,
   "id": "54f00347",
   "metadata": {},
   "outputs": [],
   "source": [
    "null_hypothesis = \"Payment types and churn are independent of eachother\"\n",
    "alternative_hypothesis = \"There is a relationship between Payment types and churn\"\n",
    "observed = pd.crosstab(train.churn_Yes, train.payment_type_id)\n",
    "\n",
    "chi2, p, degf, expected = stats.chi2_contingency(observed)\n",
    "\n",
    "if p < alpha:\n",
    "    print(\"Reject the null hypothesis that\", null_hypothesis)\n",
    "    print(\"Sufficient evidence to move forward understanding that\", alternative_hypothesis)\n",
    "else:\n",
    "    print(\"Fail to reject the null\")\n",
    "    print(\"Insufficient evidence to reject the null\")\n",
    "p"
   ]
  },
  {
   "cell_type": "markdown",
   "id": "476f3bd7",
   "metadata": {},
   "source": [
    "----------------------------------------------------------------------------------------------------------------------"
   ]
  },
  {
   "cell_type": "markdown",
   "id": "5e437fd9",
   "metadata": {},
   "source": [
    "### internet service types\n",
    "- ${h_o}$ = internet service type and churn are independent of eachother\n",
    "- ${h_a}$ = There is a relationship between internet service type and churn"
   ]
  },
  {
   "cell_type": "code",
   "execution_count": null,
   "id": "6b386e28",
   "metadata": {},
   "outputs": [],
   "source": [
    "null_hypothesis = \"internet service type and churn are independent of eachother\"\n",
    "alternative_hypothesis = \"There is a relationship between internet service type and churn\"\n",
    "observed = pd.crosstab(train.churn_Yes, train.internet_service_type_id)\n",
    "\n",
    "chi2, p, degf, expected = stats.chi2_contingency(observed)\n",
    "\n",
    "if p < alpha:\n",
    "    print(\"Reject the null hypothesis that\", null_hypothesis)\n",
    "    print(\"Sufficient evidence to move forward understanding that\", alternative_hypothesis)\n",
    "else:\n",
    "    print(\"Fail to reject the null\")\n",
    "    print(\"Insufficient evidence to reject the null\")\n",
    "p"
   ]
  },
  {
   "cell_type": "markdown",
   "id": "c14a9e8c",
   "metadata": {},
   "source": [
    "----------------------------------------------------------------------------------------------------------------------"
   ]
  },
  {
   "cell_type": "markdown",
   "id": "c0d482bc",
   "metadata": {},
   "source": [
    "### Senior Citizen\n",
    "- ${h_o}$ = senior citizens and churn are independent of eachother\n",
    "- ${h_a}$ = There is a relationship between senior citizens and churn"
   ]
  },
  {
   "cell_type": "code",
   "execution_count": null,
   "id": "2b6a6ad7",
   "metadata": {},
   "outputs": [],
   "source": [
    "null_hypothesis = \"senior citizens and churn are independent of eachother\"\n",
    "alternative_hypothesis = \"There is a relationship between senior citizens and churn\"\n",
    "observed = pd.crosstab(train.churn_Yes, train.senior_citizen)\n",
    "\n",
    "chi2, p, degf, expected = stats.chi2_contingency(observed)\n",
    "\n",
    "if p < alpha:\n",
    "    print(\"Reject the null hypothesis that\", null_hypothesis)\n",
    "    print(\"Sufficient evidence to move forward understanding that\", alternative_hypothesis)\n",
    "else:\n",
    "    print(\"Fail to reject the null\")\n",
    "    print(\"Insufficient evidence to reject the null\")\n",
    "p"
   ]
  },
  {
   "cell_type": "markdown",
   "id": "2124ec45",
   "metadata": {},
   "source": [
    "----------------------------------------------------------------------------------------------------------------------"
   ]
  },
  {
   "cell_type": "markdown",
   "id": "29d389d9",
   "metadata": {},
   "source": [
    "### Gender \n",
    "- ${h_o}$ = gender and churn are independent of eachother\n",
    "- ${h_a}$ = There is a relationship between gender and churn"
   ]
  },
  {
   "cell_type": "code",
   "execution_count": null,
   "id": "2b6b7c38",
   "metadata": {},
   "outputs": [],
   "source": [
    "null_hypothesis = \"gender and churn are independent of eachother\"\n",
    "alternative_hypothesis = \"There is a relationship between gender and churn\"\n",
    "observed = pd.crosstab(train.churn_Yes, train.gender_Male)\n",
    "\n",
    "chi2, p, degf, expected = stats.chi2_contingency(observed)\n",
    "\n",
    "if p < alpha:\n",
    "    print(\"Reject the null hypothesis that\", null_hypothesis)\n",
    "    print(\"Sufficient evidence to move forward understanding that\", alternative_hypothesis)\n",
    "else:\n",
    "    print(\"Fail to reject the null\")\n",
    "    print(\"Insufficient evidence to reject the null\")\n",
    "p"
   ]
  },
  {
   "cell_type": "markdown",
   "id": "ca434b4c",
   "metadata": {},
   "source": [
    "----------------------------------------------------------------------------------------------------------------------"
   ]
  },
  {
   "cell_type": "markdown",
   "id": "53f0f9f8",
   "metadata": {},
   "source": [
    "### Paperless billing\n",
    "- ${h_o}$ = Paperless billing and churn are independent of eachother\n",
    "- ${h_a}$ = There is a relationship between paperless billing and churn"
   ]
  },
  {
   "cell_type": "code",
   "execution_count": null,
   "id": "0e97fe48",
   "metadata": {},
   "outputs": [],
   "source": [
    "null_hypothesis = \"Paperless billing and churn are independent of eachother\"\n",
    "alternative_hypothesis = \"There is a relationship between paperless billing and churn\"\n",
    "observed = pd.crosstab(train.churn_Yes, train.paperless_billing_Yes)\n",
    "\n",
    "chi2, p, degf, expected = stats.chi2_contingency(observed)\n",
    "\n",
    "if p < alpha:\n",
    "    print(\"Reject the null hypothesis that\", null_hypothesis)\n",
    "    print(\"Sufficient evidence to move forward understanding that\", alternative_hypothesis)\n",
    "else:\n",
    "    print(\"Fail to reject the null\")\n",
    "    print(\"Insufficient evidence to reject the null\")\n",
    "p"
   ]
  },
  {
   "cell_type": "markdown",
   "id": "6f2d8723",
   "metadata": {},
   "source": [
    "# ---------------------------------------------------------------------------------------------"
   ]
  },
  {
   "cell_type": "markdown",
   "id": "8e8425e7",
   "metadata": {},
   "source": [
    "# Modeling"
   ]
  },
  {
   "cell_type": "code",
   "execution_count": null,
   "id": "57955980",
   "metadata": {},
   "outputs": [],
   "source": [
    "clf = DecisionTreeClassifier(max_depth=4, random_state=123)\n",
    "baseline_accuracy = (train.churn_Yes == 0).mean()\n",
    "print(f\"Baseline accuracy: {round(baseline_accuracy, 2)}\")"
   ]
  },
  {
   "cell_type": "code",
   "execution_count": null,
   "id": "76d6ff60",
   "metadata": {},
   "outputs": [],
   "source": [
    "clf = clf.fit(X_train, y_train)"
   ]
  },
  {
   "cell_type": "code",
   "execution_count": null,
   "id": "563b6d63",
   "metadata": {},
   "outputs": [],
   "source": [
    "# Make the model\n",
    "tree1 = DecisionTreeClassifier(max_depth=10, random_state=123)\n",
    "\n",
    "# Fit the model (on train and only train)\n",
    "tree1 = tree1.fit(X_train, y_train)\n",
    "\n",
    "# Use the model\n",
    "# We'll evaluate the model's performance on train, first\n",
    "y_predictions = tree1.predict(X_train)\n"
   ]
  },
  {
   "cell_type": "code",
   "execution_count": null,
   "id": "9cfd5fbc",
   "metadata": {},
   "outputs": [],
   "source": [
    "train"
   ]
  },
  {
   "cell_type": "markdown",
   "id": "9b319ac6",
   "metadata": {},
   "source": [
    "### Baseline"
   ]
  },
  {
   "cell_type": "code",
   "execution_count": null,
   "id": "6cc49222",
   "metadata": {},
   "outputs": [],
   "source": [
    "baseline_prediction = y_pred_proba = clf.predict_proba(X_train)"
   ]
  },
  {
   "cell_type": "markdown",
   "id": "edbf464d",
   "metadata": {},
   "source": [
    "### Acurracy"
   ]
  },
  {
   "cell_type": "markdown",
   "id": "c45aa7e9",
   "metadata": {},
   "source": [
    "### Random Forest for test and validate"
   ]
  },
  {
   "cell_type": "code",
   "execution_count": null,
   "id": "01a92815",
   "metadata": {},
   "outputs": [],
   "source": [
    "metrics = []\n",
    "max_depth = 18\n",
    "\n",
    "for i in range(2, max_depth):\n",
    "    depth = max_depth - i\n",
    "    n_samples = i\n",
    "    forest = RandomForestClassifier(max_depth=depth, min_samples_leaf= n_samples,random_state=123)\n",
    "    \n",
    "    forest = forest.fit(X_train, y_train)\n",
    "    \n",
    "    in_sample_accuracy = forest.score(X_train,y_train)\n",
    "    \n",
    "    out_of_sample_accuracy = forest.score(X_validate,y_validate)\n",
    "    \n",
    "    output = {\n",
    "        \"min_samples_per_leaf\": n_samples,\n",
    "        \"max_depth\": depth,\n",
    "        \"train_accuracy\": in_sample_accuracy,\n",
    "        \"validate_accuracy\": out_of_sample_accuracy\n",
    "    }\n",
    "    metrics.append(output)\n",
    "    \n",
    "df1 = pd.DataFrame(metrics)\n",
    "df1[\"difference\"] = df1.train_accuracy - df1.validate_accuracy\n",
    "df1"
   ]
  },
  {
   "cell_type": "code",
   "execution_count": null,
   "id": "84ee53fb",
   "metadata": {},
   "outputs": [],
   "source": [
    "for i in range(2,14):\n",
    "    forest = RandomForestClassifier(max_depth=i,random_state=123)\n",
    "    forest = forest.fit(X_train,y_train)\n",
    "    \n",
    "    y_predcitions = forest.predict(X_train)\n",
    "    \n",
    "    report = classification_report(y_train,y_predcitions,output_dict=True)\n",
    "    print(f\"Tree with max depth of {i}\")\n",
    "    print(pd.DataFrame(report))\n",
    "    print()"
   ]
  },
  {
   "cell_type": "code",
   "execution_count": null,
   "id": "b8f5b30f",
   "metadata": {},
   "outputs": [],
   "source": [
    "rf = RandomForestClassifier(bootstrap=True, \n",
    "                            class_weight=None, \n",
    "                            criterion='gini',\n",
    "                            min_samples_leaf=13,\n",
    "                            n_estimators=100,\n",
    "                            max_depth=5, \n",
    "                            random_state=123)\n"
   ]
  },
  {
   "cell_type": "code",
   "execution_count": null,
   "id": "6c5b6dbf",
   "metadata": {},
   "outputs": [],
   "source": [
    "rf.fit(X_train, y_train)\n",
    "y_pred = rf.predict(X_train)\n",
    "y_pred_proba = rf.predict_proba(X_train)\n"
   ]
  },
  {
   "cell_type": "code",
   "execution_count": null,
   "id": "b833e852",
   "metadata": {},
   "outputs": [],
   "source": [
    "print('Accuracy of random forest classifier on training set: {:.2f}'\n",
    "     .format(rf.score(X_train, y_train)))\n"
   ]
  },
  {
   "cell_type": "code",
   "execution_count": null,
   "id": "435158fc",
   "metadata": {},
   "outputs": [],
   "source": [
    "print('Accuracy of random forest classifier on test set: {:.2f}'\n",
    "     .format(rf.score(X_validate, y_validate)))\n"
   ]
  },
  {
   "cell_type": "markdown",
   "id": "2388eb54",
   "metadata": {},
   "source": [
    "# Knn"
   ]
  },
  {
   "cell_type": "code",
   "execution_count": null,
   "id": "6732ef50",
   "metadata": {},
   "outputs": [],
   "source": [
    "# weights = ['uniform', 'density']\n",
    "knn = KNeighborsClassifier(n_neighbors=5, weights='uniform')\n",
    "knn.fit(X_train, y_train)\n"
   ]
  },
  {
   "cell_type": "code",
   "execution_count": null,
   "id": "500b1cc4",
   "metadata": {},
   "outputs": [],
   "source": [
    "y_pred = knn.predict(X_train)\n",
    "y_pred_proba = knn.predict_proba(X_train)\n",
    "\n",
    "print('Accuracy of KNN classifier on training set: {:.2f}'\n",
    "     .format(knn.score(X_train, y_train)))\n"
   ]
  },
  {
   "cell_type": "code",
   "execution_count": null,
   "id": "8d6cc943",
   "metadata": {},
   "outputs": [],
   "source": [
    "print('Accuracy of KNN classifier on test set: {:.2f}'\n",
    "     .format(knn.score(X_validate, y_validate)))\n"
   ]
  },
  {
   "cell_type": "code",
   "execution_count": null,
   "id": "43fe290e",
   "metadata": {},
   "outputs": [],
   "source": [
    "import matplotlib.pyplot as plt\n",
    "k_range = range(1, 18)\n",
    "scores = []\n",
    "for k in k_range:\n",
    "    knn = KNeighborsClassifier(n_neighbors=k)\n",
    "    knn.fit(X_train, y_train)\n",
    "    train_accuracy = knn.score(X_train, y_train)\n",
    "    validate_accuracy = knn.score(X_validate,y_validate)\n",
    "    output = {\n",
    "        \"k\": k,\n",
    "        \"train_accuracy\": train_accuracy,\n",
    "        \"validate_accuracy\": validate_accuracy\n",
    "    }\n",
    "    scores.append(output)\n",
    "ddd = pd.DataFrame(scores)\n",
    "ddd['difference'] = ddd.train_accuracy - ddd.validate_accuracy\n",
    "ddd\n",
    "#plt.figure()\n",
    "#plt.xlabel('k')\n",
    "#plt.ylabel('accuracy')\n",
    "#plt.scatter(k_range, scores)\n",
    "#plt.xticks([0,5,10,15,20])\n",
    "#plt.show()"
   ]
  },
  {
   "cell_type": "code",
   "execution_count": null,
   "id": "0570b7e7",
   "metadata": {},
   "outputs": [],
   "source": [
    "ddd[ddd.difference == ddd.difference.min()]"
   ]
  },
  {
   "cell_type": "markdown",
   "id": "281bb11f",
   "metadata": {},
   "source": [
    "### C value = 1 here "
   ]
  },
  {
   "cell_type": "code",
   "execution_count": null,
   "id": "9b95e50e",
   "metadata": {},
   "outputs": [],
   "source": [
    "logit = LogisticRegression(C=1)\n",
    "logit.fit(X_train, y_train)\n",
    "\n",
    "score = (logit.score(X_test, y_test)*100)\n",
    "score_percent = \"{:.2f}\".format(score)\n",
    "\n",
    "print(f'test data accuracy is: {score_percent}%')"
   ]
  },
  {
   "cell_type": "code",
   "execution_count": null,
   "id": "b2489bb4",
   "metadata": {},
   "outputs": [],
   "source": [
    "y_prediction = logit.predict(X_test)\n",
    "pred_prob = logit.predict_proba(X_test)"
   ]
  },
  {
   "cell_type": "code",
   "execution_count": null,
   "id": "c3971951",
   "metadata": {},
   "outputs": [],
   "source": [
    "train, validate, test = prep_telco(df)\n",
    "test"
   ]
  },
  {
   "cell_type": "code",
   "execution_count": null,
   "id": "fda5be00",
   "metadata": {},
   "outputs": [],
   "source": [
    "predictions = pd.DataFrame(columns=['customer_id','churn_probability','churn_pred','churn_yes'])\n",
    "\n",
    "predictions['customer_id'] = test.customer_id\n",
    "predictions['churn_probability']= pred_prob\n",
    "predictions['churn_yes']= test.churn\n",
    "predictions['churn_pred']= y_prediction\n"
   ]
  },
  {
   "cell_type": "code",
   "execution_count": null,
   "id": "f3c0e802",
   "metadata": {},
   "outputs": [],
   "source": [
    "predictions.churn_pred= predictions.churn_pred.map({1: 'Yes',0: 'No'})\n",
    "#predictions.churn_yes = predictions.churn_yes.map({1: 'Yes',0: 'No'})"
   ]
  },
  {
   "cell_type": "code",
   "execution_count": null,
   "id": "825baeeb",
   "metadata": {
    "scrolled": true
   },
   "outputs": [],
   "source": [
    "predictions"
   ]
  },
  {
   "cell_type": "code",
   "execution_count": null,
   "id": "de395116",
   "metadata": {},
   "outputs": [],
   "source": [
    "predictions.to_csv(\"probability_of_churn_in_telco\")"
   ]
  }
 ],
 "metadata": {
  "kernelspec": {
   "display_name": "Python 3 (ipykernel)",
   "language": "python",
   "name": "python3"
  },
  "language_info": {
   "codemirror_mode": {
    "name": "ipython",
    "version": 3
   },
   "file_extension": ".py",
   "mimetype": "text/x-python",
   "name": "python",
   "nbconvert_exporter": "python",
   "pygments_lexer": "ipython3",
   "version": "3.9.7"
  }
 },
 "nbformat": 4,
 "nbformat_minor": 5
}

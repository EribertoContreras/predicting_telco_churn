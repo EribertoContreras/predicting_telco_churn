{
 "cells": [
  {
   "cell_type": "code",
   "execution_count": 52,
   "id": "24efcda9",
   "metadata": {},
   "outputs": [
    {
     "ename": "ModuleNotFoundError",
     "evalue": "No module named 'prepare'",
     "output_type": "error",
     "traceback": [
      "\u001b[0;31m---------------------------------------------------------------------------\u001b[0m",
      "\u001b[0;31mModuleNotFoundError\u001b[0m                       Traceback (most recent call last)",
      "\u001b[0;32m/var/folders/dc/8rtfvpyj2mb6mqbnfkf5dl400000gn/T/ipykernel_21469/3485451502.py\u001b[0m in \u001b[0;36m<module>\u001b[0;34m\u001b[0m\n\u001b[1;32m     21\u001b[0m \u001b[0;31m# import our own acquire module\u001b[0m\u001b[0;34m\u001b[0m\u001b[0;34m\u001b[0m\u001b[0m\n\u001b[1;32m     22\u001b[0m \u001b[0;32mimport\u001b[0m \u001b[0macquire\u001b[0m\u001b[0;34m\u001b[0m\u001b[0;34m\u001b[0m\u001b[0m\n\u001b[0;32m---> 23\u001b[0;31m \u001b[0;32mimport\u001b[0m \u001b[0mprepare\u001b[0m\u001b[0;34m\u001b[0m\u001b[0;34m\u001b[0m\u001b[0m\n\u001b[0m",
      "\u001b[0;31mModuleNotFoundError\u001b[0m: No module named 'prepare'"
     ]
    }
   ],
   "source": [
    "import numpy as np\n",
    "import seaborn as sns\n",
    "import scipy.stats as stats\n",
    "import pandas as pd\n",
    "import matplotlib.pyplot as plt\n",
    "import env\n",
    "from pydataset import data\n",
    "import scipy\n",
    "import os\n",
    "from sklearn.model_selection import train_test_split\n",
    "# turn off pink boxes for demo\n",
    "from sklearn.tree import DecisionTreeClassifier, plot_tree\n",
    "from sklearn.metrics import classification_report\n",
    "from sklearn.metrics import confusion_matrix\n",
    "from sklearn.ensemble import RandomForestClassifier\n",
    "from sklearn.neighbors import KNeighborsClassifier\n",
    "from sklearn.linear_model import LogisticRegression\n",
    "import warnings\n",
    "warnings.filterwarnings(\"ignore\")\n",
    "\n",
    "# import our own acquire module\n",
    "import acquire\n",
    "import prepare"
   ]
  },
  {
   "cell_type": "code",
   "execution_count": 2,
   "id": "5073352d",
   "metadata": {},
   "outputs": [],
   "source": [
    "import acquire\n",
    "df = acquire.get_telco_data()\n"
   ]
  },
  {
   "cell_type": "code",
   "execution_count": 3,
   "id": "735532eb",
   "metadata": {},
   "outputs": [
    {
     "data": {
      "text/plain": [
       "(      internet_service_type_id  payment_type_id  contract_type_id customer_id  \\\n",
       " 5310                         1                3                 3  7503-MIOGA   \n",
       " 3790                         1                4                 3  5329-KRDTM   \n",
       " 4398                         2                1                 2  6199-IWKGC   \n",
       " 2635                         1                1                 1  3748-FVMZZ   \n",
       " 2986                         1                2                 1  4280-DLSHD   \n",
       " ...                        ...              ...               ...         ...   \n",
       " 6230                         2                1                 3  8809-RIHDD   \n",
       " 356                          1                1                 1  0523-VNGTF   \n",
       " 2128                         2                1                 2  3058-HJCUY   \n",
       " 3586                         1                2                 2  5081-NWSUP   \n",
       " 6817                         2                1                 1  9681-KYGYB   \n",
       " \n",
       "       gender  senior_citizen partner dependents  tenure phone_service  ...  \\\n",
       " 5310  Female               1     Yes         No      72           Yes  ...   \n",
       " 3790    Male               1     Yes         No      72           Yes  ...   \n",
       " 4398  Female               1     Yes         No      46           Yes  ...   \n",
       " 2635    Male               0      No         No       4            No  ...   \n",
       " 2986    Male               0     Yes         No       8           Yes  ...   \n",
       " ...      ...             ...     ...        ...     ...           ...  ...   \n",
       " 6230    Male               0     Yes        Yes      72           Yes  ...   \n",
       " 356   Female               1      No         No      52            No  ...   \n",
       " 2128    Male               0     Yes        Yes      41           Yes  ...   \n",
       " 3586  Female               0      No         No      10           Yes  ...   \n",
       " 6817    Male               1     Yes         No      49           Yes  ...   \n",
       " \n",
       "      tech_support streaming_tv streaming_movies paperless_billing  \\\n",
       " 5310          Yes          Yes              Yes               Yes   \n",
       " 3790          Yes          Yes               No                No   \n",
       " 4398          Yes          Yes              Yes                No   \n",
       " 2635          Yes           No              Yes               Yes   \n",
       " 2986           No           No               No               Yes   \n",
       " ...           ...          ...              ...               ...   \n",
       " 6230           No          Yes              Yes               Yes   \n",
       " 356           Yes          Yes               No               Yes   \n",
       " 2128          Yes          Yes              Yes               Yes   \n",
       " 3586          Yes           No              Yes                No   \n",
       " 6817           No           No               No               Yes   \n",
       " \n",
       "      monthly_charges total_charges churn   contract_type  \\\n",
       " 5310           89.85       6697.35    No        Two year   \n",
       " 3790           77.35       5396.25    No        Two year   \n",
       " 4398          100.25       4753.85    No        One year   \n",
       " 2635           40.05        162.45    No  Month-to-month   \n",
       " 2986           54.75        445.85    No  Month-to-month   \n",
       " ...              ...           ...   ...             ...   \n",
       " 6230          103.40       7372.65   Yes        Two year   \n",
       " 356            50.50        2566.3    No  Month-to-month   \n",
       " 2128          102.60       4213.35   Yes        One year   \n",
       " 3586           64.90        685.55    No        One year   \n",
       " 6817           88.20       4159.45    No  Month-to-month   \n",
       " \n",
       "                    payment_type internet_service_type  \n",
       " 5310  Bank transfer (automatic)                   DSL  \n",
       " 3790    Credit card (automatic)                   DSL  \n",
       " 4398           Electronic check           Fiber optic  \n",
       " 2635           Electronic check                   DSL  \n",
       " 2986               Mailed check                   DSL  \n",
       " ...                         ...                   ...  \n",
       " 6230           Electronic check           Fiber optic  \n",
       " 356            Electronic check                   DSL  \n",
       " 2128           Electronic check           Fiber optic  \n",
       " 3586               Mailed check                   DSL  \n",
       " 6817           Electronic check           Fiber optic  \n",
       " \n",
       " [3943 rows x 24 columns],\n",
       "       internet_service_type_id  payment_type_id  contract_type_id customer_id  \\\n",
       " 720                          2                2                 1  1062-LHZOD   \n",
       " 5832                         1                3                 2  8205-OTCHB   \n",
       " 4378                         2                4                 1  6173-GOLSU   \n",
       " 5553                         3                3                 2  7817-OMJNA   \n",
       " 482                          2                1                 1  0702-PGIBZ   \n",
       " ...                        ...              ...               ...         ...   \n",
       " 4506                         1                3                 2  6352-GIGGQ   \n",
       " 1602                         3                2                 1  2332-EFBJY   \n",
       " 583                          1                2                 1  0856-NAOES   \n",
       " 6134                         1                3                 2  8690-UPCZI   \n",
       " 3333                         2                1                 1  4749-OJKQU   \n",
       " \n",
       "       gender  senior_citizen partner dependents  tenure phone_service  ...  \\\n",
       " 720     Male               0     Yes        Yes       1           Yes  ...   \n",
       " 5832    Male               0      No         No      22            No  ...   \n",
       " 4378    Male               1     Yes         No      67           Yes  ...   \n",
       " 5553    Male               0      No         No      14           Yes  ...   \n",
       " 482     Male               0      No        Yes       4           Yes  ...   \n",
       " ...      ...             ...     ...        ...     ...           ...  ...   \n",
       " 4506    Male               0      No         No      67           Yes  ...   \n",
       " 1602    Male               0      No         No      16           Yes  ...   \n",
       " 583     Male               0      No         No       6           Yes  ...   \n",
       " 6134    Male               0     Yes        Yes      29           Yes  ...   \n",
       " 3333  Female               0      No         No       4           Yes  ...   \n",
       " \n",
       "              tech_support         streaming_tv     streaming_movies  \\\n",
       " 720                    No                   No                   No   \n",
       " 5832                   No                   No                  Yes   \n",
       " 4378                   No                  Yes                  Yes   \n",
       " 5553  No internet service  No internet service  No internet service   \n",
       " 482                    No                  Yes                  Yes   \n",
       " ...                   ...                  ...                  ...   \n",
       " 4506                  Yes                  Yes                  Yes   \n",
       " 1602  No internet service  No internet service  No internet service   \n",
       " 583                    No                  Yes                   No   \n",
       " 6134                  Yes                  Yes                   No   \n",
       " 3333                   No                   No                   No   \n",
       " \n",
       "      paperless_billing monthly_charges total_charges churn   contract_type  \\\n",
       " 720                Yes           69.90          69.9   Yes  Month-to-month   \n",
       " 5832               Yes           43.75         903.6   Yes        One year   \n",
       " 4378               Yes           94.65          6079    No  Month-to-month   \n",
       " 5553                No           20.40         275.7    No        One year   \n",
       " 482                Yes          101.70        364.55   Yes  Month-to-month   \n",
       " ...                ...             ...           ...   ...             ...   \n",
       " 4506               Yes           88.80       5903.15    No        One year   \n",
       " 1602               Yes           19.70         342.4   Yes  Month-to-month   \n",
       " 583                 No           60.90         414.1    No  Month-to-month   \n",
       " 6134                No           69.05       1958.45    No        One year   \n",
       " 3333               Yes           75.65        302.35    No  Month-to-month   \n",
       " \n",
       "                    payment_type internet_service_type  \n",
       " 720                Mailed check           Fiber optic  \n",
       " 5832  Bank transfer (automatic)                   DSL  \n",
       " 4378    Credit card (automatic)           Fiber optic  \n",
       " 5553  Bank transfer (automatic)                  None  \n",
       " 482            Electronic check           Fiber optic  \n",
       " ...                         ...                   ...  \n",
       " 4506  Bank transfer (automatic)                   DSL  \n",
       " 1602               Mailed check                  None  \n",
       " 583                Mailed check                   DSL  \n",
       " 6134  Bank transfer (automatic)                   DSL  \n",
       " 3333           Electronic check           Fiber optic  \n",
       " \n",
       " [1691 rows x 24 columns],\n",
       "       internet_service_type_id  payment_type_id  contract_type_id customer_id  \\\n",
       " 3160                         2                2                 2  4531-AUZNK   \n",
       " 1577                         1                3                 3  2296-DKZFP   \n",
       " 6823                         2                1                 1  9692-TUSXH   \n",
       " 3615                         2                1                 1  5129-JLPIS   \n",
       " 882                          2                1                 1  1273-MTETI   \n",
       " ...                        ...              ...               ...         ...   \n",
       " 1097                         1                1                 1  1597-FZREH   \n",
       " 6441                         1                2                 1  9117-SHLZX   \n",
       " 5985                         3                3                 3  8441-SHIPE   \n",
       " 2452                         1                4                 3  3511-BFTJW   \n",
       " 983                          2                1                 1  1428-GTBJJ   \n",
       " \n",
       "       gender  senior_citizen partner dependents  tenure phone_service  ...  \\\n",
       " 3160  Female               0     Yes        Yes      51           Yes  ...   \n",
       " 1577  Female               0     Yes         No      65           Yes  ...   \n",
       " 6823  Female               0      No         No      18           Yes  ...   \n",
       " 3615    Male               0      No         No      25           Yes  ...   \n",
       " 882   Female               1      No         No       4           Yes  ...   \n",
       " ...      ...             ...     ...        ...     ...           ...  ...   \n",
       " 1097  Female               0      No         No       2           Yes  ...   \n",
       " 6441    Male               0      No         No       1           Yes  ...   \n",
       " 5985  Female               0      No         No      67           Yes  ...   \n",
       " 2452    Male               0     Yes        Yes      72            No  ...   \n",
       " 983     Male               0      No         No      11           Yes  ...   \n",
       " \n",
       "              tech_support         streaming_tv     streaming_movies  \\\n",
       " 3160                  Yes                  Yes                   No   \n",
       " 1577                   No                   No                  Yes   \n",
       " 6823                   No                  Yes                  Yes   \n",
       " 3615                  Yes                  Yes                  Yes   \n",
       " 882                    No                   No                  Yes   \n",
       " ...                   ...                  ...                  ...   \n",
       " 1097                  Yes                  Yes                  Yes   \n",
       " 6441                   No                   No                   No   \n",
       " 5985  No internet service  No internet service  No internet service   \n",
       " 2452                   No                   No                   No   \n",
       " 983                    No                   No                   No   \n",
       " \n",
       "      paperless_billing monthly_charges total_charges churn   contract_type  \\\n",
       " 3160               Yes           95.15       5000.05    No        One year   \n",
       " 1577                No           71.00        4386.2    No        Two year   \n",
       " 6823               Yes           96.05        1740.7   Yes  Month-to-month   \n",
       " 3615               Yes          105.50       2686.05    No  Month-to-month   \n",
       " 882                Yes           88.85        372.45   Yes  Month-to-month   \n",
       " ...                ...             ...           ...   ...             ...   \n",
       " 1097                No           76.40         160.8   Yes  Month-to-month   \n",
       " 6441               Yes           45.70          45.7   Yes  Month-to-month   \n",
       " 5985               Yes           25.60       1790.35    No        Two year   \n",
       " 2452                No           38.50          2763    No        Two year   \n",
       " 983                Yes           74.55        824.75   Yes  Month-to-month   \n",
       " \n",
       "                    payment_type internet_service_type  \n",
       " 3160               Mailed check           Fiber optic  \n",
       " 1577  Bank transfer (automatic)                   DSL  \n",
       " 6823           Electronic check           Fiber optic  \n",
       " 3615           Electronic check           Fiber optic  \n",
       " 882            Electronic check           Fiber optic  \n",
       " ...                         ...                   ...  \n",
       " 1097           Electronic check                   DSL  \n",
       " 6441               Mailed check                   DSL  \n",
       " 5985  Bank transfer (automatic)                  None  \n",
       " 2452    Credit card (automatic)                   DSL  \n",
       " 983            Electronic check           Fiber optic  \n",
       " \n",
       " [1409 rows x 24 columns])"
      ]
     },
     "execution_count": 3,
     "metadata": {},
     "output_type": "execute_result"
    }
   ],
   "source": [
    "acquire.split_telco_data(df)"
   ]
  },
  {
   "cell_type": "code",
   "execution_count": 4,
   "id": "9ac530e7",
   "metadata": {},
   "outputs": [],
   "source": [
    "#prep telco data\n",
    "df = acquire.prep_telco(df)\n",
    "train, validate, test = df"
   ]
  },
  {
   "cell_type": "code",
   "execution_count": 7,
   "id": "7341e6b1",
   "metadata": {},
   "outputs": [],
   "source": [
    "train = train.drop(columns= ['customer_id','dependents','gender','multiple_lines','tech_support','paperless_billing'])\n",
    "\n",
    "train = train.replace({'Yes':1, 'No':0})\n",
    "\n",
    "validate = validate.drop(columns= ['customer_id','dependents','gender','multiple_lines','tech_support','paperless_billing',])\n",
    "\n",
    "validate = validate.replace({'Yes':1, 'No':0})\n"
   ]
  },
  {
   "cell_type": "code",
   "execution_count": 8,
   "id": "3e606f7c",
   "metadata": {},
   "outputs": [],
   "source": [
    "\n",
    "# create X & y version of train, where y is a series with just the target variable and X are all the features. \n",
    "\n",
    "X_train = train.drop(columns=['churn','churn_Yes'])\n",
    "y_train = train.churn_Yes\n",
    "\n",
    "X_validate = validate.drop(columns=['churn','churn_Yes'])\n",
    "y_validate = validate.churn_Yes\n",
    "\n",
    "X_test = test.drop(columns=['churn','churn_Yes'])\n",
    "y_test = test.churn_Yes"
   ]
  },
  {
   "cell_type": "code",
   "execution_count": 9,
   "id": "5a5588c4",
   "metadata": {},
   "outputs": [
    {
     "data": {
      "text/plain": [
       "0    2891\n",
       "1    1046\n",
       "Name: churn_Yes, dtype: int64"
      ]
     },
     "execution_count": 9,
     "metadata": {},
     "output_type": "execute_result"
    }
   ],
   "source": [
    "train.churn_Yes.value_counts()"
   ]
  },
  {
   "cell_type": "code",
   "execution_count": 10,
   "id": "57955980",
   "metadata": {},
   "outputs": [
    {
     "name": "stdout",
     "output_type": "stream",
     "text": [
      "Baseline accuracy: 0.73\n"
     ]
    }
   ],
   "source": [
    "clf = DecisionTreeClassifier(max_depth=3, random_state=123)\n",
    "baseline_accuracy = (train.churn_Yes == 0).mean()\n",
    "print(f\"Baseline accuracy: {round(baseline_accuracy, 2)}\")"
   ]
  },
  {
   "cell_type": "code",
   "execution_count": 11,
   "id": "76d6ff60",
   "metadata": {},
   "outputs": [],
   "source": [
    "clf = clf.fit(X_train, y_train)"
   ]
  },
  {
   "cell_type": "code",
   "execution_count": 12,
   "id": "563b6d63",
   "metadata": {},
   "outputs": [],
   "source": [
    "# Make the model\n",
    "tree1 = DecisionTreeClassifier(max_depth=10, random_state=123)\n",
    "\n",
    "# Fit the model (on train and only train)\n",
    "tree1 = tree1.fit(X_train, y_train)\n",
    "\n",
    "# Use the model\n",
    "# We'll evaluate the model's performance on train, first\n",
    "y_predictions = tree1.predict(X_train)\n"
   ]
  },
  {
   "cell_type": "code",
   "execution_count": 13,
   "id": "9cfd5fbc",
   "metadata": {},
   "outputs": [
    {
     "data": {
      "text/html": [
       "<div>\n",
       "<style scoped>\n",
       "    .dataframe tbody tr th:only-of-type {\n",
       "        vertical-align: middle;\n",
       "    }\n",
       "\n",
       "    .dataframe tbody tr th {\n",
       "        vertical-align: top;\n",
       "    }\n",
       "\n",
       "    .dataframe thead th {\n",
       "        text-align: right;\n",
       "    }\n",
       "</style>\n",
       "<table border=\"1\" class=\"dataframe\">\n",
       "  <thead>\n",
       "    <tr style=\"text-align: right;\">\n",
       "      <th></th>\n",
       "      <th>internet_service_type_id</th>\n",
       "      <th>payment_type_id</th>\n",
       "      <th>contract_type_id</th>\n",
       "      <th>senior_citizen</th>\n",
       "      <th>tenure</th>\n",
       "      <th>monthly_charges</th>\n",
       "      <th>total_charges</th>\n",
       "      <th>churn</th>\n",
       "      <th>gender_Male</th>\n",
       "      <th>dependents_Yes</th>\n",
       "      <th>multiple_lines_No phone service</th>\n",
       "      <th>multiple_lines_Yes</th>\n",
       "      <th>tech_support_No internet service</th>\n",
       "      <th>tech_support_Yes</th>\n",
       "      <th>paperless_billing_Yes</th>\n",
       "      <th>churn_Yes</th>\n",
       "    </tr>\n",
       "  </thead>\n",
       "  <tbody>\n",
       "    <tr>\n",
       "      <th>5919</th>\n",
       "      <td>1</td>\n",
       "      <td>4</td>\n",
       "      <td>2</td>\n",
       "      <td>0</td>\n",
       "      <td>58</td>\n",
       "      <td>71.10</td>\n",
       "      <td>4299.20</td>\n",
       "      <td>0</td>\n",
       "      <td>0</td>\n",
       "      <td>0</td>\n",
       "      <td>0</td>\n",
       "      <td>1</td>\n",
       "      <td>0</td>\n",
       "      <td>1</td>\n",
       "      <td>1</td>\n",
       "      <td>0</td>\n",
       "    </tr>\n",
       "    <tr>\n",
       "      <th>1915</th>\n",
       "      <td>2</td>\n",
       "      <td>4</td>\n",
       "      <td>2</td>\n",
       "      <td>0</td>\n",
       "      <td>71</td>\n",
       "      <td>85.45</td>\n",
       "      <td>6028.95</td>\n",
       "      <td>0</td>\n",
       "      <td>1</td>\n",
       "      <td>1</td>\n",
       "      <td>0</td>\n",
       "      <td>1</td>\n",
       "      <td>0</td>\n",
       "      <td>0</td>\n",
       "      <td>1</td>\n",
       "      <td>0</td>\n",
       "    </tr>\n",
       "    <tr>\n",
       "      <th>5054</th>\n",
       "      <td>3</td>\n",
       "      <td>1</td>\n",
       "      <td>1</td>\n",
       "      <td>0</td>\n",
       "      <td>35</td>\n",
       "      <td>25.75</td>\n",
       "      <td>882.55</td>\n",
       "      <td>0</td>\n",
       "      <td>0</td>\n",
       "      <td>1</td>\n",
       "      <td>0</td>\n",
       "      <td>1</td>\n",
       "      <td>1</td>\n",
       "      <td>0</td>\n",
       "      <td>1</td>\n",
       "      <td>0</td>\n",
       "    </tr>\n",
       "    <tr>\n",
       "      <th>2355</th>\n",
       "      <td>3</td>\n",
       "      <td>2</td>\n",
       "      <td>1</td>\n",
       "      <td>0</td>\n",
       "      <td>1</td>\n",
       "      <td>19.20</td>\n",
       "      <td>19.20</td>\n",
       "      <td>0</td>\n",
       "      <td>1</td>\n",
       "      <td>1</td>\n",
       "      <td>0</td>\n",
       "      <td>0</td>\n",
       "      <td>1</td>\n",
       "      <td>0</td>\n",
       "      <td>0</td>\n",
       "      <td>0</td>\n",
       "    </tr>\n",
       "    <tr>\n",
       "      <th>6279</th>\n",
       "      <td>1</td>\n",
       "      <td>2</td>\n",
       "      <td>2</td>\n",
       "      <td>1</td>\n",
       "      <td>20</td>\n",
       "      <td>54.00</td>\n",
       "      <td>1055.90</td>\n",
       "      <td>0</td>\n",
       "      <td>1</td>\n",
       "      <td>0</td>\n",
       "      <td>0</td>\n",
       "      <td>0</td>\n",
       "      <td>0</td>\n",
       "      <td>1</td>\n",
       "      <td>0</td>\n",
       "      <td>0</td>\n",
       "    </tr>\n",
       "    <tr>\n",
       "      <th>...</th>\n",
       "      <td>...</td>\n",
       "      <td>...</td>\n",
       "      <td>...</td>\n",
       "      <td>...</td>\n",
       "      <td>...</td>\n",
       "      <td>...</td>\n",
       "      <td>...</td>\n",
       "      <td>...</td>\n",
       "      <td>...</td>\n",
       "      <td>...</td>\n",
       "      <td>...</td>\n",
       "      <td>...</td>\n",
       "      <td>...</td>\n",
       "      <td>...</td>\n",
       "      <td>...</td>\n",
       "      <td>...</td>\n",
       "    </tr>\n",
       "    <tr>\n",
       "      <th>394</th>\n",
       "      <td>2</td>\n",
       "      <td>4</td>\n",
       "      <td>1</td>\n",
       "      <td>0</td>\n",
       "      <td>24</td>\n",
       "      <td>88.95</td>\n",
       "      <td>2072.75</td>\n",
       "      <td>0</td>\n",
       "      <td>0</td>\n",
       "      <td>0</td>\n",
       "      <td>0</td>\n",
       "      <td>1</td>\n",
       "      <td>0</td>\n",
       "      <td>0</td>\n",
       "      <td>1</td>\n",
       "      <td>0</td>\n",
       "    </tr>\n",
       "    <tr>\n",
       "      <th>3763</th>\n",
       "      <td>2</td>\n",
       "      <td>1</td>\n",
       "      <td>1</td>\n",
       "      <td>0</td>\n",
       "      <td>10</td>\n",
       "      <td>100.25</td>\n",
       "      <td>1064.65</td>\n",
       "      <td>1</td>\n",
       "      <td>0</td>\n",
       "      <td>1</td>\n",
       "      <td>0</td>\n",
       "      <td>1</td>\n",
       "      <td>0</td>\n",
       "      <td>0</td>\n",
       "      <td>1</td>\n",
       "      <td>1</td>\n",
       "    </tr>\n",
       "    <tr>\n",
       "      <th>3444</th>\n",
       "      <td>3</td>\n",
       "      <td>4</td>\n",
       "      <td>3</td>\n",
       "      <td>0</td>\n",
       "      <td>22</td>\n",
       "      <td>25.25</td>\n",
       "      <td>555.40</td>\n",
       "      <td>0</td>\n",
       "      <td>0</td>\n",
       "      <td>1</td>\n",
       "      <td>0</td>\n",
       "      <td>1</td>\n",
       "      <td>1</td>\n",
       "      <td>0</td>\n",
       "      <td>0</td>\n",
       "      <td>0</td>\n",
       "    </tr>\n",
       "    <tr>\n",
       "      <th>1002</th>\n",
       "      <td>2</td>\n",
       "      <td>4</td>\n",
       "      <td>1</td>\n",
       "      <td>0</td>\n",
       "      <td>22</td>\n",
       "      <td>89.10</td>\n",
       "      <td>1949.40</td>\n",
       "      <td>0</td>\n",
       "      <td>1</td>\n",
       "      <td>1</td>\n",
       "      <td>0</td>\n",
       "      <td>1</td>\n",
       "      <td>0</td>\n",
       "      <td>0</td>\n",
       "      <td>1</td>\n",
       "      <td>0</td>\n",
       "    </tr>\n",
       "    <tr>\n",
       "      <th>4192</th>\n",
       "      <td>3</td>\n",
       "      <td>2</td>\n",
       "      <td>1</td>\n",
       "      <td>0</td>\n",
       "      <td>2</td>\n",
       "      <td>20.05</td>\n",
       "      <td>42.70</td>\n",
       "      <td>0</td>\n",
       "      <td>1</td>\n",
       "      <td>0</td>\n",
       "      <td>0</td>\n",
       "      <td>0</td>\n",
       "      <td>1</td>\n",
       "      <td>0</td>\n",
       "      <td>0</td>\n",
       "      <td>0</td>\n",
       "    </tr>\n",
       "  </tbody>\n",
       "</table>\n",
       "<p>3937 rows × 16 columns</p>\n",
       "</div>"
      ],
      "text/plain": [
       "      internet_service_type_id  payment_type_id  contract_type_id  \\\n",
       "5919                         1                4                 2   \n",
       "1915                         2                4                 2   \n",
       "5054                         3                1                 1   \n",
       "2355                         3                2                 1   \n",
       "6279                         1                2                 2   \n",
       "...                        ...              ...               ...   \n",
       "394                          2                4                 1   \n",
       "3763                         2                1                 1   \n",
       "3444                         3                4                 3   \n",
       "1002                         2                4                 1   \n",
       "4192                         3                2                 1   \n",
       "\n",
       "      senior_citizen  tenure  monthly_charges  total_charges  churn  \\\n",
       "5919               0      58            71.10        4299.20      0   \n",
       "1915               0      71            85.45        6028.95      0   \n",
       "5054               0      35            25.75         882.55      0   \n",
       "2355               0       1            19.20          19.20      0   \n",
       "6279               1      20            54.00        1055.90      0   \n",
       "...              ...     ...              ...            ...    ...   \n",
       "394                0      24            88.95        2072.75      0   \n",
       "3763               0      10           100.25        1064.65      1   \n",
       "3444               0      22            25.25         555.40      0   \n",
       "1002               0      22            89.10        1949.40      0   \n",
       "4192               0       2            20.05          42.70      0   \n",
       "\n",
       "      gender_Male  dependents_Yes  multiple_lines_No phone service  \\\n",
       "5919            0               0                                0   \n",
       "1915            1               1                                0   \n",
       "5054            0               1                                0   \n",
       "2355            1               1                                0   \n",
       "6279            1               0                                0   \n",
       "...           ...             ...                              ...   \n",
       "394             0               0                                0   \n",
       "3763            0               1                                0   \n",
       "3444            0               1                                0   \n",
       "1002            1               1                                0   \n",
       "4192            1               0                                0   \n",
       "\n",
       "      multiple_lines_Yes  tech_support_No internet service  tech_support_Yes  \\\n",
       "5919                   1                                 0                 1   \n",
       "1915                   1                                 0                 0   \n",
       "5054                   1                                 1                 0   \n",
       "2355                   0                                 1                 0   \n",
       "6279                   0                                 0                 1   \n",
       "...                  ...                               ...               ...   \n",
       "394                    1                                 0                 0   \n",
       "3763                   1                                 0                 0   \n",
       "3444                   1                                 1                 0   \n",
       "1002                   1                                 0                 0   \n",
       "4192                   0                                 1                 0   \n",
       "\n",
       "      paperless_billing_Yes  churn_Yes  \n",
       "5919                      1          0  \n",
       "1915                      1          0  \n",
       "5054                      1          0  \n",
       "2355                      0          0  \n",
       "6279                      0          0  \n",
       "...                     ...        ...  \n",
       "394                       1          0  \n",
       "3763                      1          1  \n",
       "3444                      0          0  \n",
       "1002                      1          0  \n",
       "4192                      0          0  \n",
       "\n",
       "[3937 rows x 16 columns]"
      ]
     },
     "execution_count": 13,
     "metadata": {},
     "output_type": "execute_result"
    }
   ],
   "source": [
    "train"
   ]
  },
  {
   "cell_type": "code",
   "execution_count": 14,
   "id": "c661f59c",
   "metadata": {},
   "outputs": [
    {
     "data": {
      "text/plain": [
       "[Text(362.7, 332.955, 'contract_type_id <= 1.5\\ngini = 0.39\\nsamples = 3937\\nvalue = [2891, 1046]\\nclass = 0'),\n",
       " Text(181.35, 237.825, 'monthly_charges <= 69.225\\ngini = 0.49\\nsamples = 2165\\nvalue = [1238, 927]\\nclass = 0'),\n",
       " Text(90.675, 142.695, 'tenure <= 5.5\\ngini = 0.408\\nsamples = 954\\nvalue = [682, 272]\\nclass = 0'),\n",
       " Text(45.3375, 47.565, 'gini = 0.489\\nsamples = 440\\nvalue = [253, 187]\\nclass = 0'),\n",
       " Text(136.0125, 47.565, 'gini = 0.276\\nsamples = 514\\nvalue = [429, 85]\\nclass = 0'),\n",
       " Text(272.025, 142.695, 'total_charges <= 1486.825\\ngini = 0.497\\nsamples = 1211\\nvalue = [556, 655]\\nclass = 1'),\n",
       " Text(226.6875, 47.565, 'gini = 0.433\\nsamples = 607\\nvalue = [192, 415]\\nclass = 1'),\n",
       " Text(317.3625, 47.565, 'gini = 0.479\\nsamples = 604\\nvalue = [364, 240]\\nclass = 0'),\n",
       " Text(544.05, 237.825, 'monthly_charges <= 93.775\\ngini = 0.125\\nsamples = 1772\\nvalue = [1653, 119]\\nclass = 0'),\n",
       " Text(453.375, 142.695, 'contract_type_id <= 2.5\\ngini = 0.072\\nsamples = 1328\\nvalue = [1278, 50]\\nclass = 0'),\n",
       " Text(408.03749999999997, 47.565, 'gini = 0.121\\nsamples = 587\\nvalue = [549, 38]\\nclass = 0'),\n",
       " Text(498.7125, 47.565, 'gini = 0.032\\nsamples = 741\\nvalue = [729, 12]\\nclass = 0'),\n",
       " Text(634.725, 142.695, 'total_charges <= 6586.2\\ngini = 0.263\\nsamples = 444\\nvalue = [375, 69]\\nclass = 0'),\n",
       " Text(589.3874999999999, 47.565, 'gini = 0.353\\nsamples = 214\\nvalue = [165, 49]\\nclass = 0'),\n",
       " Text(680.0625, 47.565, 'gini = 0.159\\nsamples = 230\\nvalue = [210, 20]\\nclass = 0')]"
      ]
     },
     "execution_count": 14,
     "metadata": {},
     "output_type": "execute_result"
    },
    {
     "data": {
      "image/png": "[encoded data removed]",
      "text/plain": [
       "<Figure size 936x504 with 1 Axes>"
      ]
     },
     "metadata": {
      "needs_background": "light"
     },
     "output_type": "display_data"
    }
   ],
   "source": [
    "plt.figure(figsize=(13, 7))\n",
    "plot_tree(clf, feature_names=X_train.columns, class_names=clf.classes_.astype(str), rounded=True)"
   ]
  },
  {
   "cell_type": "code",
   "execution_count": 15,
   "id": "6cc49222",
   "metadata": {},
   "outputs": [
    {
     "data": {
      "text/plain": [
       "array([[0.93526405, 0.06473595],\n",
       "       [0.93526405, 0.06473595],\n",
       "       [0.83463035, 0.16536965],\n",
       "       [0.575     , 0.425     ],\n",
       "       [0.93526405, 0.06473595]])"
      ]
     },
     "execution_count": 15,
     "metadata": {},
     "output_type": "execute_result"
    }
   ],
   "source": [
    "baseline_prediction = y_pred_proba = clf.predict_proba(X_train)\n",
    "y_pred_proba[0:5]"
   ]
  },
  {
   "cell_type": "code",
   "execution_count": 16,
   "id": "0786ba50",
   "metadata": {},
   "outputs": [
    {
     "name": "stdout",
     "output_type": "stream",
     "text": [
      "Accuracy of Decision Tree classifier on training set: 0.79\n"
     ]
    }
   ],
   "source": [
    "print('Accuracy of Decision Tree classifier on training set: {:.2f}'\n",
    "      .format(clf.score(X_train, y_train)))"
   ]
  },
  {
   "cell_type": "code",
   "execution_count": 17,
   "id": "e1983284",
   "metadata": {},
   "outputs": [
    {
     "name": "stdout",
     "output_type": "stream",
     "text": [
      "              precision    recall  f1-score   support\n",
      "\n",
      "           0       0.81      0.93      0.87      2891\n",
      "           1       0.68      0.40      0.50      1046\n",
      "\n",
      "    accuracy                           0.79      3937\n",
      "   macro avg       0.75      0.67      0.68      3937\n",
      "weighted avg       0.78      0.79      0.77      3937\n",
      "\n"
     ]
    }
   ],
   "source": [
    "y_pred = clf.predict(X_train)\n",
    "print(classification_report(y_train, y_pred))"
   ]
  },
  {
   "cell_type": "code",
   "execution_count": 18,
   "id": "796511eb",
   "metadata": {},
   "outputs": [
    {
     "data": {
      "text/plain": [
       "array([[2699,  192],\n",
       "       [ 631,  415]])"
      ]
     },
     "execution_count": 18,
     "metadata": {},
     "output_type": "execute_result"
    }
   ],
   "source": [
    "confusion_matrix(y_train, y_pred)"
   ]
  },
  {
   "cell_type": "code",
   "execution_count": 19,
   "id": "9ae7af05",
   "metadata": {},
   "outputs": [
    {
     "data": {
      "text/html": [
       "<div>\n",
       "<style scoped>\n",
       "    .dataframe tbody tr th:only-of-type {\n",
       "        vertical-align: middle;\n",
       "    }\n",
       "\n",
       "    .dataframe tbody tr th {\n",
       "        vertical-align: top;\n",
       "    }\n",
       "\n",
       "    .dataframe thead th {\n",
       "        text-align: right;\n",
       "    }\n",
       "</style>\n",
       "<table border=\"1\" class=\"dataframe\">\n",
       "  <thead>\n",
       "    <tr style=\"text-align: right;\">\n",
       "      <th>col_0</th>\n",
       "      <th>0</th>\n",
       "      <th>1</th>\n",
       "    </tr>\n",
       "    <tr>\n",
       "      <th>churn_Yes</th>\n",
       "      <th></th>\n",
       "      <th></th>\n",
       "    </tr>\n",
       "  </thead>\n",
       "  <tbody>\n",
       "    <tr>\n",
       "      <th>0</th>\n",
       "      <td>2699</td>\n",
       "      <td>192</td>\n",
       "    </tr>\n",
       "    <tr>\n",
       "      <th>1</th>\n",
       "      <td>631</td>\n",
       "      <td>415</td>\n",
       "    </tr>\n",
       "  </tbody>\n",
       "</table>\n",
       "</div>"
      ],
      "text/plain": [
       "col_0         0    1\n",
       "churn_Yes           \n",
       "0          2699  192\n",
       "1           631  415"
      ]
     },
     "execution_count": 19,
     "metadata": {},
     "output_type": "execute_result"
    }
   ],
   "source": [
    "pd.crosstab(y_train, y_pred)"
   ]
  },
  {
   "cell_type": "code",
   "execution_count": 20,
   "id": "e1cee0ed",
   "metadata": {},
   "outputs": [
    {
     "name": "stdout",
     "output_type": "stream",
     "text": [
      "              precision    recall  f1-score   support\n",
      "\n",
      "           0       0.81      0.93      0.87      2891\n",
      "           1       0.68      0.40      0.50      1046\n",
      "\n",
      "    accuracy                           0.79      3937\n",
      "   macro avg       0.75      0.67      0.68      3937\n",
      "weighted avg       0.78      0.79      0.77      3937\n",
      "\n"
     ]
    }
   ],
   "source": [
    "y_pred = clf.predict(X_train)\n",
    "print(classification_report(y_train,y_pred))"
   ]
  },
  {
   "cell_type": "code",
   "execution_count": 21,
   "id": "21c73613",
   "metadata": {},
   "outputs": [
    {
     "data": {
      "text/html": [
       "<div>\n",
       "<style scoped>\n",
       "    .dataframe tbody tr th:only-of-type {\n",
       "        vertical-align: middle;\n",
       "    }\n",
       "\n",
       "    .dataframe tbody tr th {\n",
       "        vertical-align: top;\n",
       "    }\n",
       "\n",
       "    .dataframe thead th {\n",
       "        text-align: right;\n",
       "    }\n",
       "</style>\n",
       "<table border=\"1\" class=\"dataframe\">\n",
       "  <thead>\n",
       "    <tr style=\"text-align: right;\">\n",
       "      <th></th>\n",
       "      <th>0</th>\n",
       "      <th>1</th>\n",
       "    </tr>\n",
       "  </thead>\n",
       "  <tbody>\n",
       "    <tr>\n",
       "      <th>0</th>\n",
       "      <td>0.935264</td>\n",
       "      <td>0.064736</td>\n",
       "    </tr>\n",
       "    <tr>\n",
       "      <th>1</th>\n",
       "      <td>0.935264</td>\n",
       "      <td>0.064736</td>\n",
       "    </tr>\n",
       "    <tr>\n",
       "      <th>2</th>\n",
       "      <td>0.834630</td>\n",
       "      <td>0.165370</td>\n",
       "    </tr>\n",
       "    <tr>\n",
       "      <th>3</th>\n",
       "      <td>0.575000</td>\n",
       "      <td>0.425000</td>\n",
       "    </tr>\n",
       "    <tr>\n",
       "      <th>4</th>\n",
       "      <td>0.935264</td>\n",
       "      <td>0.064736</td>\n",
       "    </tr>\n",
       "    <tr>\n",
       "      <th>...</th>\n",
       "      <td>...</td>\n",
       "      <td>...</td>\n",
       "    </tr>\n",
       "    <tr>\n",
       "      <th>3932</th>\n",
       "      <td>0.602649</td>\n",
       "      <td>0.397351</td>\n",
       "    </tr>\n",
       "    <tr>\n",
       "      <th>3933</th>\n",
       "      <td>0.316310</td>\n",
       "      <td>0.683690</td>\n",
       "    </tr>\n",
       "    <tr>\n",
       "      <th>3934</th>\n",
       "      <td>0.983806</td>\n",
       "      <td>0.016194</td>\n",
       "    </tr>\n",
       "    <tr>\n",
       "      <th>3935</th>\n",
       "      <td>0.602649</td>\n",
       "      <td>0.397351</td>\n",
       "    </tr>\n",
       "    <tr>\n",
       "      <th>3936</th>\n",
       "      <td>0.575000</td>\n",
       "      <td>0.425000</td>\n",
       "    </tr>\n",
       "  </tbody>\n",
       "</table>\n",
       "<p>3937 rows × 2 columns</p>\n",
       "</div>"
      ],
      "text/plain": [
       "             0         1\n",
       "0     0.935264  0.064736\n",
       "1     0.935264  0.064736\n",
       "2     0.834630  0.165370\n",
       "3     0.575000  0.425000\n",
       "4     0.935264  0.064736\n",
       "...        ...       ...\n",
       "3932  0.602649  0.397351\n",
       "3933  0.316310  0.683690\n",
       "3934  0.983806  0.016194\n",
       "3935  0.602649  0.397351\n",
       "3936  0.575000  0.425000\n",
       "\n",
       "[3937 rows x 2 columns]"
      ]
     },
     "execution_count": 21,
     "metadata": {},
     "output_type": "execute_result"
    }
   ],
   "source": [
    "churn_pred_prob = pd.DataFrame(clf.predict_proba(X_train))\n",
    "churn_pred_prob"
   ]
  },
  {
   "cell_type": "code",
   "execution_count": 22,
   "id": "5c50f539",
   "metadata": {},
   "outputs": [
    {
     "name": "stdout",
     "output_type": "stream",
     "text": [
      "Accuracy: 0.7909575819151639\n",
      "True Positive Rate: 0.8105105105105105\n",
      "False Positive Rate: 0.3163097199341021\n",
      "True Negative Rate: 0.6836902800658978\n",
      "False Negative Rate: 0.1894894894894895\n",
      "Precision: 0.9335869941196818\n",
      "Recall: 0.8105105105105105\n",
      "Fl_Score: 0.8677061565664684\n",
      "Support (0): {support_pos}\n",
      "Support (1): 607\n"
     ]
    }
   ],
   "source": [
    "\n",
    "TP = 2699\n",
    "FP = 192\n",
    "FN = 631\n",
    "TN = 415\n",
    "ALL = TP + FP + FN + TN\n",
    "accuracy = (TP + TN)/ALL\n",
    "print(f\"Accuracy: {accuracy}\")\n",
    "\n",
    "true_positive_rate = TP/(TP+FN)\n",
    "print(f\"True Positive Rate: {true_positive_rate}\")\n",
    "false_positive_rate = FP/(FP+TN)\n",
    "print(f\"False Positive Rate: {false_positive_rate}\")\n",
    "true_negative_rate = TN/(TN+FP)\n",
    "print(f\"True Negative Rate: {true_negative_rate}\")\n",
    "false_negative_rate = FN/(FN+TP)\n",
    "print(f\"False Negative Rate: {false_negative_rate}\")\n",
    "precision = TP/(TP+FP)\n",
    "print(f\"Precision: {precision}\")\n",
    "recall = TP/(TP+FN)\n",
    "print(f\"Recall: {recall}\")\n",
    "f1_score = 2* (precision*recall)/ (precision+recall)\n",
    "print (f\"Fl_Score: {f1_score}\")\n",
    "support_pos = TP + FN\n",
    "print (\"Support (0): {support_pos}\")\n",
    "support_neg = FP + TN\n",
    "print (f\"Support (1): {support_neg}\")"
   ]
  },
  {
   "cell_type": "code",
   "execution_count": 23,
   "id": "6ff836a5",
   "metadata": {},
   "outputs": [
    {
     "data": {
      "text/html": [
       "<div>\n",
       "<style scoped>\n",
       "    .dataframe tbody tr th:only-of-type {\n",
       "        vertical-align: middle;\n",
       "    }\n",
       "\n",
       "    .dataframe tbody tr th {\n",
       "        vertical-align: top;\n",
       "    }\n",
       "\n",
       "    .dataframe thead th {\n",
       "        text-align: right;\n",
       "    }\n",
       "</style>\n",
       "<table border=\"1\" class=\"dataframe\">\n",
       "  <thead>\n",
       "    <tr style=\"text-align: right;\">\n",
       "      <th></th>\n",
       "      <th>0</th>\n",
       "      <th>1</th>\n",
       "    </tr>\n",
       "  </thead>\n",
       "  <tbody>\n",
       "    <tr>\n",
       "      <th>0</th>\n",
       "      <td>2699</td>\n",
       "      <td>192</td>\n",
       "    </tr>\n",
       "    <tr>\n",
       "      <th>1</th>\n",
       "      <td>631</td>\n",
       "      <td>415</td>\n",
       "    </tr>\n",
       "  </tbody>\n",
       "</table>\n",
       "</div>"
      ],
      "text/plain": [
       "      0    1\n",
       "0  2699  192\n",
       "1   631  415"
      ]
     },
     "execution_count": 23,
     "metadata": {},
     "output_type": "execute_result"
    }
   ],
   "source": [
    "labels = sorted(y_train.unique())\n",
    "\n",
    "pd.DataFrame(confusion_matrix(y_train, y_pred), index=labels, columns=labels)"
   ]
  },
  {
   "cell_type": "code",
   "execution_count": 24,
   "id": "20611b78",
   "metadata": {},
   "outputs": [
    {
     "name": "stdout",
     "output_type": "stream",
     "text": [
      "Accuracy of Decision Tree classifier on training set: 0.84\n"
     ]
    },
    {
     "data": {
      "text/plain": [
       "array([[2699,  192],\n",
       "       [ 631,  415]])"
      ]
     },
     "execution_count": 24,
     "metadata": {},
     "output_type": "execute_result"
    }
   ],
   "source": [
    "clf = DecisionTreeClassifier(max_depth=8, random_state=123)\n",
    "clf = clf.fit(X_train, y_train)\n",
    "print('Accuracy of Decision Tree classifier on training set: {:.2f}'\n",
    "      .format(clf.score(X_train, y_train)))\n",
    "# confusion matrix\n",
    "\n",
    "confusion_matrix(y_train, y_pred)"
   ]
  },
  {
   "cell_type": "code",
   "execution_count": 25,
   "id": "15a9ae6c",
   "metadata": {},
   "outputs": [
    {
     "data": {
      "text/plain": [
       "0.7541469194312796"
      ]
     },
     "execution_count": 25,
     "metadata": {},
     "output_type": "execute_result"
    }
   ],
   "source": [
    "x = clf.score(X_validate,y_validate)\n",
    "x"
   ]
  },
  {
   "cell_type": "code",
   "execution_count": 26,
   "id": "8269be45",
   "metadata": {},
   "outputs": [
    {
     "data": {
      "text/plain": [
       "0.7541469194312796"
      ]
     },
     "execution_count": 26,
     "metadata": {},
     "output_type": "execute_result"
    }
   ],
   "source": [
    "y = clf.score(X_validate,y_validate)\n",
    "y"
   ]
  },
  {
   "cell_type": "code",
   "execution_count": 27,
   "id": "ea44adb7",
   "metadata": {},
   "outputs": [],
   "source": [
    "rf = RandomForestClassifier(bootstrap=True, \n",
    "                            class_weight=None, \n",
    "                            criterion='gini',\n",
    "                            min_samples_leaf=1,\n",
    "                            n_estimators=100,\n",
    "                            max_depth=10, \n",
    "                            random_state=123)"
   ]
  },
  {
   "cell_type": "code",
   "execution_count": 28,
   "id": "ed249e92",
   "metadata": {},
   "outputs": [
    {
     "name": "stdout",
     "output_type": "stream",
     "text": [
      "Accuracy of random forest classifier on training set: 0.89\n"
     ]
    }
   ],
   "source": [
    "rf.fit(X_train, y_train)\n",
    "y_pred = rf.predict(X_train)\n",
    "y_pred_proba = rf.predict_proba(X_train)\n",
    "print('Accuracy of random forest classifier on training set: {:.2f}'\n",
    "     .format(rf.score(X_train, y_train)))"
   ]
  },
  {
   "cell_type": "code",
   "execution_count": 29,
   "id": "f873de35",
   "metadata": {},
   "outputs": [
    {
     "name": "stdout",
     "output_type": "stream",
     "text": [
      "              precision    recall  f1-score   support\n",
      "\n",
      "           0       0.89      0.89      0.89      2891\n",
      "           1       0.71      0.70      0.70      1046\n",
      "\n",
      "    accuracy                           0.84      3937\n",
      "   macro avg       0.80      0.80      0.80      3937\n",
      "weighted avg       0.84      0.84      0.84      3937\n",
      "\n"
     ]
    }
   ],
   "source": [
    "y_pred = clf.predict(X_train)\n",
    "print(classification_report(y_train, y_pred))"
   ]
  },
  {
   "cell_type": "code",
   "execution_count": 30,
   "id": "ad628fc1",
   "metadata": {},
   "outputs": [
    {
     "name": "stdout",
     "output_type": "stream",
     "text": [
      "              precision    recall  f1-score   support\n",
      "\n",
      "           0       0.91      0.95      0.93      2891\n",
      "           1       0.84      0.73      0.78      1046\n",
      "\n",
      "    accuracy                           0.89      3937\n",
      "   macro avg       0.87      0.84      0.85      3937\n",
      "weighted avg       0.89      0.89      0.89      3937\n",
      "\n"
     ]
    }
   ],
   "source": [
    "y_pred = rf.predict(X_train)\n",
    "print(classification_report(y_train, y_pred))"
   ]
  },
  {
   "cell_type": "code",
   "execution_count": 31,
   "id": "a8031f4a",
   "metadata": {},
   "outputs": [
    {
     "data": {
      "text/plain": [
       "array([[2743,  148],\n",
       "       [ 280,  766]])"
      ]
     },
     "execution_count": 31,
     "metadata": {},
     "output_type": "execute_result"
    }
   ],
   "source": [
    "confusion_matrix(y_train, y_pred)"
   ]
  },
  {
   "cell_type": "code",
   "execution_count": 32,
   "id": "88b45800",
   "metadata": {},
   "outputs": [
    {
     "name": "stdout",
     "output_type": "stream",
     "text": [
      "Accuracy: 0.8912877825755652\n",
      "True Positive Rate: 0.9073767780350646\n",
      "False Positive Rate: 0.16192560175054704\n",
      "True Negative Rate: 0.838074398249453\n",
      "False Negative Rate: 0.0926232219649355\n",
      "Precision: 0.948806641300588\n",
      "Recall: 0.9073767780350646\n",
      "Fl_Score: 0.9276293540750762\n",
      "Support (0): {support_pos}\n",
      "Support (1): 914\n"
     ]
    }
   ],
   "source": [
    "TP = 2743\n",
    "FP = 148\n",
    "FN = 280\n",
    "TN = 766\n",
    "ALL = TP + FP + FN + TN\n",
    "accuracy = (TP + TN)/ALL\n",
    "print(f\"Accuracy: {accuracy}\")\n",
    "\n",
    "true_positive_rate = TP/(TP+FN)\n",
    "print(f\"True Positive Rate: {true_positive_rate}\")\n",
    "false_positive_rate = FP/(FP+TN)\n",
    "print(f\"False Positive Rate: {false_positive_rate}\")\n",
    "true_negative_rate = TN/(TN+FP)\n",
    "print(f\"True Negative Rate: {true_negative_rate}\")\n",
    "false_negative_rate = FN/(FN+TP)\n",
    "print(f\"False Negative Rate: {false_negative_rate}\")\n",
    "precision = TP/(TP+FP)\n",
    "print(f\"Precision: {precision}\")\n",
    "recall = TP/(TP+FN)\n",
    "print(f\"Recall: {recall}\")\n",
    "f1_score = 2* (precision*recall)/ (precision+recall)\n",
    "print (f\"Fl_Score: {f1_score}\")\n",
    "support_pos = TP + FN\n",
    "print (\"Support (0): {support_pos}\")\n",
    "support_neg = FP + TN\n",
    "print (f\"Support (1): {support_neg}\")"
   ]
  },
  {
   "cell_type": "markdown",
   "id": "acbe12d8",
   "metadata": {},
   "source": [
    "----------------------------------------------------------------------------------------------------------------------"
   ]
  },
  {
   "cell_type": "code",
   "execution_count": 33,
   "id": "36ce9d73",
   "metadata": {},
   "outputs": [],
   "source": [
    "knn = KNeighborsClassifier(n_neighbors=5, weights='uniform')"
   ]
  },
  {
   "cell_type": "code",
   "execution_count": 34,
   "id": "7be766ee",
   "metadata": {},
   "outputs": [
    {
     "name": "stdout",
     "output_type": "stream",
     "text": [
      "Accuracy of KNN classifier on training set: 0.83\n"
     ]
    }
   ],
   "source": [
    "knn.fit(X_train, y_train)\n",
    "y_pred = knn.predict(X_train)\n",
    "y_pred_proba = knn.predict_proba(X_train)\n",
    "print('Accuracy of KNN classifier on training set: {:.2f}'\n",
    "     .format(knn.score(X_train, y_train)))"
   ]
  },
  {
   "cell_type": "code",
   "execution_count": 35,
   "id": "17bdb3ee",
   "metadata": {},
   "outputs": [
    {
     "name": "stdout",
     "output_type": "stream",
     "text": [
      "[[2669  222]\n",
      " [ 445  601]]\n"
     ]
    }
   ],
   "source": [
    "print(confusion_matrix(y_train, y_pred))"
   ]
  },
  {
   "cell_type": "code",
   "execution_count": 36,
   "id": "b096d8f3",
   "metadata": {},
   "outputs": [
    {
     "name": "stdout",
     "output_type": "stream",
     "text": [
      "              precision    recall  f1-score   support\n",
      "\n",
      "           0       0.86      0.92      0.89      2891\n",
      "           1       0.73      0.57      0.64      1046\n",
      "\n",
      "    accuracy                           0.83      3937\n",
      "   macro avg       0.79      0.75      0.77      3937\n",
      "weighted avg       0.82      0.83      0.82      3937\n",
      "\n"
     ]
    }
   ],
   "source": [
    "print(classification_report(y_train, y_pred))"
   ]
  },
  {
   "cell_type": "code",
   "execution_count": 37,
   "id": "1dd2c2f3",
   "metadata": {},
   "outputs": [
    {
     "name": "stdout",
     "output_type": "stream",
     "text": [
      "Accuracy of KNN classifier on test set: 0.76\n"
     ]
    }
   ],
   "source": [
    "print('Accuracy of KNN classifier on test set: {:.2f}'\n",
    "     .format(knn.score(X_validate, y_validate)))"
   ]
  },
  {
   "cell_type": "code",
   "execution_count": 38,
   "id": "0f63182d",
   "metadata": {},
   "outputs": [],
   "source": [
    "# weights = ['uniform', 'density']\n",
    "knn = KNeighborsClassifier(n_neighbors=10, weights='uniform')\n",
    "knn.fit(X_train, y_train)\n",
    "y_pred = knn.predict(X_train)\n",
    "y_pred_proba = knn.predict_proba(X_train)"
   ]
  },
  {
   "cell_type": "code",
   "execution_count": 39,
   "id": "b53ff167",
   "metadata": {},
   "outputs": [
    {
     "name": "stdout",
     "output_type": "stream",
     "text": [
      "Accuracy of KNN classifier on training set: 0.81\n"
     ]
    }
   ],
   "source": [
    "print('Accuracy of KNN classifier on training set: {:.2f}'\n",
    "     .format(knn.score(X_train, y_train)))"
   ]
  },
  {
   "cell_type": "code",
   "execution_count": 40,
   "id": "48e1e751",
   "metadata": {},
   "outputs": [
    {
     "name": "stdout",
     "output_type": "stream",
     "text": [
      "[[2759  132]\n",
      " [ 620  426]]\n"
     ]
    }
   ],
   "source": [
    "print(confusion_matrix(y_train, y_pred))"
   ]
  },
  {
   "cell_type": "code",
   "execution_count": 41,
   "id": "2ba4b31c",
   "metadata": {},
   "outputs": [
    {
     "name": "stdout",
     "output_type": "stream",
     "text": [
      "Accuracy of KNN classifier on training set: 0.80\n"
     ]
    }
   ],
   "source": [
    "# weights = ['uniform', 'density']\n",
    "knn = KNeighborsClassifier(n_neighbors=10, weights='uniform')\n",
    "knn.fit(X_validate, y_validate)\n",
    "y_pred = knn.predict(X_validate)\n",
    "y_pred_proba = knn.predict_proba(X_validate)\n",
    "print('Accuracy of KNN classifier on training set: {:.2f}'\n",
    "     .format(knn.score(X_validate, y_validate)))"
   ]
  },
  {
   "cell_type": "code",
   "execution_count": 42,
   "id": "a6b86e6a",
   "metadata": {},
   "outputs": [
    {
     "name": "stdout",
     "output_type": "stream",
     "text": [
      "Accuracy of KNN classifier on training set: 0.78\n"
     ]
    }
   ],
   "source": [
    "# weights = ['uniform', 'density']\n",
    "knn = KNeighborsClassifier(n_neighbors=20, weights='uniform')\n",
    "knn.fit(X_validate, y_validate)\n",
    "y_pred = knn.predict(X_validate)\n",
    "y_pred_proba = knn.predict_proba(X_validate)\n",
    "print('Accuracy of KNN classifier on training set: {:.2f}'\n",
    "     .format(knn.score(X_validate, y_validate)))"
   ]
  },
  {
   "cell_type": "code",
   "execution_count": 43,
   "id": "e4b9744b",
   "metadata": {},
   "outputs": [
    {
     "name": "stdout",
     "output_type": "stream",
     "text": [
      "Accuracy of KNN classifier on training set: 0.78\n"
     ]
    }
   ],
   "source": [
    "knn.fit(X_validate, y_validate)\n",
    "y_pred = knn.predict(X_validate)\n",
    "y_pred_proba = knn.predict_proba(X_validate)\n",
    "print('Accuracy of KNN classifier on training set: {:.2f}'\n",
    "     .format(knn.score(X_validate, y_validate)))"
   ]
  },
  {
   "cell_type": "code",
   "execution_count": 44,
   "id": "52aab2dc",
   "metadata": {},
   "outputs": [
    {
     "name": "stdout",
     "output_type": "stream",
     "text": [
      "<class 'pandas.core.frame.DataFrame'>\n",
      "Int64Index: 3937 entries, 5919 to 4192\n",
      "Data columns (total 16 columns):\n",
      " #   Column                            Non-Null Count  Dtype  \n",
      "---  ------                            --------------  -----  \n",
      " 0   internet_service_type_id          3937 non-null   int64  \n",
      " 1   payment_type_id                   3937 non-null   int64  \n",
      " 2   contract_type_id                  3937 non-null   int64  \n",
      " 3   senior_citizen                    3937 non-null   int64  \n",
      " 4   tenure                            3937 non-null   int64  \n",
      " 5   monthly_charges                   3937 non-null   float64\n",
      " 6   total_charges                     3937 non-null   float64\n",
      " 7   churn                             3937 non-null   int64  \n",
      " 8   gender_Male                       3937 non-null   uint8  \n",
      " 9   dependents_Yes                    3937 non-null   uint8  \n",
      " 10  multiple_lines_No phone service   3937 non-null   uint8  \n",
      " 11  multiple_lines_Yes                3937 non-null   uint8  \n",
      " 12  tech_support_No internet service  3937 non-null   uint8  \n",
      " 13  tech_support_Yes                  3937 non-null   uint8  \n",
      " 14  paperless_billing_Yes             3937 non-null   uint8  \n",
      " 15  churn_Yes                         3937 non-null   uint8  \n",
      "dtypes: float64(2), int64(6), uint8(8)\n",
      "memory usage: 307.6 KB\n"
     ]
    }
   ],
   "source": [
    "train.info()"
   ]
  },
  {
   "cell_type": "code",
   "execution_count": 45,
   "id": "c121e6f9",
   "metadata": {},
   "outputs": [],
   "source": [
    "features = ['internet_service_type_id', 'contract_type_id','monthly_charges','gender_Male']"
   ]
  },
  {
   "cell_type": "code",
   "execution_count": 46,
   "id": "eb946593",
   "metadata": {},
   "outputs": [],
   "source": [
    "logit = LogisticRegression(random_state=123)"
   ]
  },
  {
   "cell_type": "code",
   "execution_count": 47,
   "id": "f42b079c",
   "metadata": {},
   "outputs": [],
   "source": [
    "logit = logit.fit(X_train[features], y_train)"
   ]
  },
  {
   "cell_type": "code",
   "execution_count": 49,
   "id": "5ca32fe2",
   "metadata": {},
   "outputs": [
    {
     "data": {
      "text/plain": [
       "0.7343154686309372"
      ]
     },
     "execution_count": 49,
     "metadata": {},
     "output_type": "execute_result"
    }
   ],
   "source": [
    "baseline = (train.churn == 0).mean()\n",
    "baseline"
   ]
  },
  {
   "cell_type": "code",
   "execution_count": 51,
   "id": "d460b319",
   "metadata": {},
   "outputs": [
    {
     "data": {
      "text/plain": [
       "0.7447294894589789"
      ]
     },
     "execution_count": 51,
     "metadata": {},
     "output_type": "execute_result"
    }
   ],
   "source": [
    "X_train = X_train[features]\n",
    "logit.score(X_train,y_train)"
   ]
  }
 ],
 "metadata": {
  "kernelspec": {
   "display_name": "Python 3 (ipykernel)",
   "language": "python",
   "name": "python3"
  },
  "language_info": {
   "codemirror_mode": {
    "name": "ipython",
    "version": 3
   },
   "file_extension": ".py",
   "mimetype": "text/x-python",
   "name": "python",
   "nbconvert_exporter": "python",
   "pygments_lexer": "ipython3",
   "version": "3.9.7"
  }
 },
 "nbformat": 4,
 "nbformat_minor": 5
}

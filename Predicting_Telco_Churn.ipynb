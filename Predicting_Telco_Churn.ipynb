{
 "cells": [
  {
   "cell_type": "code",
   "execution_count": 1,
   "id": "24efcda9",
   "metadata": {},
   "outputs": [],
   "source": [
    "import numpy as np\n",
    "import seaborn as sns\n",
    "import scipy.stats as stats\n",
    "import pandas as pd\n",
    "import matplotlib.pyplot as plt\n",
    "import env\n",
    "from pydataset import data\n",
    "import scipy\n",
    "import os\n",
    "from sklearn.model_selection import train_test_split\n",
    "# turn off pink boxes for demo\n",
    "from sklearn.tree import DecisionTreeClassifier, plot_tree\n",
    "from sklearn.metrics import classification_report\n",
    "from sklearn.metrics import confusion_matrix\n",
    "from sklearn.ensemble import RandomForestClassifier\n",
    "from sklearn.neighbors import KNeighborsClassifier\n",
    "from sklearn.linear_model import LogisticRegression\n",
    "import warnings\n",
    "warnings.filterwarnings(\"ignore\")\n",
    "\n",
    "# import our own acquire module\n",
    "from acquire import get_telco_data\n",
    "from prepare import split_telco_data\n",
    "from prepare import prep_telco"
   ]
  },
  {
   "cell_type": "markdown",
   "id": "d169e166",
   "metadata": {},
   "source": [
    "## Telco Data set is now defined as DF"
   ]
  },
  {
   "cell_type": "markdown",
   "id": "a577ee17",
   "metadata": {},
   "source": [
    "# Plan\n",
    "\n",
    "### SUMMARY\n",
    "\n",
    "Codeup Data Science Team has requested a further exploration & understanding into Churn in the Telco Data set.\n",
    "\n",
    "They have requested that we find drivers for customer churn at Telco. Why are customers churning?\n",
    "\n",
    "1) what are the main drivers of churn?\n",
    "\n",
    "2) follow the bread crums that drive churn and make visuals?\n",
    "\n",
    "3) what services have the highest churn levels?\n",
    "\n",
    "### GOALS\n",
    "\n",
    "Project goals:\n",
    "\n",
    "1) Identify Churn drivers \n",
    "\n",
    "2) Creating a detailed Readme.md file to guide the reader into a further analysis of the data.\n",
    "\n",
    "3) a CSV file that predicts churn.\n",
    "\n",
    "4) .py files that go into detail with how the data was prepared and cut."
   ]
  },
  {
   "cell_type": "markdown",
   "id": "fc981f24",
   "metadata": {},
   "source": [
    "# ---------------------------------------------------------------------------------------------"
   ]
  },
  {
   "cell_type": "markdown",
   "id": "ac766439",
   "metadata": {},
   "source": [
    "### ACQUIRE"
   ]
  },
  {
   "cell_type": "code",
   "execution_count": 2,
   "id": "5073352d",
   "metadata": {},
   "outputs": [
    {
     "data": {
      "text/html": [
       "<div>\n",
       "<style scoped>\n",
       "    .dataframe tbody tr th:only-of-type {\n",
       "        vertical-align: middle;\n",
       "    }\n",
       "\n",
       "    .dataframe tbody tr th {\n",
       "        vertical-align: top;\n",
       "    }\n",
       "\n",
       "    .dataframe thead th {\n",
       "        text-align: right;\n",
       "    }\n",
       "</style>\n",
       "<table border=\"1\" class=\"dataframe\">\n",
       "  <thead>\n",
       "    <tr style=\"text-align: right;\">\n",
       "      <th></th>\n",
       "      <th>internet_service_type_id</th>\n",
       "      <th>payment_type_id</th>\n",
       "      <th>contract_type_id</th>\n",
       "      <th>customer_id</th>\n",
       "      <th>gender</th>\n",
       "      <th>senior_citizen</th>\n",
       "      <th>partner</th>\n",
       "      <th>dependents</th>\n",
       "      <th>tenure</th>\n",
       "      <th>phone_service</th>\n",
       "      <th>...</th>\n",
       "      <th>tech_support</th>\n",
       "      <th>streaming_tv</th>\n",
       "      <th>streaming_movies</th>\n",
       "      <th>paperless_billing</th>\n",
       "      <th>monthly_charges</th>\n",
       "      <th>total_charges</th>\n",
       "      <th>churn</th>\n",
       "      <th>contract_type</th>\n",
       "      <th>payment_type</th>\n",
       "      <th>internet_service_type</th>\n",
       "    </tr>\n",
       "  </thead>\n",
       "  <tbody>\n",
       "    <tr>\n",
       "      <th>0</th>\n",
       "      <td>1</td>\n",
       "      <td>2</td>\n",
       "      <td>2</td>\n",
       "      <td>0002-ORFBO</td>\n",
       "      <td>Female</td>\n",
       "      <td>0</td>\n",
       "      <td>Yes</td>\n",
       "      <td>Yes</td>\n",
       "      <td>9</td>\n",
       "      <td>Yes</td>\n",
       "      <td>...</td>\n",
       "      <td>Yes</td>\n",
       "      <td>Yes</td>\n",
       "      <td>No</td>\n",
       "      <td>Yes</td>\n",
       "      <td>65.6</td>\n",
       "      <td>593.3</td>\n",
       "      <td>No</td>\n",
       "      <td>One year</td>\n",
       "      <td>Mailed check</td>\n",
       "      <td>DSL</td>\n",
       "    </tr>\n",
       "    <tr>\n",
       "      <th>1</th>\n",
       "      <td>1</td>\n",
       "      <td>2</td>\n",
       "      <td>1</td>\n",
       "      <td>0003-MKNFE</td>\n",
       "      <td>Male</td>\n",
       "      <td>0</td>\n",
       "      <td>No</td>\n",
       "      <td>No</td>\n",
       "      <td>9</td>\n",
       "      <td>Yes</td>\n",
       "      <td>...</td>\n",
       "      <td>No</td>\n",
       "      <td>No</td>\n",
       "      <td>Yes</td>\n",
       "      <td>No</td>\n",
       "      <td>59.9</td>\n",
       "      <td>542.4</td>\n",
       "      <td>No</td>\n",
       "      <td>Month-to-month</td>\n",
       "      <td>Mailed check</td>\n",
       "      <td>DSL</td>\n",
       "    </tr>\n",
       "    <tr>\n",
       "      <th>2</th>\n",
       "      <td>2</td>\n",
       "      <td>1</td>\n",
       "      <td>1</td>\n",
       "      <td>0004-TLHLJ</td>\n",
       "      <td>Male</td>\n",
       "      <td>0</td>\n",
       "      <td>No</td>\n",
       "      <td>No</td>\n",
       "      <td>4</td>\n",
       "      <td>Yes</td>\n",
       "      <td>...</td>\n",
       "      <td>No</td>\n",
       "      <td>No</td>\n",
       "      <td>No</td>\n",
       "      <td>Yes</td>\n",
       "      <td>73.9</td>\n",
       "      <td>280.85</td>\n",
       "      <td>Yes</td>\n",
       "      <td>Month-to-month</td>\n",
       "      <td>Electronic check</td>\n",
       "      <td>Fiber optic</td>\n",
       "    </tr>\n",
       "    <tr>\n",
       "      <th>3</th>\n",
       "      <td>2</td>\n",
       "      <td>1</td>\n",
       "      <td>1</td>\n",
       "      <td>0011-IGKFF</td>\n",
       "      <td>Male</td>\n",
       "      <td>1</td>\n",
       "      <td>Yes</td>\n",
       "      <td>No</td>\n",
       "      <td>13</td>\n",
       "      <td>Yes</td>\n",
       "      <td>...</td>\n",
       "      <td>No</td>\n",
       "      <td>Yes</td>\n",
       "      <td>Yes</td>\n",
       "      <td>Yes</td>\n",
       "      <td>98.0</td>\n",
       "      <td>1237.85</td>\n",
       "      <td>Yes</td>\n",
       "      <td>Month-to-month</td>\n",
       "      <td>Electronic check</td>\n",
       "      <td>Fiber optic</td>\n",
       "    </tr>\n",
       "    <tr>\n",
       "      <th>4</th>\n",
       "      <td>2</td>\n",
       "      <td>2</td>\n",
       "      <td>1</td>\n",
       "      <td>0013-EXCHZ</td>\n",
       "      <td>Female</td>\n",
       "      <td>1</td>\n",
       "      <td>Yes</td>\n",
       "      <td>No</td>\n",
       "      <td>3</td>\n",
       "      <td>Yes</td>\n",
       "      <td>...</td>\n",
       "      <td>Yes</td>\n",
       "      <td>Yes</td>\n",
       "      <td>No</td>\n",
       "      <td>Yes</td>\n",
       "      <td>83.9</td>\n",
       "      <td>267.4</td>\n",
       "      <td>Yes</td>\n",
       "      <td>Month-to-month</td>\n",
       "      <td>Mailed check</td>\n",
       "      <td>Fiber optic</td>\n",
       "    </tr>\n",
       "  </tbody>\n",
       "</table>\n",
       "<p>5 rows × 24 columns</p>\n",
       "</div>"
      ],
      "text/plain": [
       "   internet_service_type_id  payment_type_id  contract_type_id customer_id  \\\n",
       "0                         1                2                 2  0002-ORFBO   \n",
       "1                         1                2                 1  0003-MKNFE   \n",
       "2                         2                1                 1  0004-TLHLJ   \n",
       "3                         2                1                 1  0011-IGKFF   \n",
       "4                         2                2                 1  0013-EXCHZ   \n",
       "\n",
       "   gender  senior_citizen partner dependents  tenure phone_service  ...  \\\n",
       "0  Female               0     Yes        Yes       9           Yes  ...   \n",
       "1    Male               0      No         No       9           Yes  ...   \n",
       "2    Male               0      No         No       4           Yes  ...   \n",
       "3    Male               1     Yes         No      13           Yes  ...   \n",
       "4  Female               1     Yes         No       3           Yes  ...   \n",
       "\n",
       "  tech_support streaming_tv streaming_movies paperless_billing  \\\n",
       "0          Yes          Yes               No               Yes   \n",
       "1           No           No              Yes                No   \n",
       "2           No           No               No               Yes   \n",
       "3           No          Yes              Yes               Yes   \n",
       "4          Yes          Yes               No               Yes   \n",
       "\n",
       "  monthly_charges total_charges churn   contract_type      payment_type  \\\n",
       "0            65.6         593.3    No        One year      Mailed check   \n",
       "1            59.9         542.4    No  Month-to-month      Mailed check   \n",
       "2            73.9        280.85   Yes  Month-to-month  Electronic check   \n",
       "3            98.0       1237.85   Yes  Month-to-month  Electronic check   \n",
       "4            83.9         267.4   Yes  Month-to-month      Mailed check   \n",
       "\n",
       "  internet_service_type  \n",
       "0                   DSL  \n",
       "1                   DSL  \n",
       "2           Fiber optic  \n",
       "3           Fiber optic  \n",
       "4           Fiber optic  \n",
       "\n",
       "[5 rows x 24 columns]"
      ]
     },
     "execution_count": 2,
     "metadata": {},
     "output_type": "execute_result"
    }
   ],
   "source": [
    "df = get_telco_data()\n",
    "df.head()"
   ]
  },
  {
   "cell_type": "code",
   "execution_count": 3,
   "id": "aea2435e",
   "metadata": {},
   "outputs": [
    {
     "data": {
      "text/html": [
       "<div>\n",
       "<style scoped>\n",
       "    .dataframe tbody tr th:only-of-type {\n",
       "        vertical-align: middle;\n",
       "    }\n",
       "\n",
       "    .dataframe tbody tr th {\n",
       "        vertical-align: top;\n",
       "    }\n",
       "\n",
       "    .dataframe thead th {\n",
       "        text-align: right;\n",
       "    }\n",
       "</style>\n",
       "<table border=\"1\" class=\"dataframe\">\n",
       "  <thead>\n",
       "    <tr style=\"text-align: right;\">\n",
       "      <th></th>\n",
       "      <th>internet_service_type_id</th>\n",
       "      <th>payment_type_id</th>\n",
       "      <th>contract_type_id</th>\n",
       "      <th>customer_id</th>\n",
       "      <th>gender</th>\n",
       "      <th>senior_citizen</th>\n",
       "      <th>dependents</th>\n",
       "      <th>tenure</th>\n",
       "      <th>multiple_lines</th>\n",
       "      <th>tech_support</th>\n",
       "      <th>...</th>\n",
       "      <th>total_charges</th>\n",
       "      <th>churn</th>\n",
       "      <th>gender_Male</th>\n",
       "      <th>dependents_Yes</th>\n",
       "      <th>multiple_lines_No phone service</th>\n",
       "      <th>multiple_lines_Yes</th>\n",
       "      <th>tech_support_No internet service</th>\n",
       "      <th>tech_support_Yes</th>\n",
       "      <th>paperless_billing_Yes</th>\n",
       "      <th>churn_Yes</th>\n",
       "    </tr>\n",
       "  </thead>\n",
       "  <tbody>\n",
       "    <tr>\n",
       "      <th>5919</th>\n",
       "      <td>1</td>\n",
       "      <td>4</td>\n",
       "      <td>2</td>\n",
       "      <td>8331-ZXFOE</td>\n",
       "      <td>Female</td>\n",
       "      <td>0</td>\n",
       "      <td>No</td>\n",
       "      <td>58</td>\n",
       "      <td>Yes</td>\n",
       "      <td>Yes</td>\n",
       "      <td>...</td>\n",
       "      <td>4299.20</td>\n",
       "      <td>No</td>\n",
       "      <td>0</td>\n",
       "      <td>0</td>\n",
       "      <td>0</td>\n",
       "      <td>1</td>\n",
       "      <td>0</td>\n",
       "      <td>1</td>\n",
       "      <td>1</td>\n",
       "      <td>0</td>\n",
       "    </tr>\n",
       "    <tr>\n",
       "      <th>1915</th>\n",
       "      <td>2</td>\n",
       "      <td>4</td>\n",
       "      <td>2</td>\n",
       "      <td>2790-XUYMV</td>\n",
       "      <td>Male</td>\n",
       "      <td>0</td>\n",
       "      <td>Yes</td>\n",
       "      <td>71</td>\n",
       "      <td>Yes</td>\n",
       "      <td>No</td>\n",
       "      <td>...</td>\n",
       "      <td>6028.95</td>\n",
       "      <td>No</td>\n",
       "      <td>1</td>\n",
       "      <td>1</td>\n",
       "      <td>0</td>\n",
       "      <td>1</td>\n",
       "      <td>0</td>\n",
       "      <td>0</td>\n",
       "      <td>1</td>\n",
       "      <td>0</td>\n",
       "    </tr>\n",
       "    <tr>\n",
       "      <th>5054</th>\n",
       "      <td>3</td>\n",
       "      <td>1</td>\n",
       "      <td>1</td>\n",
       "      <td>7107-UBYKY</td>\n",
       "      <td>Female</td>\n",
       "      <td>0</td>\n",
       "      <td>Yes</td>\n",
       "      <td>35</td>\n",
       "      <td>Yes</td>\n",
       "      <td>No internet service</td>\n",
       "      <td>...</td>\n",
       "      <td>882.55</td>\n",
       "      <td>No</td>\n",
       "      <td>0</td>\n",
       "      <td>1</td>\n",
       "      <td>0</td>\n",
       "      <td>1</td>\n",
       "      <td>1</td>\n",
       "      <td>0</td>\n",
       "      <td>1</td>\n",
       "      <td>0</td>\n",
       "    </tr>\n",
       "    <tr>\n",
       "      <th>2355</th>\n",
       "      <td>3</td>\n",
       "      <td>2</td>\n",
       "      <td>1</td>\n",
       "      <td>3373-YZZYM</td>\n",
       "      <td>Male</td>\n",
       "      <td>0</td>\n",
       "      <td>Yes</td>\n",
       "      <td>1</td>\n",
       "      <td>No</td>\n",
       "      <td>No internet service</td>\n",
       "      <td>...</td>\n",
       "      <td>19.20</td>\n",
       "      <td>No</td>\n",
       "      <td>1</td>\n",
       "      <td>1</td>\n",
       "      <td>0</td>\n",
       "      <td>0</td>\n",
       "      <td>1</td>\n",
       "      <td>0</td>\n",
       "      <td>0</td>\n",
       "      <td>0</td>\n",
       "    </tr>\n",
       "    <tr>\n",
       "      <th>6279</th>\n",
       "      <td>1</td>\n",
       "      <td>2</td>\n",
       "      <td>2</td>\n",
       "      <td>8883-GRDWQ</td>\n",
       "      <td>Male</td>\n",
       "      <td>1</td>\n",
       "      <td>No</td>\n",
       "      <td>20</td>\n",
       "      <td>No</td>\n",
       "      <td>Yes</td>\n",
       "      <td>...</td>\n",
       "      <td>1055.90</td>\n",
       "      <td>No</td>\n",
       "      <td>1</td>\n",
       "      <td>0</td>\n",
       "      <td>0</td>\n",
       "      <td>0</td>\n",
       "      <td>0</td>\n",
       "      <td>1</td>\n",
       "      <td>0</td>\n",
       "      <td>0</td>\n",
       "    </tr>\n",
       "    <tr>\n",
       "      <th>...</th>\n",
       "      <td>...</td>\n",
       "      <td>...</td>\n",
       "      <td>...</td>\n",
       "      <td>...</td>\n",
       "      <td>...</td>\n",
       "      <td>...</td>\n",
       "      <td>...</td>\n",
       "      <td>...</td>\n",
       "      <td>...</td>\n",
       "      <td>...</td>\n",
       "      <td>...</td>\n",
       "      <td>...</td>\n",
       "      <td>...</td>\n",
       "      <td>...</td>\n",
       "      <td>...</td>\n",
       "      <td>...</td>\n",
       "      <td>...</td>\n",
       "      <td>...</td>\n",
       "      <td>...</td>\n",
       "      <td>...</td>\n",
       "      <td>...</td>\n",
       "    </tr>\n",
       "    <tr>\n",
       "      <th>394</th>\n",
       "      <td>2</td>\n",
       "      <td>4</td>\n",
       "      <td>1</td>\n",
       "      <td>0581-MDMPW</td>\n",
       "      <td>Female</td>\n",
       "      <td>0</td>\n",
       "      <td>No</td>\n",
       "      <td>24</td>\n",
       "      <td>Yes</td>\n",
       "      <td>No</td>\n",
       "      <td>...</td>\n",
       "      <td>2072.75</td>\n",
       "      <td>No</td>\n",
       "      <td>0</td>\n",
       "      <td>0</td>\n",
       "      <td>0</td>\n",
       "      <td>1</td>\n",
       "      <td>0</td>\n",
       "      <td>0</td>\n",
       "      <td>1</td>\n",
       "      <td>0</td>\n",
       "    </tr>\n",
       "    <tr>\n",
       "      <th>3763</th>\n",
       "      <td>2</td>\n",
       "      <td>1</td>\n",
       "      <td>1</td>\n",
       "      <td>5299-RULOA</td>\n",
       "      <td>Female</td>\n",
       "      <td>0</td>\n",
       "      <td>Yes</td>\n",
       "      <td>10</td>\n",
       "      <td>Yes</td>\n",
       "      <td>No</td>\n",
       "      <td>...</td>\n",
       "      <td>1064.65</td>\n",
       "      <td>Yes</td>\n",
       "      <td>0</td>\n",
       "      <td>1</td>\n",
       "      <td>0</td>\n",
       "      <td>1</td>\n",
       "      <td>0</td>\n",
       "      <td>0</td>\n",
       "      <td>1</td>\n",
       "      <td>1</td>\n",
       "    </tr>\n",
       "    <tr>\n",
       "      <th>3444</th>\n",
       "      <td>3</td>\n",
       "      <td>4</td>\n",
       "      <td>3</td>\n",
       "      <td>4883-KCPZJ</td>\n",
       "      <td>Female</td>\n",
       "      <td>0</td>\n",
       "      <td>Yes</td>\n",
       "      <td>22</td>\n",
       "      <td>Yes</td>\n",
       "      <td>No internet service</td>\n",
       "      <td>...</td>\n",
       "      <td>555.40</td>\n",
       "      <td>No</td>\n",
       "      <td>0</td>\n",
       "      <td>1</td>\n",
       "      <td>0</td>\n",
       "      <td>1</td>\n",
       "      <td>1</td>\n",
       "      <td>0</td>\n",
       "      <td>0</td>\n",
       "      <td>0</td>\n",
       "    </tr>\n",
       "    <tr>\n",
       "      <th>1002</th>\n",
       "      <td>2</td>\n",
       "      <td>4</td>\n",
       "      <td>1</td>\n",
       "      <td>1452-KIOVK</td>\n",
       "      <td>Male</td>\n",
       "      <td>0</td>\n",
       "      <td>Yes</td>\n",
       "      <td>22</td>\n",
       "      <td>Yes</td>\n",
       "      <td>No</td>\n",
       "      <td>...</td>\n",
       "      <td>1949.40</td>\n",
       "      <td>No</td>\n",
       "      <td>1</td>\n",
       "      <td>1</td>\n",
       "      <td>0</td>\n",
       "      <td>1</td>\n",
       "      <td>0</td>\n",
       "      <td>0</td>\n",
       "      <td>1</td>\n",
       "      <td>0</td>\n",
       "    </tr>\n",
       "    <tr>\n",
       "      <th>4192</th>\n",
       "      <td>3</td>\n",
       "      <td>2</td>\n",
       "      <td>1</td>\n",
       "      <td>5919-VCZYM</td>\n",
       "      <td>Male</td>\n",
       "      <td>0</td>\n",
       "      <td>No</td>\n",
       "      <td>2</td>\n",
       "      <td>No</td>\n",
       "      <td>No internet service</td>\n",
       "      <td>...</td>\n",
       "      <td>42.70</td>\n",
       "      <td>No</td>\n",
       "      <td>1</td>\n",
       "      <td>0</td>\n",
       "      <td>0</td>\n",
       "      <td>0</td>\n",
       "      <td>1</td>\n",
       "      <td>0</td>\n",
       "      <td>0</td>\n",
       "      <td>0</td>\n",
       "    </tr>\n",
       "  </tbody>\n",
       "</table>\n",
       "<p>3937 rows × 22 columns</p>\n",
       "</div>"
      ],
      "text/plain": [
       "      internet_service_type_id  payment_type_id  contract_type_id customer_id  \\\n",
       "5919                         1                4                 2  8331-ZXFOE   \n",
       "1915                         2                4                 2  2790-XUYMV   \n",
       "5054                         3                1                 1  7107-UBYKY   \n",
       "2355                         3                2                 1  3373-YZZYM   \n",
       "6279                         1                2                 2  8883-GRDWQ   \n",
       "...                        ...              ...               ...         ...   \n",
       "394                          2                4                 1  0581-MDMPW   \n",
       "3763                         2                1                 1  5299-RULOA   \n",
       "3444                         3                4                 3  4883-KCPZJ   \n",
       "1002                         2                4                 1  1452-KIOVK   \n",
       "4192                         3                2                 1  5919-VCZYM   \n",
       "\n",
       "      gender  senior_citizen dependents  tenure multiple_lines  \\\n",
       "5919  Female               0         No      58            Yes   \n",
       "1915    Male               0        Yes      71            Yes   \n",
       "5054  Female               0        Yes      35            Yes   \n",
       "2355    Male               0        Yes       1             No   \n",
       "6279    Male               1         No      20             No   \n",
       "...      ...             ...        ...     ...            ...   \n",
       "394   Female               0         No      24            Yes   \n",
       "3763  Female               0        Yes      10            Yes   \n",
       "3444  Female               0        Yes      22            Yes   \n",
       "1002    Male               0        Yes      22            Yes   \n",
       "4192    Male               0         No       2             No   \n",
       "\n",
       "             tech_support  ... total_charges  churn  gender_Male  \\\n",
       "5919                  Yes  ...       4299.20     No            0   \n",
       "1915                   No  ...       6028.95     No            1   \n",
       "5054  No internet service  ...        882.55     No            0   \n",
       "2355  No internet service  ...         19.20     No            1   \n",
       "6279                  Yes  ...       1055.90     No            1   \n",
       "...                   ...  ...           ...    ...          ...   \n",
       "394                    No  ...       2072.75     No            0   \n",
       "3763                   No  ...       1064.65    Yes            0   \n",
       "3444  No internet service  ...        555.40     No            0   \n",
       "1002                   No  ...       1949.40     No            1   \n",
       "4192  No internet service  ...         42.70     No            1   \n",
       "\n",
       "     dependents_Yes  multiple_lines_No phone service  multiple_lines_Yes  \\\n",
       "5919              0                                0                   1   \n",
       "1915              1                                0                   1   \n",
       "5054              1                                0                   1   \n",
       "2355              1                                0                   0   \n",
       "6279              0                                0                   0   \n",
       "...             ...                              ...                 ...   \n",
       "394               0                                0                   1   \n",
       "3763              1                                0                   1   \n",
       "3444              1                                0                   1   \n",
       "1002              1                                0                   1   \n",
       "4192              0                                0                   0   \n",
       "\n",
       "      tech_support_No internet service  tech_support_Yes  \\\n",
       "5919                                 0                 1   \n",
       "1915                                 0                 0   \n",
       "5054                                 1                 0   \n",
       "2355                                 1                 0   \n",
       "6279                                 0                 1   \n",
       "...                                ...               ...   \n",
       "394                                  0                 0   \n",
       "3763                                 0                 0   \n",
       "3444                                 1                 0   \n",
       "1002                                 0                 0   \n",
       "4192                                 1                 0   \n",
       "\n",
       "      paperless_billing_Yes  churn_Yes  \n",
       "5919                      1          0  \n",
       "1915                      1          0  \n",
       "5054                      1          0  \n",
       "2355                      0          0  \n",
       "6279                      0          0  \n",
       "...                     ...        ...  \n",
       "394                       1          0  \n",
       "3763                      1          1  \n",
       "3444                      0          0  \n",
       "1002                      1          0  \n",
       "4192                      0          0  \n",
       "\n",
       "[3937 rows x 22 columns]"
      ]
     },
     "execution_count": 3,
     "metadata": {},
     "output_type": "execute_result"
    }
   ],
   "source": [
    "train, validate, test = prep_telco(df)\n",
    "train"
   ]
  },
  {
   "cell_type": "markdown",
   "id": "4d23123f",
   "metadata": {},
   "source": [
    "# ---------------------------------------------------------------------------------------------"
   ]
  },
  {
   "cell_type": "markdown",
   "id": "d99392e1",
   "metadata": {},
   "source": [
    "# Prepare\n",
    "\n",
    "## Preparing data\n",
    "\n",
    "#### Using functions from prepare.py\n",
    "\n",
    "- we have removed the null values \n",
    "- replaced yes and no values with 1 and 0 for the data to be processed and analized correctly \n",
    "- data from internet, service and payment type have been transformed and defined below\n",
    "- data has also been split for testing and statistical predcitions "
   ]
  },
  {
   "cell_type": "markdown",
   "id": "49b5bf28",
   "metadata": {},
   "source": [
    "### Gender to gender_Male: 1 = Male, 0 = Female"
   ]
  },
  {
   "cell_type": "markdown",
   "id": "f81d211c",
   "metadata": {},
   "source": [
    "### Churn to churn_Yes:  1 = has churn, 0 = no churn"
   ]
  },
  {
   "cell_type": "markdown",
   "id": "a4d82048",
   "metadata": {},
   "source": [
    "### Internet Service type: 1 = DSL, 2 = Fiber optic, 3 = None "
   ]
  },
  {
   "cell_type": "markdown",
   "id": "3a97887d",
   "metadata": {},
   "source": [
    "### Contract type: 1 = Month-to-month, 2 = One year, 3 = Two year"
   ]
  },
  {
   "cell_type": "markdown",
   "id": "6c7335db",
   "metadata": {},
   "source": [
    "### Payment Type: 1 = Electronic check, 2 = Mailed check, 3 = Bank transfer (automatic), 4 = Credit card (automatic)"
   ]
  },
  {
   "cell_type": "markdown",
   "id": "c22609cb",
   "metadata": {},
   "source": [
    "### Senior citizen: 0 = Not a senior citizen 1 = is a senior citizen"
   ]
  },
  {
   "cell_type": "code",
   "execution_count": 10,
   "id": "7341e6b1",
   "metadata": {},
   "outputs": [],
   "source": [
    "train = train.drop(columns= ['customer_id','dependents','gender','multiple_lines','tech_support','paperless_billing'])\n",
    "\n",
    "train = train.replace({'Yes':1, 'No':0})\n",
    "\n",
    "validate = validate.drop(columns= ['customer_id','dependents','gender','multiple_lines','tech_support','paperless_billing',])\n",
    "\n",
    "validate = validate.replace({'Yes':1, 'No':0})\n",
    "\n",
    "test = test.drop(columns= ['customer_id','dependents','gender','multiple_lines','tech_support','paperless_billing',])\n",
    "\n",
    "test = test.replace({'Yes':1, 'No':0})"
   ]
  },
  {
   "cell_type": "code",
   "execution_count": 11,
   "id": "a45b787e",
   "metadata": {},
   "outputs": [],
   "source": [
    "\n",
    "# create X & y version of train, where y is a series with just the target variable and X are all the features. \n",
    "\n",
    "X_train = train.drop(columns=['churn','churn_Yes'])\n",
    "y_train = train.churn_Yes\n",
    "\n",
    "X_validate = validate.drop(columns=['churn','churn_Yes'])\n",
    "y_validate = validate.churn_Yes\n",
    "\n",
    "X_test = test.drop(columns=['churn','churn_Yes'])\n",
    "y_test = test.churn_Yes"
   ]
  },
  {
   "cell_type": "markdown",
   "id": "a3819122",
   "metadata": {},
   "source": [
    "# ---------------------------------------------------------------------------------------------"
   ]
  },
  {
   "cell_type": "markdown",
   "id": "0e8d8599",
   "metadata": {},
   "source": [
    "# Data Exploration"
   ]
  },
  {
   "cell_type": "code",
   "execution_count": 12,
   "id": "234f7653",
   "metadata": {},
   "outputs": [
    {
     "data": {
      "text/plain": [
       "0    2891\n",
       "1    1046\n",
       "Name: churn_Yes, dtype: int64"
      ]
     },
     "execution_count": 12,
     "metadata": {},
     "output_type": "execute_result"
    }
   ],
   "source": [
    "train.churn_Yes.value_counts()"
   ]
  },
  {
   "cell_type": "code",
   "execution_count": 51,
   "id": "32d0553c",
   "metadata": {},
   "outputs": [
    {
     "data": {
      "image/png": "[encoded data removed]",
      "text/plain": [
       "<Figure size 432x288 with 1 Axes>"
      ]
     },
     "metadata": {
      "needs_background": "light"
     },
     "output_type": "display_data"
    }
   ],
   "source": [
    "plt.title(\"Customer churning\")\n",
    "train.churn_Yes.hist()\n",
    "plt.show()"
   ]
  },
  {
   "cell_type": "markdown",
   "id": "104ad270",
   "metadata": {},
   "source": [
    "### Take away: 2891 customers stayed and 1046 have left this month, resulting in 26.5% churn"
   ]
  },
  {
   "cell_type": "markdown",
   "id": "5d5cb41e",
   "metadata": {},
   "source": [
    "# ---------------------------------------------------------------------------------------------"
   ]
  },
  {
   "cell_type": "code",
   "execution_count": 15,
   "id": "36e6bbf4",
   "metadata": {},
   "outputs": [
    {
     "data": {
      "image/png": "[encoded data removed]",
      "text/plain": [
       "<Figure size 432x288 with 1 Axes>"
      ]
     },
     "metadata": {
      "needs_background": "light"
     },
     "output_type": "display_data"
    }
   ],
   "source": [
    "plt.title(\"Churn by Contract types\")\n",
    "sns.barplot(x=\"contract_type_id\", y=\"churn_Yes\", data=train)\n",
    "churn_rate = train.churn.mean()\n",
    "plt.legend([\"1 = Month-to-month\",\"2 = One year\",\"3 = Two year\"])\n",
    "plt.annotate\n",
    "plt.show()"
   ]
  },
  {
   "cell_type": "markdown",
   "id": "dcd4a01d",
   "metadata": {},
   "source": [
    "- **Take away: Month to month seems to have large churn rates**"
   ]
  },
  {
   "cell_type": "code",
   "execution_count": 16,
   "id": "79b5ce29",
   "metadata": {},
   "outputs": [
    {
     "data": {
      "image/png": "[encoded data removed]",
      "text/plain": [
       "<Figure size 432x288 with 1 Axes>"
      ]
     },
     "metadata": {
      "needs_background": "light"
     },
     "output_type": "display_data"
    }
   ],
   "source": [
    "plt.title(\"Churn by Contract types\")\n",
    "sns.barplot(x=\"payment_type_id\", y=\"churn_Yes\", data=train)\n",
    "churn_rate = train.churn.mean()\n",
    "plt.legend([\"1 = Electronic check\", \"2 = Mailed check\", \"3 = Bank transfer\", \"4 = Credit card\"])\n",
    "plt.show()"
   ]
  },
  {
   "cell_type": "markdown",
   "id": "890f4e1b",
   "metadata": {},
   "source": [
    "- **Take away: Electronic check has the highest churn rates out of the 4 contract types**"
   ]
  },
  {
   "cell_type": "code",
   "execution_count": 17,
   "id": "a963828b",
   "metadata": {},
   "outputs": [
    {
     "data": {
      "image/png": "[encoded data removed]",
      "text/plain": [
       "<Figure size 432x288 with 1 Axes>"
      ]
     },
     "metadata": {
      "needs_background": "light"
     },
     "output_type": "display_data"
    }
   ],
   "source": [
    "plt.title(\"Churn & Contract types\")\n",
    "sns.barplot(x=\"internet_service_type_id\", y=\"churn_Yes\", data=train)\n",
    "churn_rate = train.churn.mean()\n",
    "plt.legend([\"1 = DSL\", \"2 = Fiber optic\", \"3 = None\"])\n",
    "plt.show()"
   ]
  },
  {
   "cell_type": "markdown",
   "id": "ce0d88c5",
   "metadata": {},
   "source": [
    "- **Take away: Fiber optic has a high churn rate.**"
   ]
  },
  {
   "cell_type": "code",
   "execution_count": 18,
   "id": "02ae39d9",
   "metadata": {},
   "outputs": [
    {
     "data": {
      "image/png": "[encoded data removed]",
      "text/plain": [
       "<Figure size 432x288 with 1 Axes>"
      ]
     },
     "metadata": {
      "needs_background": "light"
     },
     "output_type": "display_data"
    }
   ],
   "source": [
    "plt.title(\"Churn & senior citizens\")\n",
    "sns.barplot(x=\"senior_citizen\", y=\"churn_Yes\", data=train)\n",
    "churn_rate = train.churn.mean()\n",
    "plt.legend([\"0 = senior citizen\", \"1 = nit a senior citizen\"])\n",
    "plt.show()"
   ]
  },
  {
   "cell_type": "markdown",
   "id": "15b53deb",
   "metadata": {},
   "source": [
    "- **senior citizens have a high churn rate**"
   ]
  },
  {
   "cell_type": "code",
   "execution_count": 19,
   "id": "888c0d3f",
   "metadata": {},
   "outputs": [
    {
     "data": {
      "image/png": "[encoded data removed]",
      "text/plain": [
       "<Figure size 432x288 with 1 Axes>"
      ]
     },
     "metadata": {
      "needs_background": "light"
     },
     "output_type": "display_data"
    }
   ],
   "source": [
    "plt.title(\"Churn & gender\")\n",
    "sns.barplot(x=\"gender_Male\", y=\"churn_Yes\", data=train)\n",
    "churn_rate = train.churn.mean()\n",
    "plt.legend([\"0 = female\", \"1 = Male\"])\n",
    "plt.show()"
   ]
  },
  {
   "cell_type": "markdown",
   "id": "4e905c9e",
   "metadata": {},
   "source": [
    "- **there is no correlation between gender and churn**"
   ]
  },
  {
   "cell_type": "code",
   "execution_count": 20,
   "id": "a961597a",
   "metadata": {},
   "outputs": [
    {
     "data": {
      "image/png": "[encoded data removed]",
      "text/plain": [
       "<Figure size 432x288 with 1 Axes>"
      ]
     },
     "metadata": {
      "needs_background": "light"
     },
     "output_type": "display_data"
    }
   ],
   "source": [
    "plt.title(\"Churn & paperless billing\")\n",
    "sns.barplot(x=\"paperless_billing_Yes\", y=\"churn_Yes\", data=train)\n",
    "churn_rate = train.churn.mean()\n",
    "plt.legend([\"0 = No\", \"1 = Yes\"])\n",
    "plt.show()"
   ]
  },
  {
   "cell_type": "markdown",
   "id": "22111e56",
   "metadata": {},
   "source": [
    "- **paperless billing has a correlation with churn**"
   ]
  },
  {
   "cell_type": "markdown",
   "id": "54c58ff8",
   "metadata": {},
   "source": [
    "## Data exploration summary & Take aways \n",
    "\n",
    "#### - Customers churning is 1046/3937 = % 26.5 of customers\n",
    "#### - Month to month seems to have large churn rates\n",
    "#### - Electronic check has the highest churn rates out of the 4 contract types\n",
    "#### - Fiber optic has a high churn rate\n",
    "#### - paperless billing has a high churn value\n",
    "\n",
    "\n",
    "\n"
   ]
  },
  {
   "cell_type": "markdown",
   "id": "5400bdb4",
   "metadata": {},
   "source": [
    "# ---------------------------------------------------------------------------------------------"
   ]
  },
  {
   "cell_type": "markdown",
   "id": "fe1bcc26",
   "metadata": {},
   "source": [
    "## Hypothesis Testing and Analysis"
   ]
  },
  {
   "cell_type": "code",
   "execution_count": 21,
   "id": "f44e51fb",
   "metadata": {},
   "outputs": [],
   "source": [
    "alpha = 0.05"
   ]
  },
  {
   "cell_type": "markdown",
   "id": "b7ff89f4",
   "metadata": {},
   "source": [
    "### Contract Types\n",
    "- ${h_o}$ = Contract types and churn are independent of eachother\n",
    "- ${h_a}$ = There is a relationship between Contract types and churn"
   ]
  },
  {
   "cell_type": "code",
   "execution_count": 22,
   "id": "d33b85a4",
   "metadata": {},
   "outputs": [
    {
     "name": "stdout",
     "output_type": "stream",
     "text": [
      "Reject the null hypothesis that Contract types and churn are independent of eachother\n",
      "Sufficient evidence to move forward understanding that There is a relationship between Contract types and churn\n"
     ]
    },
    {
     "data": {
      "text/plain": [
       "4.693667062132269e-145"
      ]
     },
     "execution_count": 22,
     "metadata": {},
     "output_type": "execute_result"
    }
   ],
   "source": [
    "null_hypothesis = \"Contract types and churn are independent of eachother\"\n",
    "alternative_hypothesis = \"There is a relationship between Contract types and churn\"\n",
    "observed = pd.crosstab(train.churn_Yes, train.contract_type_id)\n",
    "\n",
    "chi2, p, degf, expected = stats.chi2_contingency(observed)\n",
    "\n",
    "if p < alpha:\n",
    "    print(\"Reject the null hypothesis that\", null_hypothesis)\n",
    "    print(\"Sufficient evidence to move forward understanding that\", alternative_hypothesis)\n",
    "else:\n",
    "    print(\"Fail to reject the null\")\n",
    "    print(\"Insufficient evidence to reject the null\")\n",
    "p"
   ]
  },
  {
   "cell_type": "markdown",
   "id": "435ee912",
   "metadata": {},
   "source": [
    "----------------------------------------------------------------------------------------------------------------------"
   ]
  },
  {
   "cell_type": "markdown",
   "id": "4a522d6e",
   "metadata": {},
   "source": [
    "### Payment types\n",
    "- ${h_o}$ = Payment types and churn are independent of eachother\n",
    "- ${h_a}$ = There is a relationship between Payment types and churn"
   ]
  },
  {
   "cell_type": "code",
   "execution_count": 23,
   "id": "58aea412",
   "metadata": {},
   "outputs": [
    {
     "name": "stdout",
     "output_type": "stream",
     "text": [
      "Reject the null hypothesis that Payment types and churn are independent of eachother\n",
      "Sufficient evidence to move forward understanding that There is a relationship between Payment types and churn\n"
     ]
    },
    {
     "data": {
      "text/plain": [
       "4.64358817076333e-73"
      ]
     },
     "execution_count": 23,
     "metadata": {},
     "output_type": "execute_result"
    }
   ],
   "source": [
    "null_hypothesis = \"Payment types and churn are independent of eachother\"\n",
    "alternative_hypothesis = \"There is a relationship between Payment types and churn\"\n",
    "observed = pd.crosstab(train.churn_Yes, train.payment_type_id)\n",
    "\n",
    "chi2, p, degf, expected = stats.chi2_contingency(observed)\n",
    "\n",
    "if p < alpha:\n",
    "    print(\"Reject the null hypothesis that\", null_hypothesis)\n",
    "    print(\"Sufficient evidence to move forward understanding that\", alternative_hypothesis)\n",
    "else:\n",
    "    print(\"Fail to reject the null\")\n",
    "    print(\"Insufficient evidence to reject the null\")\n",
    "p"
   ]
  },
  {
   "cell_type": "markdown",
   "id": "2a656b5f",
   "metadata": {},
   "source": [
    "----------------------------------------------------------------------------------------------------------------------"
   ]
  },
  {
   "cell_type": "markdown",
   "id": "1c158346",
   "metadata": {},
   "source": [
    "### internet service types\n",
    "- ${h_o}$ = internet service type and churn are independent of eachother\n",
    "- ${h_a}$ = There is a relationship between internet service type and churn"
   ]
  },
  {
   "cell_type": "code",
   "execution_count": 24,
   "id": "07173668",
   "metadata": {},
   "outputs": [
    {
     "name": "stdout",
     "output_type": "stream",
     "text": [
      "Reject the null hypothesis that internet service type and churn are independent of eachother\n",
      "Sufficient evidence to move forward understanding that There is a relationship between internet service type and churn\n"
     ]
    },
    {
     "data": {
      "text/plain": [
       "3.2062272759526154e-96"
      ]
     },
     "execution_count": 24,
     "metadata": {},
     "output_type": "execute_result"
    }
   ],
   "source": [
    "null_hypothesis = \"internet service type and churn are independent of eachother\"\n",
    "alternative_hypothesis = \"There is a relationship between internet service type and churn\"\n",
    "observed = pd.crosstab(train.churn_Yes, train.internet_service_type_id)\n",
    "\n",
    "chi2, p, degf, expected = stats.chi2_contingency(observed)\n",
    "\n",
    "if p < alpha:\n",
    "    print(\"Reject the null hypothesis that\", null_hypothesis)\n",
    "    print(\"Sufficient evidence to move forward understanding that\", alternative_hypothesis)\n",
    "else:\n",
    "    print(\"Fail to reject the null\")\n",
    "    print(\"Insufficient evidence to reject the null\")\n",
    "p"
   ]
  },
  {
   "cell_type": "markdown",
   "id": "9b4d7fe3",
   "metadata": {},
   "source": [
    "----------------------------------------------------------------------------------------------------------------------"
   ]
  },
  {
   "cell_type": "markdown",
   "id": "3fda540b",
   "metadata": {},
   "source": [
    "### Senior Citizen\n",
    "- ${h_o}$ = senior citizens and churn are independent of eachother\n",
    "- ${h_a}$ = There is a relationship between senior citizens and churn"
   ]
  },
  {
   "cell_type": "code",
   "execution_count": 25,
   "id": "c107308d",
   "metadata": {},
   "outputs": [
    {
     "name": "stdout",
     "output_type": "stream",
     "text": [
      "Reject the null hypothesis that senior citizens and churn are independent of eachother\n",
      "Sufficient evidence to move forward understanding that There is a relationship between senior citizens and churn\n"
     ]
    },
    {
     "data": {
      "text/plain": [
       "1.7561315684822571e-23"
      ]
     },
     "execution_count": 25,
     "metadata": {},
     "output_type": "execute_result"
    }
   ],
   "source": [
    "null_hypothesis = \"senior citizens and churn are independent of eachother\"\n",
    "alternative_hypothesis = \"There is a relationship between senior citizens and churn\"\n",
    "observed = pd.crosstab(train.churn_Yes, train.senior_citizen)\n",
    "\n",
    "chi2, p, degf, expected = stats.chi2_contingency(observed)\n",
    "\n",
    "if p < alpha:\n",
    "    print(\"Reject the null hypothesis that\", null_hypothesis)\n",
    "    print(\"Sufficient evidence to move forward understanding that\", alternative_hypothesis)\n",
    "else:\n",
    "    print(\"Fail to reject the null\")\n",
    "    print(\"Insufficient evidence to reject the null\")\n",
    "p"
   ]
  },
  {
   "cell_type": "markdown",
   "id": "bd22e8e3",
   "metadata": {},
   "source": [
    "----------------------------------------------------------------------------------------------------------------------"
   ]
  },
  {
   "cell_type": "markdown",
   "id": "9fda9154",
   "metadata": {},
   "source": [
    "### Gender \n",
    "- ${h_o}$ = gender and churn are independent of eachother\n",
    "- ${h_a}$ = There is a relationship between gender and churn"
   ]
  },
  {
   "cell_type": "code",
   "execution_count": 26,
   "id": "1e90f1d8",
   "metadata": {},
   "outputs": [
    {
     "name": "stdout",
     "output_type": "stream",
     "text": [
      "Fail to reject the null\n",
      "Insufficient evidence to reject the null\n"
     ]
    },
    {
     "data": {
      "text/plain": [
       "1.0"
      ]
     },
     "execution_count": 26,
     "metadata": {},
     "output_type": "execute_result"
    }
   ],
   "source": [
    "null_hypothesis = \"gender and churn are independent of eachother\"\n",
    "alternative_hypothesis = \"There is a relationship between gender and churn\"\n",
    "observed = pd.crosstab(train.churn_Yes, train.gender_Male)\n",
    "\n",
    "chi2, p, degf, expected = stats.chi2_contingency(observed)\n",
    "\n",
    "if p < alpha:\n",
    "    print(\"Reject the null hypothesis that\", null_hypothesis)\n",
    "    print(\"Sufficient evidence to move forward understanding that\", alternative_hypothesis)\n",
    "else:\n",
    "    print(\"Fail to reject the null\")\n",
    "    print(\"Insufficient evidence to reject the null\")\n",
    "p"
   ]
  },
  {
   "cell_type": "markdown",
   "id": "b0188b5b",
   "metadata": {},
   "source": [
    "----------------------------------------------------------------------------------------------------------------------"
   ]
  },
  {
   "cell_type": "markdown",
   "id": "5b2d0132",
   "metadata": {},
   "source": [
    "### Paperless billing\n",
    "- ${h_o}$ = Paperless billing and churn are independent of eachother\n",
    "- ${h_a}$ = There is a relationship between paperless billing and churn"
   ]
  },
  {
   "cell_type": "code",
   "execution_count": 27,
   "id": "ecf272de",
   "metadata": {},
   "outputs": [
    {
     "name": "stdout",
     "output_type": "stream",
     "text": [
      "Reject the null hypothesis that Paperless billing and churn are independent of eachother\n",
      "Sufficient evidence to move forward understanding that There is a relationship between paperless billing and churn\n"
     ]
    },
    {
     "data": {
      "text/plain": [
       "1.3393723943150956e-32"
      ]
     },
     "execution_count": 27,
     "metadata": {},
     "output_type": "execute_result"
    }
   ],
   "source": [
    "null_hypothesis = \"Paperless billing and churn are independent of eachother\"\n",
    "alternative_hypothesis = \"There is a relationship between paperless billing and churn\"\n",
    "observed = pd.crosstab(train.churn_Yes, train.paperless_billing_Yes)\n",
    "\n",
    "chi2, p, degf, expected = stats.chi2_contingency(observed)\n",
    "\n",
    "if p < alpha:\n",
    "    print(\"Reject the null hypothesis that\", null_hypothesis)\n",
    "    print(\"Sufficient evidence to move forward understanding that\", alternative_hypothesis)\n",
    "else:\n",
    "    print(\"Fail to reject the null\")\n",
    "    print(\"Insufficient evidence to reject the null\")\n",
    "p"
   ]
  },
  {
   "cell_type": "markdown",
   "id": "999d910d",
   "metadata": {},
   "source": [
    "## Take aways\n",
    "#### - contract types rejected the null hypothesis\n",
    "#### - payment types rejected the null hypothesis\n",
    "#### - internet service types rejected the null hypothesis\n",
    "#### - gender has no relationship with churn\n",
    "#### - paperless, senior citizen has a minor relationship with churn"
   ]
  },
  {
   "cell_type": "markdown",
   "id": "95842a77",
   "metadata": {},
   "source": [
    "# ---------------------------------------------------------------------------------------------"
   ]
  },
  {
   "cell_type": "markdown",
   "id": "a4dd64ca",
   "metadata": {},
   "source": [
    "# Modeling"
   ]
  },
  {
   "cell_type": "code",
   "execution_count": 28,
   "id": "57955980",
   "metadata": {},
   "outputs": [
    {
     "name": "stdout",
     "output_type": "stream",
     "text": [
      "Baseline accuracy: 0.73\n"
     ]
    }
   ],
   "source": [
    "clf = DecisionTreeClassifier(max_depth=4, random_state=123)\n",
    "baseline_accuracy = (train.churn_Yes == 0).mean()\n",
    "print(f\"Baseline accuracy: {round(baseline_accuracy, 2)}\")"
   ]
  },
  {
   "cell_type": "code",
   "execution_count": 29,
   "id": "76d6ff60",
   "metadata": {},
   "outputs": [],
   "source": [
    "clf = clf.fit(X_train, y_train)"
   ]
  },
  {
   "cell_type": "code",
   "execution_count": 30,
   "id": "563b6d63",
   "metadata": {},
   "outputs": [],
   "source": [
    "# Make the model\n",
    "tree1 = DecisionTreeClassifier(max_depth=10, random_state=123)\n",
    "\n",
    "# Fit the model (on train and only train)\n",
    "tree1 = tree1.fit(X_train, y_train)\n",
    "\n",
    "# Use the model\n",
    "# We'll evaluate the model's performance on train, first\n",
    "y_predictions = tree1.predict(X_train)\n"
   ]
  },
  {
   "cell_type": "markdown",
   "id": "fc7b2a74",
   "metadata": {},
   "source": [
    "### Baseline"
   ]
  },
  {
   "cell_type": "code",
   "execution_count": 32,
   "id": "6cc49222",
   "metadata": {},
   "outputs": [],
   "source": [
    "baseline_prediction = y_pred_proba = clf.predict_proba(X_train)"
   ]
  },
  {
   "cell_type": "markdown",
   "id": "13e6f7e9",
   "metadata": {},
   "source": [
    "### Acurracy"
   ]
  },
  {
   "cell_type": "markdown",
   "id": "050dfa55",
   "metadata": {},
   "source": [
    "### Random Forest for test and validate"
   ]
  },
  {
   "cell_type": "code",
   "execution_count": 33,
   "id": "12aa87b5",
   "metadata": {},
   "outputs": [
    {
     "data": {
      "text/html": [
       "<div>\n",
       "<style scoped>\n",
       "    .dataframe tbody tr th:only-of-type {\n",
       "        vertical-align: middle;\n",
       "    }\n",
       "\n",
       "    .dataframe tbody tr th {\n",
       "        vertical-align: top;\n",
       "    }\n",
       "\n",
       "    .dataframe thead th {\n",
       "        text-align: right;\n",
       "    }\n",
       "</style>\n",
       "<table border=\"1\" class=\"dataframe\">\n",
       "  <thead>\n",
       "    <tr style=\"text-align: right;\">\n",
       "      <th></th>\n",
       "      <th>min_samples_per_leaf</th>\n",
       "      <th>max_depth</th>\n",
       "      <th>train_accuracy</th>\n",
       "      <th>validate_accuracy</th>\n",
       "      <th>difference</th>\n",
       "    </tr>\n",
       "  </thead>\n",
       "  <tbody>\n",
       "    <tr>\n",
       "      <th>0</th>\n",
       "      <td>2</td>\n",
       "      <td>16</td>\n",
       "      <td>0.932690</td>\n",
       "      <td>0.780213</td>\n",
       "      <td>0.152477</td>\n",
       "    </tr>\n",
       "    <tr>\n",
       "      <th>1</th>\n",
       "      <td>3</td>\n",
       "      <td>15</td>\n",
       "      <td>0.892812</td>\n",
       "      <td>0.792654</td>\n",
       "      <td>0.100158</td>\n",
       "    </tr>\n",
       "    <tr>\n",
       "      <th>2</th>\n",
       "      <td>4</td>\n",
       "      <td>14</td>\n",
       "      <td>0.872746</td>\n",
       "      <td>0.796209</td>\n",
       "      <td>0.076537</td>\n",
       "    </tr>\n",
       "    <tr>\n",
       "      <th>3</th>\n",
       "      <td>5</td>\n",
       "      <td>13</td>\n",
       "      <td>0.859284</td>\n",
       "      <td>0.790877</td>\n",
       "      <td>0.068407</td>\n",
       "    </tr>\n",
       "    <tr>\n",
       "      <th>4</th>\n",
       "      <td>6</td>\n",
       "      <td>12</td>\n",
       "      <td>0.852680</td>\n",
       "      <td>0.790284</td>\n",
       "      <td>0.062395</td>\n",
       "    </tr>\n",
       "    <tr>\n",
       "      <th>5</th>\n",
       "      <td>7</td>\n",
       "      <td>11</td>\n",
       "      <td>0.842012</td>\n",
       "      <td>0.790877</td>\n",
       "      <td>0.051135</td>\n",
       "    </tr>\n",
       "    <tr>\n",
       "      <th>6</th>\n",
       "      <td>8</td>\n",
       "      <td>10</td>\n",
       "      <td>0.834900</td>\n",
       "      <td>0.789100</td>\n",
       "      <td>0.045800</td>\n",
       "    </tr>\n",
       "    <tr>\n",
       "      <th>7</th>\n",
       "      <td>9</td>\n",
       "      <td>9</td>\n",
       "      <td>0.831090</td>\n",
       "      <td>0.791469</td>\n",
       "      <td>0.039620</td>\n",
       "    </tr>\n",
       "    <tr>\n",
       "      <th>8</th>\n",
       "      <td>10</td>\n",
       "      <td>8</td>\n",
       "      <td>0.823724</td>\n",
       "      <td>0.792062</td>\n",
       "      <td>0.031662</td>\n",
       "    </tr>\n",
       "    <tr>\n",
       "      <th>9</th>\n",
       "      <td>11</td>\n",
       "      <td>7</td>\n",
       "      <td>0.817374</td>\n",
       "      <td>0.793246</td>\n",
       "      <td>0.024127</td>\n",
       "    </tr>\n",
       "    <tr>\n",
       "      <th>10</th>\n",
       "      <td>12</td>\n",
       "      <td>6</td>\n",
       "      <td>0.815088</td>\n",
       "      <td>0.792062</td>\n",
       "      <td>0.023026</td>\n",
       "    </tr>\n",
       "    <tr>\n",
       "      <th>11</th>\n",
       "      <td>13</td>\n",
       "      <td>5</td>\n",
       "      <td>0.809500</td>\n",
       "      <td>0.794431</td>\n",
       "      <td>0.015068</td>\n",
       "    </tr>\n",
       "    <tr>\n",
       "      <th>12</th>\n",
       "      <td>14</td>\n",
       "      <td>4</td>\n",
       "      <td>0.800356</td>\n",
       "      <td>0.781991</td>\n",
       "      <td>0.018365</td>\n",
       "    </tr>\n",
       "    <tr>\n",
       "      <th>13</th>\n",
       "      <td>15</td>\n",
       "      <td>3</td>\n",
       "      <td>0.795784</td>\n",
       "      <td>0.777844</td>\n",
       "      <td>0.017940</td>\n",
       "    </tr>\n",
       "    <tr>\n",
       "      <th>14</th>\n",
       "      <td>16</td>\n",
       "      <td>2</td>\n",
       "      <td>0.764796</td>\n",
       "      <td>0.750000</td>\n",
       "      <td>0.014796</td>\n",
       "    </tr>\n",
       "    <tr>\n",
       "      <th>15</th>\n",
       "      <td>17</td>\n",
       "      <td>1</td>\n",
       "      <td>0.734315</td>\n",
       "      <td>0.734005</td>\n",
       "      <td>0.000311</td>\n",
       "    </tr>\n",
       "  </tbody>\n",
       "</table>\n",
       "</div>"
      ],
      "text/plain": [
       "    min_samples_per_leaf  max_depth  train_accuracy  validate_accuracy  \\\n",
       "0                      2         16        0.932690           0.780213   \n",
       "1                      3         15        0.892812           0.792654   \n",
       "2                      4         14        0.872746           0.796209   \n",
       "3                      5         13        0.859284           0.790877   \n",
       "4                      6         12        0.852680           0.790284   \n",
       "5                      7         11        0.842012           0.790877   \n",
       "6                      8         10        0.834900           0.789100   \n",
       "7                      9          9        0.831090           0.791469   \n",
       "8                     10          8        0.823724           0.792062   \n",
       "9                     11          7        0.817374           0.793246   \n",
       "10                    12          6        0.815088           0.792062   \n",
       "11                    13          5        0.809500           0.794431   \n",
       "12                    14          4        0.800356           0.781991   \n",
       "13                    15          3        0.795784           0.777844   \n",
       "14                    16          2        0.764796           0.750000   \n",
       "15                    17          1        0.734315           0.734005   \n",
       "\n",
       "    difference  \n",
       "0     0.152477  \n",
       "1     0.100158  \n",
       "2     0.076537  \n",
       "3     0.068407  \n",
       "4     0.062395  \n",
       "5     0.051135  \n",
       "6     0.045800  \n",
       "7     0.039620  \n",
       "8     0.031662  \n",
       "9     0.024127  \n",
       "10    0.023026  \n",
       "11    0.015068  \n",
       "12    0.018365  \n",
       "13    0.017940  \n",
       "14    0.014796  \n",
       "15    0.000311  "
      ]
     },
     "execution_count": 33,
     "metadata": {},
     "output_type": "execute_result"
    }
   ],
   "source": [
    "metrics = []\n",
    "max_depth = 18\n",
    "\n",
    "for i in range(2, max_depth):\n",
    "    depth = max_depth - i\n",
    "    n_samples = i\n",
    "    forest = RandomForestClassifier(max_depth=depth, min_samples_leaf= n_samples,random_state=123)\n",
    "    \n",
    "    forest = forest.fit(X_train, y_train)\n",
    "    \n",
    "    in_sample_accuracy = forest.score(X_train,y_train)\n",
    "    \n",
    "    out_of_sample_accuracy = forest.score(X_validate,y_validate)\n",
    "    \n",
    "    output = {\n",
    "        \"min_samples_per_leaf\": n_samples,\n",
    "        \"max_depth\": depth,\n",
    "        \"train_accuracy\": in_sample_accuracy,\n",
    "        \"validate_accuracy\": out_of_sample_accuracy\n",
    "    }\n",
    "    metrics.append(output)\n",
    "    \n",
    "df1 = pd.DataFrame(metrics)\n",
    "df1[\"difference\"] = df1.train_accuracy - df1.validate_accuracy\n",
    "df1"
   ]
  },
  {
   "cell_type": "code",
   "execution_count": 34,
   "id": "f89a0d96",
   "metadata": {},
   "outputs": [
    {
     "name": "stdout",
     "output_type": "stream",
     "text": [
      "Tree with max depth of 2\n",
      "                     0            1  accuracy    macro avg  weighted avg\n",
      "precision     0.762630     0.806122  0.764796     0.784376      0.774186\n",
      "recall        0.986856     0.151052  0.764796     0.568954      0.764796\n",
      "f1-score      0.860374     0.254428  0.764796     0.557401      0.699384\n",
      "support    2891.000000  1046.000000  0.764796  3937.000000   3937.000000\n",
      "\n",
      "Tree with max depth of 3\n",
      "                     0            1  accuracy    macro avg  weighted avg\n",
      "precision     0.800518     0.762419  0.796038     0.781469      0.790396\n",
      "recall        0.961951     0.337476  0.796038     0.649713      0.796038\n",
      "f1-score      0.873841     0.467860  0.796038     0.670850      0.765978\n",
      "support    2891.000000  1046.000000  0.796038  3937.000000   3937.000000\n",
      "\n",
      "Tree with max depth of 4\n",
      "                     0            1  accuracy    macro avg  weighted avg\n",
      "precision     0.812055     0.725835  0.799594     0.768945      0.789147\n",
      "recall        0.946039     0.394837  0.799594     0.670438      0.799594\n",
      "f1-score      0.873942     0.511455  0.799594     0.692698      0.777634\n",
      "support    2891.000000  1046.000000  0.799594  3937.000000   3937.000000\n",
      "\n",
      "Tree with max depth of 5\n",
      "                     0            1  accuracy    macro avg  weighted avg\n",
      "precision     0.833901     0.718310  0.813056     0.776106      0.803191\n",
      "recall        0.930820     0.487572  0.813056     0.709196      0.813056\n",
      "f1-score      0.879699     0.580866  0.813056     0.730282      0.800304\n",
      "support    2891.000000  1046.000000  0.813056  3937.000000   3937.000000\n",
      "\n",
      "Tree with max depth of 6\n",
      "                     0            1  accuracy    macro avg  weighted avg\n",
      "precision     0.844086     0.713548   0.81839     0.778817      0.809404\n",
      "recall        0.923210     0.528681   0.81839     0.725945      0.818390\n",
      "f1-score      0.881877     0.607359   0.81839     0.744618      0.808942\n",
      "support    2891.000000  1046.000000   0.81839  3937.000000   3937.000000\n",
      "\n",
      "Tree with max depth of 7\n",
      "                     0            1  accuracy    macro avg  weighted avg\n",
      "precision     0.851369     0.728302  0.826518     0.789835      0.818672\n",
      "recall        0.925285     0.553537  0.826518     0.739411      0.826518\n",
      "f1-score      0.886789     0.629006  0.826518     0.757898      0.818300\n",
      "support    2891.000000  1046.000000  0.826518  3937.000000   3937.000000\n",
      "\n",
      "Tree with max depth of 8\n",
      "                     0            1  accuracy    macro avg  weighted avg\n",
      "precision     0.868378     0.745349  0.841504     0.806864      0.835691\n",
      "recall        0.924248     0.612811  0.841504     0.768529      0.841504\n",
      "f1-score      0.895442     0.672613  0.841504     0.784028      0.836240\n",
      "support    2891.000000  1046.000000  0.841504  3937.000000   3937.000000\n",
      "\n",
      "Tree with max depth of 9\n",
      "                     0            1  accuracy    macro avg  weighted avg\n",
      "precision     0.887144     0.796591  0.866904     0.841868      0.863086\n",
      "recall        0.938084     0.670172  0.866904     0.804128      0.866904\n",
      "f1-score      0.911903     0.727934  0.866904     0.819918      0.863025\n",
      "support    2891.000000  1046.000000  0.866904  3937.000000   3937.000000\n",
      "\n",
      "Tree with max depth of 10\n",
      "                     0            1  accuracy    macro avg  weighted avg\n",
      "precision     0.907377     0.838074  0.891288     0.872726      0.888964\n",
      "recall        0.948807     0.732314  0.891288     0.840560      0.891288\n",
      "f1-score      0.927629     0.781633  0.891288     0.854631      0.888840\n",
      "support    2891.000000  1046.000000  0.891288  3937.000000   3937.000000\n",
      "\n",
      "Tree with max depth of 11\n",
      "                     0            1  accuracy    macro avg  weighted avg\n",
      "precision     0.935984     0.883385  0.923038     0.909684      0.922009\n",
      "recall        0.960913     0.818356  0.923038     0.889634      0.923038\n",
      "f1-score      0.948285     0.849628  0.923038     0.898956      0.922073\n",
      "support    2891.000000  1046.000000  0.923038  3937.000000   3937.000000\n",
      "\n",
      "Tree with max depth of 12\n",
      "                     0            1  accuracy    macro avg  weighted avg\n",
      "precision     0.962594     0.915934   0.95047     0.939264      0.950197\n",
      "recall        0.970253     0.895793   0.95047     0.933023      0.950470\n",
      "f1-score      0.966408     0.905752   0.95047     0.936080      0.950293\n",
      "support    2891.000000  1046.000000   0.95047  3937.000000   3937.000000\n",
      "\n",
      "Tree with max depth of 13\n",
      "                     0            1  accuracy    macro avg  weighted avg\n",
      "precision     0.983374     0.950476    0.9746     0.966925      0.974633\n",
      "recall        0.982013     0.954111    0.9746     0.968062      0.974600\n",
      "f1-score      0.982693     0.952290    0.9746     0.967492      0.974615\n",
      "support    2891.000000  1046.000000    0.9746  3937.000000   3937.000000\n",
      "\n"
     ]
    }
   ],
   "source": [
    "for i in range(2,14):\n",
    "    forest = RandomForestClassifier(max_depth=i,random_state=123)\n",
    "    forest = forest.fit(X_train,y_train)\n",
    "    \n",
    "    y_predcitions = forest.predict(X_train)\n",
    "    \n",
    "    report = classification_report(y_train,y_predcitions,output_dict=True)\n",
    "    print(f\"Tree with max depth of {i}\")\n",
    "    print(pd.DataFrame(report))\n",
    "    print()"
   ]
  },
  {
   "cell_type": "code",
   "execution_count": 35,
   "id": "54adf186",
   "metadata": {},
   "outputs": [],
   "source": [
    "rf = RandomForestClassifier(bootstrap=True, \n",
    "                            class_weight=None, \n",
    "                            criterion='gini',\n",
    "                            min_samples_leaf=13,\n",
    "                            n_estimators=100,\n",
    "                            max_depth=5, \n",
    "                            random_state=123)\n"
   ]
  },
  {
   "cell_type": "code",
   "execution_count": 36,
   "id": "9c3fc57b",
   "metadata": {},
   "outputs": [],
   "source": [
    "rf.fit(X_train, y_train)\n",
    "y_pred = rf.predict(X_train)\n",
    "y_pred_proba = rf.predict_proba(X_train)\n"
   ]
  },
  {
   "cell_type": "code",
   "execution_count": 37,
   "id": "9b38f74b",
   "metadata": {},
   "outputs": [
    {
     "name": "stdout",
     "output_type": "stream",
     "text": [
      "Accuracy of random forest classifier on training set: 0.81\n"
     ]
    }
   ],
   "source": [
    "print('Accuracy of random forest classifier on training set: {:.2f}'\n",
    "     .format(rf.score(X_train, y_train)))\n"
   ]
  },
  {
   "cell_type": "code",
   "execution_count": 38,
   "id": "5d865e5c",
   "metadata": {},
   "outputs": [
    {
     "name": "stdout",
     "output_type": "stream",
     "text": [
      "Accuracy of random forest classifier on test set: 0.79\n"
     ]
    }
   ],
   "source": [
    "print('Accuracy of random forest classifier on test set: {:.2f}'\n",
    "     .format(rf.score(X_validate, y_validate)))\n"
   ]
  },
  {
   "cell_type": "markdown",
   "id": "153bd70b",
   "metadata": {},
   "source": [
    "## Takeaways\n",
    "#### - Baseline 73%\n",
    "#### - Randomforest classifier min_sample_leaf = 13 and max_depth = 5\n",
    "#### - results in 81% accuarcy in train values and 79% in validate, which has a more leveled field\n"
   ]
  },
  {
   "cell_type": "markdown",
   "id": "afc06d61",
   "metadata": {},
   "source": [
    "# Knn"
   ]
  },
  {
   "cell_type": "code",
   "execution_count": 39,
   "id": "fa52cb19",
   "metadata": {},
   "outputs": [
    {
     "data": {
      "text/plain": [
       "KNeighborsClassifier()"
      ]
     },
     "execution_count": 39,
     "metadata": {},
     "output_type": "execute_result"
    }
   ],
   "source": [
    "# weights = ['uniform', 'density']\n",
    "knn = KNeighborsClassifier(n_neighbors=5, weights='uniform')\n",
    "knn.fit(X_train, y_train)\n"
   ]
  },
  {
   "cell_type": "code",
   "execution_count": 40,
   "id": "d5a8b36a",
   "metadata": {},
   "outputs": [
    {
     "name": "stdout",
     "output_type": "stream",
     "text": [
      "Accuracy of KNN classifier on training set: 0.83\n"
     ]
    }
   ],
   "source": [
    "y_pred = knn.predict(X_train)\n",
    "y_pred_proba = knn.predict_proba(X_train)\n",
    "\n",
    "print('Accuracy of KNN classifier on training set: {:.2f}'\n",
    "     .format(knn.score(X_train, y_train)))\n"
   ]
  },
  {
   "cell_type": "code",
   "execution_count": 41,
   "id": "ee862a48",
   "metadata": {},
   "outputs": [
    {
     "name": "stdout",
     "output_type": "stream",
     "text": [
      "Accuracy of KNN classifier on test set: 0.76\n"
     ]
    }
   ],
   "source": [
    "print('Accuracy of KNN classifier on test set: {:.2f}'\n",
    "     .format(knn.score(X_validate, y_validate)))\n"
   ]
  },
  {
   "cell_type": "code",
   "execution_count": 42,
   "id": "6083b914",
   "metadata": {},
   "outputs": [
    {
     "data": {
      "text/html": [
       "<div>\n",
       "<style scoped>\n",
       "    .dataframe tbody tr th:only-of-type {\n",
       "        vertical-align: middle;\n",
       "    }\n",
       "\n",
       "    .dataframe tbody tr th {\n",
       "        vertical-align: top;\n",
       "    }\n",
       "\n",
       "    .dataframe thead th {\n",
       "        text-align: right;\n",
       "    }\n",
       "</style>\n",
       "<table border=\"1\" class=\"dataframe\">\n",
       "  <thead>\n",
       "    <tr style=\"text-align: right;\">\n",
       "      <th></th>\n",
       "      <th>k</th>\n",
       "      <th>train_accuracy</th>\n",
       "      <th>validate_accuracy</th>\n",
       "      <th>difference</th>\n",
       "    </tr>\n",
       "  </thead>\n",
       "  <tbody>\n",
       "    <tr>\n",
       "      <th>0</th>\n",
       "      <td>1</td>\n",
       "      <td>0.997968</td>\n",
       "      <td>0.704384</td>\n",
       "      <td>0.293584</td>\n",
       "    </tr>\n",
       "    <tr>\n",
       "      <th>1</th>\n",
       "      <td>2</td>\n",
       "      <td>0.859792</td>\n",
       "      <td>0.748223</td>\n",
       "      <td>0.111569</td>\n",
       "    </tr>\n",
       "    <tr>\n",
       "      <th>2</th>\n",
       "      <td>3</td>\n",
       "      <td>0.856744</td>\n",
       "      <td>0.742299</td>\n",
       "      <td>0.114445</td>\n",
       "    </tr>\n",
       "    <tr>\n",
       "      <th>3</th>\n",
       "      <td>4</td>\n",
       "      <td>0.832614</td>\n",
       "      <td>0.768365</td>\n",
       "      <td>0.064249</td>\n",
       "    </tr>\n",
       "    <tr>\n",
       "      <th>4</th>\n",
       "      <td>5</td>\n",
       "      <td>0.830582</td>\n",
       "      <td>0.758294</td>\n",
       "      <td>0.072288</td>\n",
       "    </tr>\n",
       "    <tr>\n",
       "      <th>5</th>\n",
       "      <td>6</td>\n",
       "      <td>0.820676</td>\n",
       "      <td>0.768365</td>\n",
       "      <td>0.052311</td>\n",
       "    </tr>\n",
       "    <tr>\n",
       "      <th>6</th>\n",
       "      <td>7</td>\n",
       "      <td>0.820168</td>\n",
       "      <td>0.771327</td>\n",
       "      <td>0.048841</td>\n",
       "    </tr>\n",
       "    <tr>\n",
       "      <th>7</th>\n",
       "      <td>8</td>\n",
       "      <td>0.815088</td>\n",
       "      <td>0.778436</td>\n",
       "      <td>0.036652</td>\n",
       "    </tr>\n",
       "    <tr>\n",
       "      <th>8</th>\n",
       "      <td>9</td>\n",
       "      <td>0.817374</td>\n",
       "      <td>0.777251</td>\n",
       "      <td>0.040122</td>\n",
       "    </tr>\n",
       "    <tr>\n",
       "      <th>9</th>\n",
       "      <td>10</td>\n",
       "      <td>0.808992</td>\n",
       "      <td>0.773104</td>\n",
       "      <td>0.035887</td>\n",
       "    </tr>\n",
       "    <tr>\n",
       "      <th>10</th>\n",
       "      <td>11</td>\n",
       "      <td>0.811532</td>\n",
       "      <td>0.771919</td>\n",
       "      <td>0.039612</td>\n",
       "    </tr>\n",
       "    <tr>\n",
       "      <th>11</th>\n",
       "      <td>12</td>\n",
       "      <td>0.805944</td>\n",
       "      <td>0.771919</td>\n",
       "      <td>0.034024</td>\n",
       "    </tr>\n",
       "    <tr>\n",
       "      <th>12</th>\n",
       "      <td>13</td>\n",
       "      <td>0.806960</td>\n",
       "      <td>0.779621</td>\n",
       "      <td>0.027339</td>\n",
       "    </tr>\n",
       "    <tr>\n",
       "      <th>13</th>\n",
       "      <td>14</td>\n",
       "      <td>0.800864</td>\n",
       "      <td>0.777251</td>\n",
       "      <td>0.023612</td>\n",
       "    </tr>\n",
       "    <tr>\n",
       "      <th>14</th>\n",
       "      <td>15</td>\n",
       "      <td>0.801626</td>\n",
       "      <td>0.780213</td>\n",
       "      <td>0.021412</td>\n",
       "    </tr>\n",
       "    <tr>\n",
       "      <th>15</th>\n",
       "      <td>16</td>\n",
       "      <td>0.801372</td>\n",
       "      <td>0.774289</td>\n",
       "      <td>0.027083</td>\n",
       "    </tr>\n",
       "    <tr>\n",
       "      <th>16</th>\n",
       "      <td>17</td>\n",
       "      <td>0.797816</td>\n",
       "      <td>0.773104</td>\n",
       "      <td>0.024711</td>\n",
       "    </tr>\n",
       "  </tbody>\n",
       "</table>\n",
       "</div>"
      ],
      "text/plain": [
       "     k  train_accuracy  validate_accuracy  difference\n",
       "0    1        0.997968           0.704384    0.293584\n",
       "1    2        0.859792           0.748223    0.111569\n",
       "2    3        0.856744           0.742299    0.114445\n",
       "3    4        0.832614           0.768365    0.064249\n",
       "4    5        0.830582           0.758294    0.072288\n",
       "5    6        0.820676           0.768365    0.052311\n",
       "6    7        0.820168           0.771327    0.048841\n",
       "7    8        0.815088           0.778436    0.036652\n",
       "8    9        0.817374           0.777251    0.040122\n",
       "9   10        0.808992           0.773104    0.035887\n",
       "10  11        0.811532           0.771919    0.039612\n",
       "11  12        0.805944           0.771919    0.034024\n",
       "12  13        0.806960           0.779621    0.027339\n",
       "13  14        0.800864           0.777251    0.023612\n",
       "14  15        0.801626           0.780213    0.021412\n",
       "15  16        0.801372           0.774289    0.027083\n",
       "16  17        0.797816           0.773104    0.024711"
      ]
     },
     "execution_count": 42,
     "metadata": {},
     "output_type": "execute_result"
    }
   ],
   "source": [
    "import matplotlib.pyplot as plt\n",
    "k_range = range(1, 18)\n",
    "scores = []\n",
    "for k in k_range:\n",
    "    knn = KNeighborsClassifier(n_neighbors=k)\n",
    "    knn.fit(X_train, y_train)\n",
    "    train_accuracy = knn.score(X_train, y_train)\n",
    "    validate_accuracy = knn.score(X_validate,y_validate)\n",
    "    output = {\n",
    "        \"k\": k,\n",
    "        \"train_accuracy\": train_accuracy,\n",
    "        \"validate_accuracy\": validate_accuracy\n",
    "    }\n",
    "    scores.append(output)\n",
    "ddd = pd.DataFrame(scores)\n",
    "ddd['difference'] = ddd.train_accuracy - ddd.validate_accuracy\n",
    "ddd\n",
    "#plt.figure()\n",
    "#plt.xlabel('k')\n",
    "#plt.ylabel('accuracy')\n",
    "#plt.scatter(k_range, scores)\n",
    "#plt.xticks([0,5,10,15,20])\n",
    "#plt.show()"
   ]
  },
  {
   "cell_type": "code",
   "execution_count": 43,
   "id": "81eb4dba",
   "metadata": {},
   "outputs": [
    {
     "data": {
      "text/html": [
       "<div>\n",
       "<style scoped>\n",
       "    .dataframe tbody tr th:only-of-type {\n",
       "        vertical-align: middle;\n",
       "    }\n",
       "\n",
       "    .dataframe tbody tr th {\n",
       "        vertical-align: top;\n",
       "    }\n",
       "\n",
       "    .dataframe thead th {\n",
       "        text-align: right;\n",
       "    }\n",
       "</style>\n",
       "<table border=\"1\" class=\"dataframe\">\n",
       "  <thead>\n",
       "    <tr style=\"text-align: right;\">\n",
       "      <th></th>\n",
       "      <th>k</th>\n",
       "      <th>train_accuracy</th>\n",
       "      <th>validate_accuracy</th>\n",
       "      <th>difference</th>\n",
       "    </tr>\n",
       "  </thead>\n",
       "  <tbody>\n",
       "    <tr>\n",
       "      <th>14</th>\n",
       "      <td>15</td>\n",
       "      <td>0.801626</td>\n",
       "      <td>0.780213</td>\n",
       "      <td>0.021412</td>\n",
       "    </tr>\n",
       "  </tbody>\n",
       "</table>\n",
       "</div>"
      ],
      "text/plain": [
       "     k  train_accuracy  validate_accuracy  difference\n",
       "14  15        0.801626           0.780213    0.021412"
      ]
     },
     "execution_count": 43,
     "metadata": {},
     "output_type": "execute_result"
    }
   ],
   "source": [
    "ddd[ddd.difference == ddd.difference.min()]"
   ]
  },
  {
   "cell_type": "markdown",
   "id": "62fa9124",
   "metadata": {},
   "source": [
    "## Take away\n",
    "#### - the 80% train accuracy and 78% on validate our best bet for a leveled knn test"
   ]
  },
  {
   "cell_type": "markdown",
   "id": "fb8200b4",
   "metadata": {},
   "source": [
    "### C value = 1 here "
   ]
  },
  {
   "cell_type": "code",
   "execution_count": 44,
   "id": "007413a7",
   "metadata": {},
   "outputs": [
    {
     "name": "stdout",
     "output_type": "stream",
     "text": [
      "test data accuracy is: 80.45%\n"
     ]
    }
   ],
   "source": [
    "logit = LogisticRegression(C=1)\n",
    "logit.fit(X_train, y_train)\n",
    "\n",
    "score = (logit.score(X_test, y_test)*100)\n",
    "score_percent = \"{:.2f}\".format(score)\n",
    "\n",
    "print(f'test data accuracy is: {score_percent}%')"
   ]
  },
  {
   "cell_type": "code",
   "execution_count": 45,
   "id": "978262b8",
   "metadata": {},
   "outputs": [],
   "source": [
    "y_prediction = logit.predict(X_test)\n",
    "pred_prob = logit.predict_proba(X_test)"
   ]
  },
  {
   "cell_type": "code",
   "execution_count": 46,
   "id": "a4ae2438",
   "metadata": {},
   "outputs": [
    {
     "data": {
      "text/html": [
       "<div>\n",
       "<style scoped>\n",
       "    .dataframe tbody tr th:only-of-type {\n",
       "        vertical-align: middle;\n",
       "    }\n",
       "\n",
       "    .dataframe tbody tr th {\n",
       "        vertical-align: top;\n",
       "    }\n",
       "\n",
       "    .dataframe thead th {\n",
       "        text-align: right;\n",
       "    }\n",
       "</style>\n",
       "<table border=\"1\" class=\"dataframe\">\n",
       "  <thead>\n",
       "    <tr style=\"text-align: right;\">\n",
       "      <th></th>\n",
       "      <th>internet_service_type_id</th>\n",
       "      <th>payment_type_id</th>\n",
       "      <th>contract_type_id</th>\n",
       "      <th>customer_id</th>\n",
       "      <th>gender</th>\n",
       "      <th>senior_citizen</th>\n",
       "      <th>dependents</th>\n",
       "      <th>tenure</th>\n",
       "      <th>multiple_lines</th>\n",
       "      <th>tech_support</th>\n",
       "      <th>...</th>\n",
       "      <th>total_charges</th>\n",
       "      <th>churn</th>\n",
       "      <th>gender_Male</th>\n",
       "      <th>dependents_Yes</th>\n",
       "      <th>multiple_lines_No phone service</th>\n",
       "      <th>multiple_lines_Yes</th>\n",
       "      <th>tech_support_No internet service</th>\n",
       "      <th>tech_support_Yes</th>\n",
       "      <th>paperless_billing_Yes</th>\n",
       "      <th>churn_Yes</th>\n",
       "    </tr>\n",
       "  </thead>\n",
       "  <tbody>\n",
       "    <tr>\n",
       "      <th>3311</th>\n",
       "      <td>3</td>\n",
       "      <td>2</td>\n",
       "      <td>2</td>\n",
       "      <td>4716-MRVEN</td>\n",
       "      <td>Female</td>\n",
       "      <td>0</td>\n",
       "      <td>No</td>\n",
       "      <td>29</td>\n",
       "      <td>No</td>\n",
       "      <td>No internet service</td>\n",
       "      <td>...</td>\n",
       "      <td>599.30</td>\n",
       "      <td>No</td>\n",
       "      <td>0</td>\n",
       "      <td>0</td>\n",
       "      <td>0</td>\n",
       "      <td>0</td>\n",
       "      <td>1</td>\n",
       "      <td>0</td>\n",
       "      <td>0</td>\n",
       "      <td>0</td>\n",
       "    </tr>\n",
       "    <tr>\n",
       "      <th>6330</th>\n",
       "      <td>3</td>\n",
       "      <td>4</td>\n",
       "      <td>3</td>\n",
       "      <td>8966-KZXXA</td>\n",
       "      <td>Male</td>\n",
       "      <td>0</td>\n",
       "      <td>Yes</td>\n",
       "      <td>36</td>\n",
       "      <td>Yes</td>\n",
       "      <td>No internet service</td>\n",
       "      <td>...</td>\n",
       "      <td>930.95</td>\n",
       "      <td>No</td>\n",
       "      <td>1</td>\n",
       "      <td>1</td>\n",
       "      <td>0</td>\n",
       "      <td>1</td>\n",
       "      <td>1</td>\n",
       "      <td>0</td>\n",
       "      <td>0</td>\n",
       "      <td>0</td>\n",
       "    </tr>\n",
       "    <tr>\n",
       "      <th>6156</th>\n",
       "      <td>1</td>\n",
       "      <td>1</td>\n",
       "      <td>1</td>\n",
       "      <td>8720-RQSBJ</td>\n",
       "      <td>Male</td>\n",
       "      <td>1</td>\n",
       "      <td>No</td>\n",
       "      <td>1</td>\n",
       "      <td>No</td>\n",
       "      <td>No</td>\n",
       "      <td>...</td>\n",
       "      <td>44.00</td>\n",
       "      <td>No</td>\n",
       "      <td>1</td>\n",
       "      <td>0</td>\n",
       "      <td>0</td>\n",
       "      <td>0</td>\n",
       "      <td>0</td>\n",
       "      <td>0</td>\n",
       "      <td>0</td>\n",
       "      <td>0</td>\n",
       "    </tr>\n",
       "    <tr>\n",
       "      <th>5313</th>\n",
       "      <td>2</td>\n",
       "      <td>1</td>\n",
       "      <td>1</td>\n",
       "      <td>7504-UWHNB</td>\n",
       "      <td>Male</td>\n",
       "      <td>0</td>\n",
       "      <td>No</td>\n",
       "      <td>25</td>\n",
       "      <td>No</td>\n",
       "      <td>No</td>\n",
       "      <td>...</td>\n",
       "      <td>1729.35</td>\n",
       "      <td>No</td>\n",
       "      <td>1</td>\n",
       "      <td>0</td>\n",
       "      <td>0</td>\n",
       "      <td>0</td>\n",
       "      <td>0</td>\n",
       "      <td>0</td>\n",
       "      <td>0</td>\n",
       "      <td>0</td>\n",
       "    </tr>\n",
       "    <tr>\n",
       "      <th>1176</th>\n",
       "      <td>1</td>\n",
       "      <td>3</td>\n",
       "      <td>1</td>\n",
       "      <td>1730-VFMWO</td>\n",
       "      <td>Female</td>\n",
       "      <td>0</td>\n",
       "      <td>No</td>\n",
       "      <td>34</td>\n",
       "      <td>No</td>\n",
       "      <td>Yes</td>\n",
       "      <td>...</td>\n",
       "      <td>1815.30</td>\n",
       "      <td>No</td>\n",
       "      <td>0</td>\n",
       "      <td>0</td>\n",
       "      <td>0</td>\n",
       "      <td>0</td>\n",
       "      <td>0</td>\n",
       "      <td>1</td>\n",
       "      <td>0</td>\n",
       "      <td>0</td>\n",
       "    </tr>\n",
       "    <tr>\n",
       "      <th>...</th>\n",
       "      <td>...</td>\n",
       "      <td>...</td>\n",
       "      <td>...</td>\n",
       "      <td>...</td>\n",
       "      <td>...</td>\n",
       "      <td>...</td>\n",
       "      <td>...</td>\n",
       "      <td>...</td>\n",
       "      <td>...</td>\n",
       "      <td>...</td>\n",
       "      <td>...</td>\n",
       "      <td>...</td>\n",
       "      <td>...</td>\n",
       "      <td>...</td>\n",
       "      <td>...</td>\n",
       "      <td>...</td>\n",
       "      <td>...</td>\n",
       "      <td>...</td>\n",
       "      <td>...</td>\n",
       "      <td>...</td>\n",
       "      <td>...</td>\n",
       "    </tr>\n",
       "    <tr>\n",
       "      <th>600</th>\n",
       "      <td>2</td>\n",
       "      <td>3</td>\n",
       "      <td>2</td>\n",
       "      <td>0877-SDMBN</td>\n",
       "      <td>Female</td>\n",
       "      <td>0</td>\n",
       "      <td>No</td>\n",
       "      <td>54</td>\n",
       "      <td>Yes</td>\n",
       "      <td>No</td>\n",
       "      <td>...</td>\n",
       "      <td>5639.05</td>\n",
       "      <td>Yes</td>\n",
       "      <td>0</td>\n",
       "      <td>0</td>\n",
       "      <td>0</td>\n",
       "      <td>1</td>\n",
       "      <td>0</td>\n",
       "      <td>0</td>\n",
       "      <td>1</td>\n",
       "      <td>1</td>\n",
       "    </tr>\n",
       "    <tr>\n",
       "      <th>3946</th>\n",
       "      <td>3</td>\n",
       "      <td>4</td>\n",
       "      <td>1</td>\n",
       "      <td>5555-RNPGT</td>\n",
       "      <td>Male</td>\n",
       "      <td>0</td>\n",
       "      <td>Yes</td>\n",
       "      <td>10</td>\n",
       "      <td>Yes</td>\n",
       "      <td>No internet service</td>\n",
       "      <td>...</td>\n",
       "      <td>223.90</td>\n",
       "      <td>No</td>\n",
       "      <td>1</td>\n",
       "      <td>1</td>\n",
       "      <td>0</td>\n",
       "      <td>1</td>\n",
       "      <td>1</td>\n",
       "      <td>0</td>\n",
       "      <td>0</td>\n",
       "      <td>0</td>\n",
       "    </tr>\n",
       "    <tr>\n",
       "      <th>3230</th>\n",
       "      <td>1</td>\n",
       "      <td>1</td>\n",
       "      <td>1</td>\n",
       "      <td>4628-CTTLA</td>\n",
       "      <td>Male</td>\n",
       "      <td>0</td>\n",
       "      <td>No</td>\n",
       "      <td>57</td>\n",
       "      <td>No phone service</td>\n",
       "      <td>No</td>\n",
       "      <td>...</td>\n",
       "      <td>2111.45</td>\n",
       "      <td>Yes</td>\n",
       "      <td>1</td>\n",
       "      <td>0</td>\n",
       "      <td>1</td>\n",
       "      <td>0</td>\n",
       "      <td>0</td>\n",
       "      <td>0</td>\n",
       "      <td>1</td>\n",
       "      <td>1</td>\n",
       "    </tr>\n",
       "    <tr>\n",
       "      <th>349</th>\n",
       "      <td>3</td>\n",
       "      <td>2</td>\n",
       "      <td>1</td>\n",
       "      <td>0516-QREYC</td>\n",
       "      <td>Female</td>\n",
       "      <td>1</td>\n",
       "      <td>No</td>\n",
       "      <td>24</td>\n",
       "      <td>No</td>\n",
       "      <td>No internet service</td>\n",
       "      <td>...</td>\n",
       "      <td>459.95</td>\n",
       "      <td>No</td>\n",
       "      <td>0</td>\n",
       "      <td>0</td>\n",
       "      <td>0</td>\n",
       "      <td>0</td>\n",
       "      <td>1</td>\n",
       "      <td>0</td>\n",
       "      <td>1</td>\n",
       "      <td>0</td>\n",
       "    </tr>\n",
       "    <tr>\n",
       "      <th>3690</th>\n",
       "      <td>2</td>\n",
       "      <td>1</td>\n",
       "      <td>2</td>\n",
       "      <td>5198-HQAEN</td>\n",
       "      <td>Male</td>\n",
       "      <td>0</td>\n",
       "      <td>Yes</td>\n",
       "      <td>35</td>\n",
       "      <td>No</td>\n",
       "      <td>Yes</td>\n",
       "      <td>...</td>\n",
       "      <td>3165.60</td>\n",
       "      <td>No</td>\n",
       "      <td>1</td>\n",
       "      <td>1</td>\n",
       "      <td>0</td>\n",
       "      <td>0</td>\n",
       "      <td>0</td>\n",
       "      <td>1</td>\n",
       "      <td>1</td>\n",
       "      <td>0</td>\n",
       "    </tr>\n",
       "  </tbody>\n",
       "</table>\n",
       "<p>1407 rows × 22 columns</p>\n",
       "</div>"
      ],
      "text/plain": [
       "      internet_service_type_id  payment_type_id  contract_type_id customer_id  \\\n",
       "3311                         3                2                 2  4716-MRVEN   \n",
       "6330                         3                4                 3  8966-KZXXA   \n",
       "6156                         1                1                 1  8720-RQSBJ   \n",
       "5313                         2                1                 1  7504-UWHNB   \n",
       "1176                         1                3                 1  1730-VFMWO   \n",
       "...                        ...              ...               ...         ...   \n",
       "600                          2                3                 2  0877-SDMBN   \n",
       "3946                         3                4                 1  5555-RNPGT   \n",
       "3230                         1                1                 1  4628-CTTLA   \n",
       "349                          3                2                 1  0516-QREYC   \n",
       "3690                         2                1                 2  5198-HQAEN   \n",
       "\n",
       "      gender  senior_citizen dependents  tenure    multiple_lines  \\\n",
       "3311  Female               0         No      29                No   \n",
       "6330    Male               0        Yes      36               Yes   \n",
       "6156    Male               1         No       1                No   \n",
       "5313    Male               0         No      25                No   \n",
       "1176  Female               0         No      34                No   \n",
       "...      ...             ...        ...     ...               ...   \n",
       "600   Female               0         No      54               Yes   \n",
       "3946    Male               0        Yes      10               Yes   \n",
       "3230    Male               0         No      57  No phone service   \n",
       "349   Female               1         No      24                No   \n",
       "3690    Male               0        Yes      35                No   \n",
       "\n",
       "             tech_support  ... total_charges  churn  gender_Male  \\\n",
       "3311  No internet service  ...        599.30     No            0   \n",
       "6330  No internet service  ...        930.95     No            1   \n",
       "6156                   No  ...         44.00     No            1   \n",
       "5313                   No  ...       1729.35     No            1   \n",
       "1176                  Yes  ...       1815.30     No            0   \n",
       "...                   ...  ...           ...    ...          ...   \n",
       "600                    No  ...       5639.05    Yes            0   \n",
       "3946  No internet service  ...        223.90     No            1   \n",
       "3230                   No  ...       2111.45    Yes            1   \n",
       "349   No internet service  ...        459.95     No            0   \n",
       "3690                  Yes  ...       3165.60     No            1   \n",
       "\n",
       "     dependents_Yes  multiple_lines_No phone service  multiple_lines_Yes  \\\n",
       "3311              0                                0                   0   \n",
       "6330              1                                0                   1   \n",
       "6156              0                                0                   0   \n",
       "5313              0                                0                   0   \n",
       "1176              0                                0                   0   \n",
       "...             ...                              ...                 ...   \n",
       "600               0                                0                   1   \n",
       "3946              1                                0                   1   \n",
       "3230              0                                1                   0   \n",
       "349               0                                0                   0   \n",
       "3690              1                                0                   0   \n",
       "\n",
       "      tech_support_No internet service  tech_support_Yes  \\\n",
       "3311                                 1                 0   \n",
       "6330                                 1                 0   \n",
       "6156                                 0                 0   \n",
       "5313                                 0                 0   \n",
       "1176                                 0                 1   \n",
       "...                                ...               ...   \n",
       "600                                  0                 0   \n",
       "3946                                 1                 0   \n",
       "3230                                 0                 0   \n",
       "349                                  1                 0   \n",
       "3690                                 0                 1   \n",
       "\n",
       "      paperless_billing_Yes  churn_Yes  \n",
       "3311                      0          0  \n",
       "6330                      0          0  \n",
       "6156                      0          0  \n",
       "5313                      0          0  \n",
       "1176                      0          0  \n",
       "...                     ...        ...  \n",
       "600                       1          1  \n",
       "3946                      0          0  \n",
       "3230                      1          1  \n",
       "349                       1          0  \n",
       "3690                      1          0  \n",
       "\n",
       "[1407 rows x 22 columns]"
      ]
     },
     "execution_count": 46,
     "metadata": {},
     "output_type": "execute_result"
    }
   ],
   "source": [
    "train, validate, test = prep_telco(df)\n",
    "test"
   ]
  },
  {
   "cell_type": "code",
   "execution_count": null,
   "id": "9d1a1c48",
   "metadata": {},
   "outputs": [],
   "source": []
  },
  {
   "cell_type": "code",
   "execution_count": 47,
   "id": "e74f20c7",
   "metadata": {},
   "outputs": [],
   "source": [
    "predictions = pd.DataFrame(columns=['customer_id','churn_probability','churn_pred','churn_yes'])\n",
    "\n",
    "predictions['customer_id'] = test.customer_id\n",
    "predictions['churn_probability']= pred_prob\n",
    "predictions['churn_yes']= test.churn\n",
    "predictions['churn_pred']= y_prediction\n"
   ]
  },
  {
   "cell_type": "code",
   "execution_count": 48,
   "id": "0dbb2e42",
   "metadata": {},
   "outputs": [],
   "source": [
    "predictions.churn_pred= predictions.churn_pred.map({1: 'Yes',0: 'No'})\n",
    "#predictions.churn_yes = predictions.churn_yes.map({1: 'Yes',0: 'No'})"
   ]
  },
  {
   "cell_type": "code",
   "execution_count": 49,
   "id": "2c17367c",
   "metadata": {
    "scrolled": true
   },
   "outputs": [
    {
     "data": {
      "text/html": [
       "<div>\n",
       "<style scoped>\n",
       "    .dataframe tbody tr th:only-of-type {\n",
       "        vertical-align: middle;\n",
       "    }\n",
       "\n",
       "    .dataframe tbody tr th {\n",
       "        vertical-align: top;\n",
       "    }\n",
       "\n",
       "    .dataframe thead th {\n",
       "        text-align: right;\n",
       "    }\n",
       "</style>\n",
       "<table border=\"1\" class=\"dataframe\">\n",
       "  <thead>\n",
       "    <tr style=\"text-align: right;\">\n",
       "      <th></th>\n",
       "      <th>customer_id</th>\n",
       "      <th>churn_probability</th>\n",
       "      <th>churn_pred</th>\n",
       "      <th>churn_yes</th>\n",
       "    </tr>\n",
       "  </thead>\n",
       "  <tbody>\n",
       "    <tr>\n",
       "      <th>3311</th>\n",
       "      <td>4716-MRVEN</td>\n",
       "      <td>0.965243</td>\n",
       "      <td>No</td>\n",
       "      <td>No</td>\n",
       "    </tr>\n",
       "    <tr>\n",
       "      <th>6330</th>\n",
       "      <td>8966-KZXXA</td>\n",
       "      <td>0.991599</td>\n",
       "      <td>No</td>\n",
       "      <td>No</td>\n",
       "    </tr>\n",
       "    <tr>\n",
       "      <th>6156</th>\n",
       "      <td>8720-RQSBJ</td>\n",
       "      <td>0.491628</td>\n",
       "      <td>Yes</td>\n",
       "      <td>No</td>\n",
       "    </tr>\n",
       "    <tr>\n",
       "      <th>5313</th>\n",
       "      <td>7504-UWHNB</td>\n",
       "      <td>0.664970</td>\n",
       "      <td>No</td>\n",
       "      <td>No</td>\n",
       "    </tr>\n",
       "    <tr>\n",
       "      <th>1176</th>\n",
       "      <td>1730-VFMWO</td>\n",
       "      <td>0.917916</td>\n",
       "      <td>No</td>\n",
       "      <td>No</td>\n",
       "    </tr>\n",
       "    <tr>\n",
       "      <th>...</th>\n",
       "      <td>...</td>\n",
       "      <td>...</td>\n",
       "      <td>...</td>\n",
       "      <td>...</td>\n",
       "    </tr>\n",
       "    <tr>\n",
       "      <th>600</th>\n",
       "      <td>0877-SDMBN</td>\n",
       "      <td>0.764179</td>\n",
       "      <td>No</td>\n",
       "      <td>Yes</td>\n",
       "    </tr>\n",
       "    <tr>\n",
       "      <th>3946</th>\n",
       "      <td>5555-RNPGT</td>\n",
       "      <td>0.852208</td>\n",
       "      <td>No</td>\n",
       "      <td>No</td>\n",
       "    </tr>\n",
       "    <tr>\n",
       "      <th>3230</th>\n",
       "      <td>4628-CTTLA</td>\n",
       "      <td>0.919210</td>\n",
       "      <td>No</td>\n",
       "      <td>Yes</td>\n",
       "    </tr>\n",
       "    <tr>\n",
       "      <th>349</th>\n",
       "      <td>0516-QREYC</td>\n",
       "      <td>0.812999</td>\n",
       "      <td>No</td>\n",
       "      <td>No</td>\n",
       "    </tr>\n",
       "    <tr>\n",
       "      <th>3690</th>\n",
       "      <td>5198-HQAEN</td>\n",
       "      <td>0.840865</td>\n",
       "      <td>No</td>\n",
       "      <td>No</td>\n",
       "    </tr>\n",
       "  </tbody>\n",
       "</table>\n",
       "<p>1407 rows × 4 columns</p>\n",
       "</div>"
      ],
      "text/plain": [
       "     customer_id  churn_probability churn_pred churn_yes\n",
       "3311  4716-MRVEN           0.965243         No        No\n",
       "6330  8966-KZXXA           0.991599         No        No\n",
       "6156  8720-RQSBJ           0.491628        Yes        No\n",
       "5313  7504-UWHNB           0.664970         No        No\n",
       "1176  1730-VFMWO           0.917916         No        No\n",
       "...          ...                ...        ...       ...\n",
       "600   0877-SDMBN           0.764179         No       Yes\n",
       "3946  5555-RNPGT           0.852208         No        No\n",
       "3230  4628-CTTLA           0.919210         No       Yes\n",
       "349   0516-QREYC           0.812999         No        No\n",
       "3690  5198-HQAEN           0.840865         No        No\n",
       "\n",
       "[1407 rows x 4 columns]"
      ]
     },
     "execution_count": 49,
     "metadata": {},
     "output_type": "execute_result"
    }
   ],
   "source": [
    "predictions"
   ]
  },
  {
   "cell_type": "code",
   "execution_count": 50,
   "id": "23d2e844",
   "metadata": {},
   "outputs": [],
   "source": [
    "predictions.to_csv(\"probability_of_churn_in_telco\")"
   ]
  }
 ],
 "metadata": {
  "kernelspec": {
   "display_name": "Python 3 (ipykernel)",
   "language": "python",
   "name": "python3"
  },
  "language_info": {
   "codemirror_mode": {
    "name": "ipython",
    "version": 3
   },
   "file_extension": ".py",
   "mimetype": "text/x-python",
   "name": "python",
   "nbconvert_exporter": "python",
   "pygments_lexer": "ipython3",
   "version": "3.9.7"
  }
 },
 "nbformat": 4,
 "nbformat_minor": 5
}
